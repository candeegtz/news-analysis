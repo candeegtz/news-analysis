{
 "cells": [
  {
   "cell_type": "markdown",
   "id": "b7104f06",
   "metadata": {},
   "source": [
    "# Trabajo de Inteligencia artificial\n",
    " ## Análisis de noticias\n",
    "\n",
    " Realizado por:\n",
    " - Marta Aguilar Morcillo\n",
    " - Candela Jazmín Gutiérrez González\n",
    "\n",
    "Fecha: 30/05/2025\n",
    "\n",
    "Convocatoria de junio.\n",
    "\n",
    " ## 1. Lectura de datos\n",
    "\n",
    " Se comenzará con la lectura del corpus.\n"
   ]
  },
  {
   "cell_type": "code",
   "execution_count": null,
   "id": "60c793a6",
   "metadata": {
    "vscode": {
     "languageId": "plaintext"
    }
   },
   "outputs": [],
   "source": [
    "import pandas\n",
    "import numpy\n",
    "import os\n",
    "import csv\n",
    "\n"
   ]
  }
 ],
 "metadata": {
  "language_info": {
   "name": "python"
  }
 },
 "nbformat": 4,
 "nbformat_minor": 5
}
