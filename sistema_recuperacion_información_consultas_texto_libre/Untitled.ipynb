{
 "cells": [
  {
   "cell_type": "code",
   "execution_count": 3,
   "id": "17bea6ec",
   "metadata": {},
   "outputs": [
    {
     "name": "stdout",
     "output_type": "stream",
     "text": [
      "\n",
      "🔍 Temas ampliados (1 por lista original):\n",
      "\n",
      "🟩 Tema 1 — Original: ['child', 'family', 'welfare']\n",
      "➕ Ampliado: ['baby', 'benefit', 'category', 'child', 'class', 'crime syndicate', 'eudaemonia', 'eudaimonia', 'family', 'family line', 'family unit', 'fellowship', 'folk', 'fry', 'home', 'house', 'household', 'kid', 'kin', 'kinfolk', 'kinsfolk', 'kinsperson', 'menage', 'minor', 'mob', 'nestling', 'nipper', 'phratry', 'public assistance', 'sept', 'shaver', 'small fry', 'social welfare', 'syndicate', 'tiddler', 'tike', 'tyke', 'upbeat', 'welfare', 'well-being', 'wellbeing', 'youngster']\n",
      "\n",
      "🟩 Tema 2 — Original: ['technology', 'science', 'space']\n",
      "➕ Ampliado: ['applied science', 'blank', 'blank space', 'distance', 'engineering', 'engineering science', 'infinite', 'outer space', 'place', 'quad', 'science', 'scientific discipline', 'skill', 'space', 'technology']\n",
      "\n",
      "🟩 Tema 3 — Original: ['sports', 'match', 'score']\n",
      "➕ Ampliado: ['account', 'agree', 'athletics', 'boast', 'catch', 'cavort', 'check', 'compeer', 'cope with', 'correspond', 'couple', 'disport', 'equal', 'equalise', 'equalize', 'equate', 'feature', 'fit', 'friction match', 'frisk', 'frolic', 'fun', 'gambol', 'gibe', 'grade', 'grievance', 'grudge', 'hit', 'jibe', 'lark', 'lark about', 'lucifer', 'make', 'mark', 'match', 'mate', 'mates', 'meet', 'musical score', 'mutant', 'mutation', 'nock', 'oppose', 'pair', 'peer', 'pit', 'play', 'play off', 'rack up', 'rival', 'rollick', 'romp', 'run around', 'score', 'scotch', 'seduce', 'sexual conquest', 'skylark', 'sport', 'sports', 'sportsman', 'sportswoman', 'summercater', 'tally', 'touch', 'twin', 'variation']\n",
      "\n",
      "🟩 Tema 4 — Original: ['opinion', 'public', 'speech']\n",
      "➕ Ampliado: [\"actor's line\", 'address', 'belief', 'delivery', 'feeling', 'impression', 'judgement', 'judgment', 'language', 'lecture', 'legal opinion', 'manner of speaking', 'notion', 'opinion', 'oral communication', 'persuasion', 'populace', 'popular opinion', 'public', 'public opinion', 'ruling', 'sentiment', 'speech', 'speech communication', 'spoken communication', 'spoken language', 'talking to', 'thought', 'view', 'voice communication', 'vox populi', 'words', 'world']\n",
      "\n",
      "🟩 Tema 5 — Original: ['art', 'culture', 'awards']\n",
      "➕ Ampliado: ['accolade', 'acculturation', 'art', 'artistic creation', 'artistic production', 'artistry', 'artwork', 'award', 'awarding', 'awards', 'civilisation', 'civilization', 'cultivation', 'culture', 'fine art', 'finish', 'grant', 'graphics', 'honor', 'honour', 'laurels', 'nontextual matter', 'polish', 'present', 'prize', 'prowess', 'refinement']\n",
      "\n",
      "🟩 Tema 6 — Original: ['infrastructure', 'urbanism', 'transport', 'traffic']\n",
      "➕ Ampliado: ['base', 'carry', 'channel', 'channelise', 'channelize', 'conveyance', 'dealings', 'delight', 'ecstasy', 'enchant', 'enrapture', 'enthral', 'enthrall', 'exaltation', 'infrastructure', 'rapture', 'raptus', 'ravish', 'send', 'ship', 'shipping', 'substructure', 'tape drive', 'tape transport', 'traffic', 'transfer', 'transferral', 'transmit', 'transport', 'transportation', 'urbanism']\n",
      "\n",
      "🟩 Tema 7 — Original: ['politics', 'government', 'law']\n",
      "➕ Ampliado: ['administration', 'authorities', 'constabulary', 'governance', 'governing', 'government', 'government activity', 'jurisprudence', 'law', 'law of nature', 'legal philosophy', 'natural law', 'police', 'police force', 'political relation', 'political science', 'political sympathies', 'politics', 'practice of law', 'regime']\n",
      "\n",
      "🟩 Tema 8 — Original: ['justice', 'crime']\n",
      "➕ Ampliado: ['crime', 'criminal offence', 'criminal offense', 'department of justice', 'doj', 'judge', 'jurist', 'justice', 'justice department', 'justness', 'law-breaking', 'offence', 'offense']\n",
      "\n",
      "🟩 Tema 9 — Original: ['conflict', 'international', 'security']\n",
      "➕ Ampliado: ['battle', 'certificate', 'conflict', 'contravene', 'difference', 'difference of opinion', 'dispute', 'engagement', 'external', 'fight', 'infringe', 'international', 'outside', 'protection', 'run afoul', 'security', 'security department', 'security measure', 'security measures', 'security system', 'struggle', 'surety']\n",
      "\n",
      "🟩 Tema 10 — Original: ['religion']\n",
      "➕ Ampliado: ['faith', 'organized religion', 'religion', 'religious belief']\n",
      "\n",
      "🟩 Tema 11 — Original: ['ecology']\n",
      "➕ Ampliado: ['bionomics', 'ecology', 'environmental science']\n",
      "\n",
      "🟩 Tema 12 — Original: ['justice', 'crime']\n",
      "➕ Ampliado: ['crime', 'criminal offence', 'criminal offense', 'department of justice', 'doj', 'judge', 'jurist', 'justice', 'justice department', 'justness', 'law-breaking', 'offence', 'offense']\n",
      "\n",
      "🟩 Tema 13 — Original: ['health', 'sickness']\n",
      "➕ Ampliado: ['health', 'illness', 'malady', 'nausea', 'sickness', 'unwellness', 'wellness']\n"
     ]
    },
    {
     "name": "stderr",
     "output_type": "stream",
     "text": [
      "[nltk_data] Downloading package wordnet to\n",
      "[nltk_data]     C:\\Users\\Usuario\\AppData\\Roaming\\nltk_data...\n",
      "[nltk_data]   Package wordnet is already up-to-date!\n"
     ]
    }
   ],
   "source": [
    "from nltk.corpus import wordnet as wn\n",
    "from nltk import download\n",
    "\n",
    "download('wordnet')\n",
    "\n",
    "# Tus temas originales\n",
    "temas = [ \n",
    "    [\"child\", \"family\", \"welfare\"],\n",
    "    [\"technology\", \"science\", \"space\"],\n",
    "    [\"sports\", \"match\", \"score\"],\n",
    "    [\"opinion\", \"public\", \"speech\"],\n",
    "    [\"art\", \"culture\", \"awards\"],\n",
    "    [\"infrastructure\", \"urbanism\", \"transport\", \"traffic\"],\n",
    "    [\"politics\", \"government\", \"law\"],\n",
    "    [\"justice\", \"crime\"],\n",
    "    [\"conflict\", \"international\", \"security\"],\n",
    "    [\"religion\"],\n",
    "    [\"ecology\"],\n",
    "    [\"justice\", \"crime\"],\n",
    "    [\"health\", \"sickness\"]\n",
    "]\n",
    "\n",
    "# Función para expandir un término con sinónimos o palabras de la misma familia\n",
    "def expand_term(term):\n",
    "    related = set()\n",
    "    for syn in wn.synsets(term):\n",
    "        for lemma in syn.lemmas():\n",
    "            word = lemma.name().replace('_', ' ').lower()\n",
    "            if word != term:\n",
    "                related.add(word)\n",
    "    return related\n",
    "\n",
    "# Expandir cada tema, respetando la agrupación\n",
    "temas_expandido = []\n",
    "\n",
    "print(\"\\n🔍 Temas ampliados (1 por lista original):\")\n",
    "for i, grupo in enumerate(temas):\n",
    "    base = set(grupo)\n",
    "    extendido = set(grupo)\n",
    "    for palabra in base:\n",
    "        extendido.update(expand_term(palabra))\n",
    "    temas_expandido.append(sorted(extendido))\n",
    "    print(f\"\\n🟩 Tema {i+1} — Original: {grupo}\")\n",
    "    print(f\"➕ Ampliado: {sorted(extendido)}\")\n"
   ]
  },
  {
   "cell_type": "code",
   "execution_count": null,
   "id": "c32b5b09",
   "metadata": {},
   "outputs": [],
   "source": [
    "# OPCIÓN 2: obtener las palabras que deberían incluirse a partir de los documentos\n"
   ]
  }
 ],
 "metadata": {
  "kernelspec": {
   "display_name": "Python 3 (ipykernel)",
   "language": "python",
   "name": "python3"
  },
  "language_info": {
   "codemirror_mode": {
    "name": "ipython",
    "version": 3
   },
   "file_extension": ".py",
   "mimetype": "text/x-python",
   "name": "python",
   "nbconvert_exporter": "python",
   "pygments_lexer": "ipython3",
   "version": "3.9.12"
  }
 },
 "nbformat": 4,
 "nbformat_minor": 5
}
