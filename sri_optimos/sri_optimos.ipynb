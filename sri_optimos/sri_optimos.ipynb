{
 "cells": [
  {
   "cell_type": "markdown",
   "id": "48ef5594-63dc-4ec7-9042-9ff2b95bf8a7",
   "metadata": {},
   "source": [
    " ## 1. Lectura de datos"
   ]
  },
  {
   "cell_type": "code",
   "execution_count": 186,
   "id": "664d7227-c596-4ba9-9265-2ba17abe1b4e",
   "metadata": {},
   "outputs": [
    {
     "name": "stdout",
     "output_type": "stream",
     "text": [
      "Requirement already satisfied: nltk in c:\\users\\marta\\onedrive\\escritorio\\ia\\anaconda\\envs\\spacy_env\\lib\\site-packages (3.9.1)\n",
      "Requirement already satisfied: click in c:\\users\\marta\\onedrive\\escritorio\\ia\\anaconda\\envs\\spacy_env\\lib\\site-packages (from nltk) (8.2.1)\n",
      "Requirement already satisfied: joblib in c:\\users\\marta\\onedrive\\escritorio\\ia\\anaconda\\envs\\spacy_env\\lib\\site-packages (from nltk) (1.5.1)\n",
      "Requirement already satisfied: regex>=2021.8.3 in c:\\users\\marta\\onedrive\\escritorio\\ia\\anaconda\\envs\\spacy_env\\lib\\site-packages (from nltk) (2024.11.6)\n",
      "Requirement already satisfied: tqdm in c:\\users\\marta\\onedrive\\escritorio\\ia\\anaconda\\envs\\spacy_env\\lib\\site-packages (from nltk) (4.67.1)\n",
      "Requirement already satisfied: colorama in c:\\users\\marta\\onedrive\\escritorio\\ia\\anaconda\\envs\\spacy_env\\lib\\site-packages (from click->nltk) (0.4.6)\n"
     ]
    },
    {
     "name": "stderr",
     "output_type": "stream",
     "text": [
      "[nltk_data] Downloading package punkt_tab to\n",
      "[nltk_data]     C:\\Users\\marta\\AppData\\Roaming\\nltk_data...\n",
      "[nltk_data]   Package punkt_tab is already up-to-date!\n",
      "[nltk_data] Downloading package averaged_perceptron_tagger to\n",
      "[nltk_data]     C:\\Users\\marta\\AppData\\Roaming\\nltk_data...\n",
      "[nltk_data]   Package averaged_perceptron_tagger is already up-to-\n",
      "[nltk_data]       date!\n",
      "[nltk_data] Downloading package averaged_perceptron_tagger_eng to\n",
      "[nltk_data]     C:\\Users\\marta\\AppData\\Roaming\\nltk_data...\n",
      "[nltk_data]   Package averaged_perceptron_tagger_eng is already up-to-\n",
      "[nltk_data]       date!\n",
      "[nltk_data] Downloading package wordnet to\n",
      "[nltk_data]     C:\\Users\\marta\\AppData\\Roaming\\nltk_data...\n",
      "[nltk_data]   Package wordnet is already up-to-date!\n",
      "[nltk_data] Downloading package omw-1.4 to\n",
      "[nltk_data]     C:\\Users\\marta\\AppData\\Roaming\\nltk_data...\n",
      "[nltk_data]   Package omw-1.4 is already up-to-date!\n"
     ]
    },
    {
     "data": {
      "text/plain": [
       "True"
      ]
     },
     "execution_count": 186,
     "metadata": {},
     "output_type": "execute_result"
    }
   ],
   "source": [
    "!pip install nltk\n",
    "import nltk\n",
    "\n",
    "from nltk import download\n",
    "\n",
    "download('punkt_tab')                           # Tokenización\n",
    "nltk.download('averaged_perceptron_tagger')     # POS tagging\n",
    "nltk.download('averaged_perceptron_tagger_eng') # POS tagging\n",
    "nltk.download('wordnet')                        # WordNet lemmatizer\n",
    "nltk.download('omw-1.4')                        # WordNet multilingüe"
   ]
  },
  {
   "cell_type": "code",
   "execution_count": 187,
   "id": "a763f51b-d254-49b1-9642-c4ef91d2e21f",
   "metadata": {},
   "outputs": [],
   "source": [
    "from nltk.tokenize import word_tokenize\n",
    "from nltk.stem.lancaster import LancasterStemmer\n",
    "from nltk.corpus import stopwords\n",
    "from nltk.data import path\n",
    "from nltk.stem import WordNetLemmatizer\n",
    "from nltk import pos_tag\n",
    "from sklearn.feature_extraction.text import TfidfVectorizer\n",
    "from collections import defaultdict\n",
    "from nltk.corpus import wordnet as wn\n",
    "import numpy as np\n",
    "\n",
    "path.append(\".\")"
   ]
  },
  {
   "cell_type": "code",
   "execution_count": 188,
   "id": "1c81921b-6b6f-4e41-b7d2-ba1e3685fcff",
   "metadata": {
    "scrolled": true
   },
   "outputs": [
    {
     "name": "stdout",
     "output_type": "stream",
     "text": [
      "Requirement already satisfied: contractions in c:\\users\\marta\\onedrive\\escritorio\\ia\\anaconda\\envs\\spacy_env\\lib\\site-packages (0.1.73)\n",
      "Requirement already satisfied: textsearch>=0.0.21 in c:\\users\\marta\\onedrive\\escritorio\\ia\\anaconda\\envs\\spacy_env\\lib\\site-packages (from contractions) (0.0.24)\n",
      "Requirement already satisfied: anyascii in c:\\users\\marta\\onedrive\\escritorio\\ia\\anaconda\\envs\\spacy_env\\lib\\site-packages (from textsearch>=0.0.21->contractions) (0.3.2)\n",
      "Requirement already satisfied: pyahocorasick in c:\\users\\marta\\onedrive\\escritorio\\ia\\anaconda\\envs\\spacy_env\\lib\\site-packages (from textsearch>=0.0.21->contractions) (2.1.0)\n"
     ]
    }
   ],
   "source": [
    "!pip install contractions\n",
    "import contractions"
   ]
  },
  {
   "cell_type": "code",
   "execution_count": 189,
   "id": "87eb78f2-614e-4ccb-b4de-9ed2ae89abc3",
   "metadata": {},
   "outputs": [],
   "source": [
    "import csv\n",
    "import pandas as pd\n",
    "from bs4 import BeautifulSoup\n",
    "from pprint import pprint\n",
    "import re\n",
    "from bs4 import MarkupResemblesLocatorWarning\n",
    "import warnings"
   ]
  },
  {
   "cell_type": "code",
   "execution_count": 190,
   "id": "0600f1f9-ea7b-4279-b084-e340b41f83df",
   "metadata": {},
   "outputs": [],
   "source": [
    "from sklearn.pipeline import Pipeline\n",
    "from sklearn.feature_extraction.text import TfidfVectorizer\n",
    "from sklearn.neighbors import KNeighborsClassifier\n",
    "from sklearn.metrics import recall_score\n",
    "from sklearn.feature_extraction.text import TfidfVectorizer\n",
    "from sklearn.pipeline import Pipeline\n",
    "from sklearn.feature_extraction.text import TfidfTransformer\n",
    "from sklearn.neighbors import KNeighborsClassifier\n",
    "import spacy"
   ]
  },
  {
   "cell_type": "code",
   "execution_count": 191,
   "id": "9ec4bf2f",
   "metadata": {},
   "outputs": [
    {
     "name": "stdout",
     "output_type": "stream",
     "text": [
      "Requirement already satisfied: whoosh in c:\\users\\marta\\onedrive\\escritorio\\ia\\anaconda\\envs\\spacy_env\\lib\\site-packages (2.7.4)\n"
     ]
    }
   ],
   "source": [
    "import json\n",
    "import os\n",
    "import shutil\n",
    "from sklearn.metrics.pairwise import cosine_similarity\n",
    "from collections import Counter\n",
    "from collections import defaultdict\n",
    "from tempfile import mkdtemp\n",
    "\n",
    "!pip install whoosh\n",
    "from whoosh.index import create_in\n",
    "from whoosh.index import open_dir\n",
    "from whoosh.fields import Schema, TEXT, ID\n",
    "from whoosh.qparser import QueryParser\n",
    "from whoosh.analysis import StemmingAnalyzer\n",
    "from whoosh import scoring\n",
    "from whoosh.query import Term, Or"
   ]
  },
  {
   "cell_type": "code",
   "execution_count": 192,
   "id": "a4734533-b325-41d9-afcc-bde22a4c36f7",
   "metadata": {},
   "outputs": [],
   "source": [
    "warnings.filterwarnings(\"ignore\", category=MarkupResemblesLocatorWarning)"
   ]
  },
  {
   "cell_type": "code",
   "execution_count": 193,
   "id": "590d2b1f-c1bd-47f5-84e9-35b82ba8e136",
   "metadata": {},
   "outputs": [],
   "source": [
    "palabras_vacias_ingles = stopwords.words('english')"
   ]
  },
  {
   "cell_type": "code",
   "execution_count": 194,
   "id": "c1465605",
   "metadata": {},
   "outputs": [],
   "source": [
    "nlp = spacy.load(\"en_core_web_sm\")"
   ]
  },
  {
   "cell_type": "code",
   "execution_count": 195,
   "id": "5f0d9972-08dd-4181-9d8c-124eed854eaa",
   "metadata": {},
   "outputs": [],
   "source": [
    "def elimina_html(contenido):\n",
    "    return BeautifulSoup(contenido).get_text()\n",
    "\n",
    "def elimina_no_alfanumerico(contenido):\n",
    "    return [re.sub(r'[^\\w]', '', palabra)\n",
    "            for palabra in contenido\n",
    "            if re.search(r'\\w', palabra)]\n",
    "\n",
    "def expandir_constracciones(contenido):\n",
    "    return contractions.fix(contenido)\n",
    "\n",
    "def pasar_a_minuscula(contenido):\n",
    "    return contenido.lower()\n",
    "\n",
    "def limpiar_texto(texto):\n",
    "    texto = re.sub(r'[^a-zA-Z\\s]', ' ', texto)  # Reemplaza todo lo que no es letra o espacio con espacio\n",
    "    texto = re.sub(r'\\s+', ' ', texto).strip()\n",
    "    return texto\n",
    "\n",
    "def elimina_palabras_vacias(contenido):\n",
    "    return [palabra for palabra in contenido if palabra not in palabras_vacias_ingles]\n",
    "\n",
    "def lematizador(contenido):\n",
    "    lemmatizer = WordNetLemmatizer()\n",
    "    pos_tags = pos_tag(contenido)\n",
    "\n",
    "    resultado = []\n",
    "    for palabra, tag in pos_tags:\n",
    "        if tag.startswith('VB'):  # Verbos\n",
    "            resultado.append(lemmatizer.lemmatize(palabra, pos='v'))  # infinitivo\n",
    "        else:  # Sustantivos y el resto tal como están\n",
    "            resultado.append(palabra)\n",
    "\n",
    "    return resultado\n",
    "\n",
    "def extraer_noun_chunks(tokens):\n",
    "    resultados = []\n",
    "    doc = nlp(\" \".join(tokens))\n",
    "\n",
    "    noun_chunks = [chunk.text.lower().strip() for chunk in doc.noun_chunks if len(chunk.text.split()) <= 3]\n",
    "    noun_chunks_set = set(noun_chunks)\n",
    "\n",
    "    i = 0\n",
    "    while i < len(tokens):\n",
    "        composed2 = \" \".join(tokens[i:i+2]).lower()\n",
    " \n",
    "        if composed2 in noun_chunks_set:\n",
    "            i += 2 \n",
    "        else:\n",
    "            resultados.append(tokens[i].lower())\n",
    "            i += 1\n",
    "\n",
    "    return resultados + noun_chunks\n"
   ]
  },
  {
   "cell_type": "code",
   "execution_count": 196,
   "id": "be069f95-8d51-4137-82e6-c94ce64d6cf1",
   "metadata": {},
   "outputs": [],
   "source": [
    "def proceso_contenido(texto):\n",
    "    texto = elimina_html(texto)\n",
    "    texto = expandir_constracciones(texto)\n",
    "    texto = pasar_a_minuscula(texto)\n",
    "    texto = limpiar_texto(texto)                # Limpiar antes de tokenizar\n",
    "    tokens = word_tokenize(texto)               \n",
    "    tokens = elimina_no_alfanumerico(tokens)    # Limpiar tokens individuales\n",
    "    tokens = elimina_palabras_vacias(tokens)\n",
    "    tokens = lematizador(tokens)\n",
    "    return tokens"
   ]
  },
  {
   "cell_type": "markdown",
   "id": "e2ab91af-6889-4d35-bf21-77a356505272",
   "metadata": {},
   "source": [
    " ## 2. Construcción de ambos sistemas de recuperación de la información"
   ]
  },
  {
   "cell_type": "code",
   "execution_count": 197,
   "id": "7a47e609-1ae0-4c06-a890-346ed46c17bf",
   "metadata": {},
   "outputs": [],
   "source": [
    "def procesar_csv_corpus(ruta_csv):\n",
    "    \"\"\"\n",
    "    Carga y procesa un archivo CSV con tres columnas: autor, título y cuerpo.\n",
    "    Aplica la función proceso_contenido a cada parte y devuelve una lista de listas procesadas.\n",
    "    \n",
    "    Parámetros:\n",
    "        ruta_csv (str): Ruta al archivo CSV. Por defecto es \"news_corpus.csv\".\n",
    "    \n",
    "    Retorna:\n",
    "        list: Lista donde cada elemento es una lista combinada del contenido procesado.\n",
    "    \"\"\"\n",
    "    # Cargar CSV con codificación segura y punto y coma como separador\n",
    "    df = pd.read_csv(ruta_csv, encoding=\"latin-1\", sep=\";\", quotechar='\"')\n",
    "\n",
    "    # Verificar que tenga exactamente 3 columnas\n",
    "    assert df.shape[1] == 3, \"El CSV no tiene exactamente 3 columnas. Revisa el separador o las comillas.\"\n",
    "\n",
    "    resultados = []\n",
    "\n",
    "    for _, fila in df.iterrows():\n",
    "        autor = fila.iloc[0]\n",
    "        titulo = fila.iloc[1]\n",
    "        cuerpo = fila.iloc[2]\n",
    "\n",
    "        autor_proc = proceso_contenido(autor)\n",
    "        titulo_proc = proceso_contenido(titulo)\n",
    "        cuerpo_proc = proceso_contenido(cuerpo)\n",
    "\n",
    "        # Unir las tres listas en una sola lista combinada\n",
    "        fila_combinada = autor_proc + titulo_proc + cuerpo_proc\n",
    "        resultados.append(fila_combinada)\n",
    "    \n",
    "    return resultados"
   ]
  },
  {
   "cell_type": "code",
   "execution_count": 198,
   "id": "f5dec715-f745-4ddc-b33d-826a536f516f",
   "metadata": {},
   "outputs": [],
   "source": [
    "def documentos_corpus_cuerpo(ruta_csv):\n",
    "    # Cargar CSV con codificación segura y punto y coma como separador\n",
    "    df = pd.read_csv(ruta_csv, encoding=\"latin-1\", sep=\";\", quotechar='\"')\n",
    "\n",
    "    # Verificar que tenga exactamente 3 columnas\n",
    "    assert df.shape[1] == 3, \"El CSV no tiene exactamente 3 columnas. Revisa el separador o las comillas.\"\n",
    "\n",
    "    resultados = []\n",
    "\n",
    "    for _, fila in df.iterrows():\n",
    "        cuerpo = fila.iloc[2]\n",
    "        resultados.append(cuerpo)\n",
    "\n",
    "    return resultados"
   ]
  },
  {
   "cell_type": "code",
   "execution_count": 199,
   "id": "801b520c",
   "metadata": {},
   "outputs": [],
   "source": [
    "def lectura_normalizada_corpus():\n",
    "    df = pd.read_csv(\"news_corpus.csv\", encoding=\"latin-1\", sep=\";\", quotechar='\"')\n",
    "    resultados = []\n",
    "\n",
    "    for index, fila in df.iterrows():\n",
    "        autor = [fila.iloc[0]]\n",
    "        titulo = fila.iloc[1]\n",
    "        cuerpo = fila.iloc[2]   \n",
    "\n",
    "        titulo_proc = proceso_contenido(titulo)\n",
    "        cuerpo_proc = proceso_contenido(cuerpo)\n",
    "\n",
    "        # Unir las tres listas en una sola lista combinada\n",
    "        fila_combinada =  autor + titulo_proc + cuerpo_proc\n",
    "\n",
    "        contenido_final = extraer_noun_chunks(fila_combinada)\n",
    "        resultados.append(contenido_final)\n",
    "    return resultados\n",
    "\n",
    "def expand_term(term):\n",
    "    related = set()\n",
    "    for syn in wn.synsets(term):\n",
    "        for lemma in syn.lemmas():\n",
    "            word = lemma.name().replace('_', ' ').lower()\n",
    "            if word != term:\n",
    "                related.add(word)\n",
    "    return related\n",
    "\n",
    "def expand_corpus_with_synonyms(documento):\n",
    "    doc_counter = Counter(documento)\n",
    "    expanded_doc = []\n",
    "    for word, count in doc_counter.items():\n",
    "        # Añadimos la palabra original tantas veces como aparece\n",
    "        expanded_doc.extend([word] * count)\n",
    "        # Obtenemos sinónimos y también los añadimos con la misma frecuencia\n",
    "        synonyms = expand_term(word)\n",
    "        for syn in synonyms:\n",
    "            expanded_doc.extend([syn] * count)\n",
    "    return expanded_doc\n",
    "\n",
    "\n",
    "def crear_indice_whoosh(corpus_normalizado):\n",
    "    if os.path.exists(\"indice_whoosh\"):\n",
    "        shutil.rmtree(\"indice_whoosh\")  # Elimina índice anterior si existe\n",
    "    os.mkdir(\"indice_whoosh\")\n",
    "\n",
    "    schema = Schema(id=ID(stored=True, unique=True), contenido=TEXT(stored=True))\n",
    "    ix = create_in(\"indice_whoosh\", schema)\n",
    "    writer = ix.writer()\n",
    "\n",
    "    for i, doc in enumerate(corpus_normalizado):\n",
    "        contenido = \" \".join(doc)\n",
    "        writer.add_document(id=str(i), contenido=contenido)\n",
    "    \n",
    "    writer.commit()\n",
    "\n",
    "\n",
    "def buscar_con_whoosh(tokens_query, corpus_normalizado):\n",
    "    ix = open_dir(\"indice_whoosh\")  # Abrir índice Whoosh previamente creado\n",
    "\n",
    "    with ix.searcher() as searcher:\n",
    "        # Crear la consulta OR con todos los términos\n",
    "        terms = [Term(\"contenido\", token) for token in tokens_query]\n",
    "        query = Or(terms)\n",
    "\n",
    "        resultados = searcher.search(query, limit=None)\n",
    "\n",
    "        # Crear diccionario: clave = doc_id, valor = documento procesado\n",
    "        docs_encontrados = []\n",
    "        indices_docs = []\n",
    "        for hit in resultados:\n",
    "            doc_id = int(hit['id'])\n",
    "            docs_encontrados.append(corpus_normalizado[doc_id])\n",
    "            indices_docs.append(doc_id)\n",
    "\n",
    "        return docs_encontrados, indices_docs\n"
   ]
  },
  {
   "cell_type": "code",
   "execution_count": 200,
   "id": "bf1c0d9c-a0c4-44b2-9401-25809bcab5bb",
   "metadata": {},
   "outputs": [],
   "source": [
    "def crear_indice_whoosh_para_corpus(subcorpus, ruta_indice=\"indice\"):\n",
    "    \"\"\"\n",
    "    Crea un índice Whoosh para un subcorpus dado y lo guarda en disco.\n",
    "\n",
    "    Parámetros:\n",
    "        subcorpus (list of list of str): Lista de documentos tokenizados.\n",
    "        ruta_indice (str): Carpeta donde se almacenará el índice Whoosh.\n",
    "        offset (int): Valor entero que se suma al índice para generar el doc_id.\n",
    "    \"\"\"\n",
    "    schema = Schema(doc_id=ID(stored=True),\n",
    "                    content=TEXT(stored=True, analyzer=StemmingAnalyzer()))\n",
    "\n",
    "    if not os.path.exists(ruta_indice):\n",
    "        os.mkdir(ruta_indice)\n",
    "\n",
    "    ix = create_in(ruta_indice, schema)\n",
    "    writer = ix.writer()\n",
    "\n",
    "    for i, doc in enumerate(subcorpus):\n",
    "        joined_content = ' '.join(doc)\n",
    "        writer.add_document(doc_id=str(i), content=joined_content)\n",
    "\n",
    "    writer.commit()"
   ]
  },
  {
   "cell_type": "code",
   "execution_count": 201,
   "id": "913fc8c4",
   "metadata": {},
   "outputs": [],
   "source": [
    "def lectura_documento(documento):\n",
    "    documento_procesado = proceso_contenido(documento) \n",
    "    contenido_final = extraer_noun_chunks(documento_procesado)\n",
    "    return contenido_final"
   ]
  },
  {
   "cell_type": "code",
   "execution_count": 202,
   "id": "dea4f3c2",
   "metadata": {},
   "outputs": [],
   "source": [
    "def tfidf_del_documento(documento_normalizado, vectorizer):\n",
    "    # Convertir el documento (lista de tokens) a string\n",
    "    texto = \" \".join(documento_normalizado)\n",
    "    # Transformar usando el vectorizador ya entrenado\n",
    "    X_doc = vectorizer.transform([texto])  # devuelve matriz sparse 1xN\n",
    "    return X_doc"
   ]
  },
  {
   "cell_type": "code",
   "execution_count": 203,
   "id": "11698ff1",
   "metadata": {},
   "outputs": [],
   "source": [
    "def tfidf_por_corpus(corpus_normalizado):\n",
    "    # Convertimos el corpus a lista de strings\n",
    "    texts = [\" \".join(doc) for doc in corpus_normalizado]\n",
    "\n",
    "    # Vectorizador TF-IDF (1 y 2-gramas)\n",
    "    vectorizer = TfidfVectorizer(ngram_range=(1, 2))\n",
    "    X = vectorizer.fit_transform(texts)  # Matriz TF-IDF sparse\n",
    "    terms = vectorizer.get_feature_names_out()\n",
    "\n",
    "    # Retornamos la matriz y vocabulario (términos)\n",
    "    return X, terms, vectorizer"
   ]
  },
  {
   "cell_type": "code",
   "execution_count": 204,
   "id": "e941da58",
   "metadata": {},
   "outputs": [],
   "source": [
    "def similitud_coseno(tfidf_corpus, tfidf_doc, indices, umbral=0.0):\n",
    "    # Calcular similitud coseno entre documento y corpus\n",
    "    similitudes = cosine_similarity(tfidf_doc, tfidf_corpus).flatten()\n",
    "\n",
    "    # Filtrar documentos que superan el umbral\n",
    "    indices_filtrados = [i for i, sim in enumerate(similitudes) if sim > umbral]\n",
    "\n",
    "    # Ordenar índices por similitud descendente\n",
    "    indices_ordenados = sorted(indices_filtrados, key=lambda i: similitudes[i], reverse=True)\n",
    "\n",
    "    # Devolver lista de (indice, similitud)\n",
    "    return [(indices[i], similitudes[i]) for i in indices_ordenados]\n"
   ]
  },
  {
   "cell_type": "code",
   "execution_count": 205,
   "id": "89cbcdb3-e9db-4286-9362-9f3fbdbe3788",
   "metadata": {},
   "outputs": [],
   "source": [
    "def ranking_documentos_por_consulta(consulta, ruta_csv):\n",
    "    corpus_normalizado = lectura_normalizada_corpus()\n",
    "    documentos = documentos_corpus_cuerpo(ruta_csv)\n",
    "    \n",
    "    crear_indice_whoosh(corpus_normalizado)\n",
    "\n",
    "    lectura = lectura_documento(consulta)\n",
    "    docs_relevantes, indices_docs = buscar_con_whoosh(lectura, corpus_normalizado)\n",
    "    tfidf_corpus, terms, vectorizer = tfidf_por_corpus(docs_relevantes)\n",
    "    tfidf_documento = tfidf_del_documento(lectura, vectorizer)\n",
    "    resultados_similitud = similitud_coseno(tfidf_corpus, tfidf_documento, indices_docs)\n",
    "\n",
    "    for idx, score in resultados_similitud:\n",
    "        print(f\"Documento {idx}: {documentos[idx]}\")\n"
   ]
  },
  {
   "cell_type": "code",
   "execution_count": 206,
   "id": "1afa6922-5de9-400e-8fa6-0f9f12e6d87a",
   "metadata": {},
   "outputs": [],
   "source": [
    "def documentos_consultas_booleanas(consulta, ruta_csv, indice_path=\"indice\"):\n",
    "    documentos_encontrados = set()\n",
    "    documentos_procesados = procesar_csv_corpus(ruta_csv)\n",
    "    documentos = documentos_corpus_cuerpo(ruta_csv)\n",
    "    \n",
    "    crear_indice_whoosh_para_corpus(documentos_procesados)\n",
    "    \n",
    "    ix = open_dir(indice_path)\n",
    "    parser = QueryParser(\"content\", ix.schema)\n",
    "\n",
    "    with ix.searcher(weighting=scoring.BM25F()) as searcher:\n",
    "        try:\n",
    "            query = parser.parse(consulta)\n",
    "            resultados = searcher.search(query, limit=None)\n",
    "            documentos_encontrados = set([r['doc_id'] for r in resultados])\n",
    "        except Exception as e:\n",
    "            print(f\"Error al procesar la consulta '{consulta}': {e}\")\n",
    "\n",
    "    if documentos_encontrados:\n",
    "        for idx_str in sorted(documentos_encontrados):\n",
    "            idx = int(idx_str)\n",
    "            print(f\"Documento {idx}: {documentos[idx]}\")\n",
    "    else:\n",
    "        print(\"No se han encontrado documentos relacionados con su consulta\")"
   ]
  },
  {
   "cell_type": "markdown",
   "id": "0aff8eca-d54f-4454-aad8-e7a342ebb187",
   "metadata": {},
   "source": [
    "## 3. Input para cada uno de los sistemas de recuperación de la información"
   ]
  },
  {
   "cell_type": "code",
   "execution_count": 207,
   "id": "4e88c605-ff24-4927-9b4c-dfccb3ba9565",
   "metadata": {},
   "outputs": [
    {
     "name": "stdin",
     "output_type": "stream",
     "text": [
      "Introduce tu consulta:  donald AND trump\n"
     ]
    },
    {
     "name": "stdout",
     "output_type": "stream",
     "text": [
      "Documento 100: There is only a 5% chance that the Earth will avoid warming by at least 2C come the end of the century, according to new research that paints a sobering picture of the international effort to stem dangerous climate change.Global trends in the economy, emissions and population growth make it extremely unlikely that the planet will remain below the 2C threshold set out in the Paris climate agreement in 2015, the study states. The Paris accord, signed by 195 countries, commits to holding the average global temperature to ?well below 2C? above pre-industrial levels and sets a more aspirational goal to limit warming to 1.5C. This latter target is barely plausible, the new research finds, with just a 1% chance that temperatures will rise by less than 1.5C. ?We?re closer to the margin than we think,? said Adrian Raftery, a University of Washington academic who led the research, published in Nature Climate Change. ?If we want to avoid 2C, we have very little time left. The public should be very concerned.? Governments settled on the 2C threshold partly through political expediency but also because scientists have warned of severe consequences from sea level rise, drought, heatwaves and social unrest should the temperature rise beyond this.  Such risks have been underscored by a separate study, also released on Monday, that shows unabated climate change will cause around 60,000 deaths globally in 2030 and 260,000 deaths by 2100. The study, by the University of North Carolina, found that rising temperatures will exacerbate air pollutants that will particularly threaten those with existing conditions.  According to the University of Washington study, there is a 90% likelihood that temperatures will rise between 2C and 4.9C by 2100. This would put the world in the mid-range warming scenarios mapped out by the UN?s Intergovernmental Panel on Climate Change. It negates the most optimistic outcome as well as the worst case, which would see temperatures climb nearly 6C beyond the pre-industrial era. Rather than look at how greenhouse gases will influence temperature, the new research analyzed the past 50 years of trends in world population, per capita gross domestic product (GDP) and carbon intensity, which is the amount of carbon dioxide emitted for each dollar of economic activity. After building a statistical model covering a range of emissions scenarios, the researchers found that carbon intensity will be a crucial factor in future warming. Technological advances are expected to cut global carbon intensity by 90% over the course of the century, with sharp declines in China and India ? two newly voracious consumers of energy. However, this decline still will not be steep enough to avoid breaching the 2C limit.  The world?s population is expected to grow to about 11 billion people by 2100, but the research found that this will have a relatively small impact upon temperatures as much of this growth will take place in sub-Saharan Africa, which is a minor contributor of greenhouse gas emissions. It has long been acknowledged that emissions cuts promised under the the Paris agreement would not be sufficient to avoid 2C warming. However, it is hoped that periodic reviews of commitments will result in more severe reductions. Donald Trump?s pledge to remove the US, the world?s second-largest emitter, from the accord has cast a large shadow over these ambitions.  ?Even if the 2C target isn?t met, action is very important,? said Raftery. ?The more the temperature increases, the worse the impacts will be. ?We would warn against any tendency to use our results to say that we won?t avoid 2C, and so it?s too late to do anything. On the contrary, avoiding the higher temperature increases that our model envisages is even more important, and also requires urgent action.? Raftery acknowledged that a breakthrough technology could ?dramatically? change the outlook but noted that major advances of the past 50 years, such as the computer, robotics, hybrid cars, the internet and electronic fuel injection, have improved carbon efficiency steadily at around 2% a year, rather than in huge jumps. Andrew Dessler, a climate scientist at Texas A&M University who was not involved in the study, said the research?s conclusions were ?reasonable? but said it was difficult to assign a precise probability to future temperature rises. ?I agree that staying below 2C and 1.5C are unlikely and very, very unlikely, respectively,? he said. ?But this research gives a false sense of rigor. Tomorrow someone could invent a carbon-free energy source that everyone adopts. ?If you look at technology adoption and action taken on the ozone layer and acid rain, it?s clear these things can change faster than people predict.? Dessler said the falling cost of renewable energy would be a major factor in reducing emissions but further impetus would be needed through new actions such as a price on carbon.  ?It?s like you?re driving and about to collide with the car in front of you,? he said. ?You want to hit the brakes as fast as you can. The later you wait, the more painful it?s going to be.?John Sterman, an academic at the MIT Sloan Sustainability Initiative, said the research was an ?urgent call to action?. MIT research has shown that emissions cuts in the Paris agreement would stave off around 1C of temperature increase by 2100 ? findings misrepresented by Trump when he announced the US departure from the pact.Sterman said the US must ?dramatically speed the deployment of renewable energy and especially energy efficiency. Fortunately, renewables, storage and other technologies are already cheaper than fossil energy in many places and costs are falling fast.?More aggressive policies are urgently needed, but this study should not be taken as evidence that nothing can be done.?\n",
      "Documento 134: Donald Trump personally dictated the press statement issued in the name of his eldest son Donald Jr that misleadingly downplayed the significance of a 2016 meeting with a Kremlin-linked Russian lawyer, a new report alleged on Monday night.According to the Washington Post, Trump personally intervened to prevent senior White House advisers from issuing a full and truthful account of the meeting on 9 June 2016 in which Donald Trump Jr, the president?s son-in-law Jared Kushner, and then presidential campaign manager Paul Manafort came face-to-face with four Russians. One of the Russian visitors was the well-connected lawyer Natalia Veselnitskaya.The report, based on multiple though largely anonymous sources that included the president?s own advisers, has the potential to cause political, and even legal, trouble for the White House because it draws Trump himself much closer into the fray over the Trump Tower meeting, which has become a lightning rod in the Russian affair.Shunning the guidance of lawyers and overturning the view apparently reached by Kushner and his team of advisers that a full and frank accounting should be made, Trump reportedly dictated a statement on board Air Force One as he was flying back to Washington from the G20 summit in Germany. As would soon become apparent, it gave a very partial and distorted account of events.In the release the 2016 meeting was presented, in Trump?s own words, as ?a short introductory meeting? dominated by discussion of the adoption of Russian children that was ?not a campaign issue at the time?.That statement was presented to the New York Times on 8 July, and duly included in the newspaper?s first account of the meeting. But within 24 hours, highly damaging revelations had emerged that made clear the meeting had been much more charged than that.On 9 July, the Times revealed that Trump Jr had been lured into talking to Veselnitskaya by the promise of negative intelligence on his father?s presidential rival, Hillary Clinton, and two days after that the email chain was published that showed the younger Trump reveling in the idea of receiving dirt on the Democratic presidential candidate, uttering the gleeful phrase: ?I love it?.The Trump Tower meeting has proved to be one of the most toxic pieces of information to emerge so far in the billowing investigation into possible ties between Trump associates and Russia in the Kremlin?s efforts to skew the presidential outcome in favor of the Republican nominee. The special counsel leading the investigation, Robert Mueller, is understood to be looking closely at the event and has reportedly asked the White House to preserve all documents relating to it.Until now, the president managed to keep some distance from the 9 June encounter, with his lawyers claiming that he knew nothing about it. But the new report that Trump personally oversaw the issuing of a misleading account of the proceedings raises questions about the president?s role in what could be conceived as a cover-up.It comes as Mueller has already expanded his inquiry to include the issue of whether Trump was engaging in a possible obstruction of justice when he fired James Comey, having tried and failed to persuade the then director of the FBI to back off investigating former national security adviser Michael Flynn?s contacts with Russian officials.A lawyer for the president issued the Washington Post with a curt statement: ?Apart from being of no consequence, the characterizations are misinformed, inaccurate, and not pertinent,? Jay Sekulow said.The new details of the president?s role in what turned out to be a major communications fiasco come on the day that his current communications chief, Anthony Scaramucci, was dismissed from the White House after barely 11 days. The blunt removal was made on the first day of the new White House chief of staff, John Kelly, who has vowed to introduce the kind of discipline that the West Wing has been sorely lacking.The day began shortly before 5.30am with Trump tweeting ?No WH chaos!? and ended with him saying: ?A great day at the White House?. But as the Washington Post?s forensic deconstruction of the framing of the Trump Tower meeting shows, the president himself has the capacity to destroy even the best-laid plans, underlining the task now facing his new chief of staff.According to the Post, senior White House officials together with the circle around Kushner and his wife, Ivanka Trump, had spent days rehearsing various ways to address the Trump Tower meeting publicly.Kushner?s team was reported to have decided that it was better to ?err on the side of transparency? because the whole truth would eventually come out.Trump, however, appeared to have seen things differently.\n",
      "Documento 16: A 24-year-old Indian athlete has been indicted in the US on charges of sexually abusing a minor girl, days after he arrived from Kashmir for a snowshoe competition. (India vs Sri Lanka Updates) Tanveer Hussain was indicted last week by an Essex County grand jury for allegedly having inappropriate contact with a 12-year-old Saranac Lake girl earlier this year.The grand jury returned the indictment Hussain charging him with one count of first-degree sexual abuse and two counts of endangering the welfare of a child, a report in the Adirondack Daily Enterprise quoted a press release from Essex County District Attorney Kristy Sprague as saying.Hussain had been arrested in March on charges of sexually abusing the minor girl, two days after he competed in the World Snowshoe Championships at Dewey Mountain Recreation Center.(Read | PU Chitra gets financial aid from Kerala government, CK Vineeth given job) ?Hussain is alleged to have subjected a 12-year-old female to sexual contact and engaged in inappropriate conversations with said child during the time he was in Saranac Lake,? the report quoted Sprague as saying.The minor girl had told police that on the night of February, two days after the snowshoe race, Hussain had kissed her twice and had groped her.The report added that Hussain had previously denied the charges and declined a plea deal that would have let him return to India as he wanted to clear his name.(Read | Indian Deaflympians demand equal treatment with para-athletes) Hussain?s lawyer Brian Barrett said that he was disappointed that Sprague announced the indictment in a press release before notifying him.?This is all about the press. That?s what this whole case is all about,? he said.Hussain had garnered much attention before arriving in the US for the snowshoe championship after the US Embassy in New Delhi had denied him and another athlete visas around the same time President Donald Trump had issued an order barring travel into the US from seven Muslim-dominant countries.While India was not among the seven countries, the denial of visa to Hussain and the other athlete was seen associated with the executive order. \n",
      "Documento 32: US President Donald Trump has called the White House a ?real dump?, and said that he preferred staying at his own properties rather than at the executive mansion, a media report said.The White House did not immediately respond to a request for comment about the account, which appeared on the website Golf.com. The hotelier-turned-POTUS reportedly told members of his Trump National Golf Course in Bedminster, New Jersey, that he preferred staying at his own properties rather than at 1600 Pennsylvania Ave NW, because the executive mansion is ?a real dump?, the Washington Post reported, citing the article on Golf.com as saying.Trump, in a May interview with Time magazine, had praised the White House for its ?beautiful kitchen?, ?amazing? phone system and ?incredible? historical furniture. ?People have no idea the beauty of the White House. The real beauty of the White House,? Trump earlier said.Meanwhile, taking aim at the US President, former first daughter Chelsea Clinton, who spent most of her teen years as a White House resident spoke out in support of the White House staff, thanking the ?ushers, butlers, maids, chefs, florists,? etc, for all the hard work they do.Representative Dina Titus, a Democrat, also urged Trump to take his family and move out of the White House if he was unhappy with conditions.Trump spent a good deal of time away from the White House, including 21 of his first 26 weekends, according to CNN count, mostly at his luxury Mar-a-Lago resort in Palm Beach, Florida.\n",
      "Documento 33: A suspected British prankster appears to have conned White House officials including Anthony Scaramucci into replying to him after pretending in email correspondence to be several different members of the Trump team.The man, who goes by the Twitter handle @SINON_REBORN, posed as Jared Kushner well enough to convince homeland security adviser Tom Bossert to reply to him, according to CNN. Bossert included his personal email address in the exchange.Named director of communications after having been denied a White House role earlier, the New York financier and Republican fundraiser promptly threatened to fire everyone in his team over leaks. He also staged a combative and contradictory briefing room debut and talkshow tour; sought to bat away questions about suspiciously liberal pronouncements in his past and support for Trump?s Republican enemies; deleted tweets; warred openly with the former chief of staff, Reince Priebus, and seemingly forced him out; compared the struggle to take healthcare away from millions of Americans to Lincoln?s battle against slavery; poured obscene invective about leakers, Priebus and Steve Bannon down the phone to a New Yorker reporter; missed the birth of his son; saw his wife file for divorce; and was asked to resign.Trump?s first national security adviser ? one of four generals the president has employed ? resigned after it was revealed he misled Vice-President Mike Pence over his contacts with Russians during the election campaign. It was later reported that Yates had warned the White House Flynn was vulnerable to Russian blackmail.The most shocking firing of them all. Trump sacked his FBI director, by messenger rather than in person, as congressional and justice department investigations into links between Trump aides and Russia gathered pace. Lest anyone retain any doubt about why Trump pressed the big red button, he told NBC in a primetime interview the firing was tied to ?this Russia thing?. The reverberations will be felt for some time yet.The long-suffering but loyal surrogate for the president handed in his resignationin response to Scaramucci?s appointment. A Republican insider and Priebus ally, he never settled into the press secretary role after an infamous debut in which he angrily insisted Trump?s fantastic version of crowd sizes at the inauguration were true. Achieving by way of Melissa McCarthy?s lethal Saturday Night Live impression a somewhat dubious celebrity, his days at the White House were long rumoured to be numbered. His departure on a point of principle having seemingly been justified only 10 days later, he may now claim a sort of hollow vindication.The former Republican National Committee chair stayed loyal ? at least in public ? to Trump through Friday, when he was told his time was up. He stayed loyal after handing in his resignation too, rhapsodising about the president and his mission in interviews with CNN and, of course, Fox News. But it seemed Priebus?s card had alway been marked, less over his initial blocking of Scaramucci, which enraged the Mooch, or by his closeness to the House speaker, Paul Ryan, than by his private advice to Trump to quit the presidential race after 8 October, when the infamous Access Hollywood ?Gropegate? tape was published. The Washington Post reported that Priebus was thus never considered a member of the ?Oct 8th coalition?, a name for the inner cabal of Trumpites who have never wavered, however low their boss?s reputation has sunk.The man also fooled Scaramucci, the White House communications director who was fired on Monday, by pretending to be Reince Priebus, the former Trump administration chief of staff with whom he was believed to be in open warfare.In a series of emails, the man posing as Priebus baited Scaramucci, accusing him of being ?breathtakingly hypocritical? and saying ?at no stage have you acted in a way that is remotely classy?.Scaramucci responded: ?You know what you did. We all do. Even today. But rest assured we were prepared. A Man would apologize.?The heated exchange continued, with the prankster writing: ?I can?t believe you are questioning my ethics! The so called ?Mooch?, who can?t even manage his first week in the White House without leaving upset in his wake. I have nothing to apologize for.?Scaramucci replied: ?Read Shakespeare. Particularly Othello. You are right there. My family is fine by the way and will thrive. I know what you did. No more replies from me.? The White House has confirmed it is looking into the matter. ?We take all cyber related issues very seriously and are looking into these incidents further,? press secretary Sarah Huckabee Sanders told CNN.Reince (me) giving @Scaramucci something to think about. He never replied haha pic.twitter.com/hutjACmogRAn excerpt of what I emailed to @Scaramucci whilst playing the part of Jon Huntsman Jr. Apparently this didn't seem out of the ordinary?! ?? pic.twitter.com/6INHJi3KCDThe man, who described himself as a ?lazy anarchist? on his Twitter profile, told CNN that his actions were meant to be ?humorous? not malicious.?I?m not trying to get the keys to the vault or anything like that.?He has previously convinced Scaramucci that he was the ambassador to Russia-designate Jon Hunstman and tricked Hunstman himself into believing he was the president?s son Eric Trump. He also fleetingly convinced Eric Trump he was his brother, Donald Jr. \n",
      "Documento 35: President Donald Trump?s son-in-law says the Trump campaign couldn?t have colluded with Russia because the team was too dysfunctional and disorganised to coordinate with a foreign government.Jared Kushner, a senior adviser to the president, made the comment Monday during a closed-door session with congressional interns.A Democratic congressional aide says Kushner was responding to a question about Special Counsel Robert Mueller?s investigation into whether the Trump campaign colluded with Moscow.ForeignPolicy.com first reported Kushner?s remarks. The aide was knowledgeable of the meeting and confirmed the accuracy of the comments.Last week, Kushner met privately at the Capitol with members of the Senate and House intelligence committees.He acknowledged four meetings with Russians during and after Trump?s victorious White House bid and insisted that he had ?nothing to hide.?\n",
      "Documento 37: London, Aug 1 (PTI) Renowned Harry Potter author J K Rowling has apologised for wrongly accusing US President Donald Trump of refusing to shake the hand of a 3-year-old disabled child during an event. The 52-year-old British novelist, best known as the author of the Harry Potter fantasy series, said yesterday that she deleted her July 28 tweets after she was informed that they were \"not a full or accurate representation\" of what had happened at last Mondays health care event at the White House. Rowling came under fire for a series of now-deleted tweets in which she slammed Trump for seeming to ignore Montgomery Weers outstretched hand. \"How stunning, and how horrible, that Trump cannot bring himself to shake the hand of a small boy who only wanted to touch the president,\" the author had said. But Marjorie Kelly Weer, mother of Montgomery, said Rowlings interpretation of the clip was wrong. \"Re: my tweets about the small boy in a wheelchair whose proffered hand the president appeared to ignore in press footage. Multiple sources have informed me that that was not a full or accurate representation of their interaction,\" Rowling tweeted. \"I very clearly projected my own sensitivities around the issue of disabled people being overlooked or ignored onto the images I saw and if that caused any distress to that boy or his family, I apologise unreservedly,\" she wrote. Trump is said to have shaken the boys hand as the president entered the room, the BBC reported. \"If someone can please get a message to JK Rowling: Trump didnt snub my son & Monty wasnt even trying to shake his hand,\" Kelly wrote on Facebook. \n",
      "Documento 40: A Republican senator said Tuesday that US President Donald Trump has told him he would go to war to destroy North Korea rather than allow it to develop a long-range nuclear-armed missile.Influential lawmaker Lindsey Graham, a foreign policy hawk, told NBC?s Today Show: ?There is a military option: To destroy North Korea?s programme and North Korea itself.?Last week, North Korean leader Kim Jong-Un boasted that his country could now strike any target in the United States after carrying out its latest intercontinental ballistic missile test.World powers have been trying to stifle Pyongyang?s weapons programme through United Nations-backed sanctions, but have failed to daunt the regime and Washington is growing frustrated.Graham said if diplomacy, and in particular pressure from the North?s neighbour China, fails to halt the programme then the United States will have no choice but to take devastating military action.?They?ve kicked the can down the road for 20 years. There will be a war with North Korea over the missile program if they continue to try to hit America with an ICBM,? he said, describing his discussions with Trump.?He?s told me that. I believe him. If I were China, I would believe him, too, and do something about it. You can stop North Korea, militarily or diplomatically.?I prefer the diplomatic approach. But they will not be allowed to have a missile to hit America with a nuclear weapon on top.? \n",
      "Documento 43: The United States on Wednesday officially set September 1 as the start date for a ban prohibiting its citizens from travelling to North Korea.?The department of state has determined that the serious risk to United States nationals of arrest and long-term detention represents imminent danger to the physical safety of United States nationals travelling to and within the Democratic People?s Republic of Korea (DPRK),? read the restriction as it appeared on Wednesday in the US government?s federal register.?All United States passports are declared invalid for travel to, in, or through the DPRK unless specially validated for such travel,? it added.An exemption was noted for approved humanitarian travel and for journalists in some circumstances. The ban is to remain in effect for one year, unless it is revoked sooner by US secretary of state Rex Tillerson.The travel ban was first announced last month in the wake of the death of American student Otto Warmbier who fell into a coma after being imprisoned by Pyongyang during a tourist visit.Warmbier, 22, a student at the University of Virginia, died in June after being held for more than a year on charges of stealing a propaganda poster from a North Korean hotel - and sent home in a mysterious coma that proved fatal.After his death, President Donald Trump said he was determined to ?prevent such tragedies from befalling innocent people at the hands of regimes that do not respect the rule of law or basic human decency.?Warmbier?s death added to already high tensions in the region over North Korea?s weapons ambitions, culminating in two successful test launches by Pyongyang in recent weeks of an intercontinental ballistic missile that experts say could reach US territory.\n",
      "Documento 96: Facing pressure from President Donald Trump to cut the cost of new Air Force One aircraft, the US Air Force is negotiating with Boeing to purchase two 747-8 jetliners that were built for a Russian airline that went bankrupt before they were delivered.?We?re working through the final stages of coordination to purchase two commercial 747-8 aircraft and expect to award a contract soon,? said Air Force spokeswoman Ann Stefanek, who declined to elaborate on the details.National security publication Defense One, which first reported the negotiations, said the Air Force was believed to be getting a good deal on the aircraft, which sell for about $386 million on average.The two aircraft were initially ordered four years ago by Transaero, a Russian airline that went bankrupt in 2015, a person familiar with the talks told Reuters.Boeing built two 747-8s out of an order of four. But the airline never took ownership of them, and the planes have been stored in the Mojave Desert, where the dry, hot climate slows corrosion, Defense One said.Trump rattled Boeing in December before taking office by saying in a Twitter message: Boeing is building a brand new 747 Air Force One for future presidents, but costs are out of control, more than $4 billion. Cancel order!? Donald J. Trump (@realDonaldTrump) December 6, 2016Boeing Chief Executive Officer Dennis Muilenburg called Trump and told him the cost could be reduced if the Air Force changed its requirements, sources familiar with the conversation said at the time.White House officials in December were unclear where Trump obtained the $4 billion figure. The Air Force has estimated it would spend $2.87 billion through 2021 for development of a new presidential aircraft. The cost of refitting the commercial 747-8s with the enhanced electronics and security systems required for Air Force One were unclear.Boeing had said it expected to add the Air Force One jets to its backlog, which currently numbers 20 planes - five passenger models and 15 freighters.The redeployment to the Air Force of jets already built for another customer would effectively reduce Boeing?s future 747 production plans by two aircraft. But it would provide a home for two airframes that have been built but remain unsold.The Air Force operates two military versions of the Boeing 747-200B aircraft that serve as Air Force One when the president is aboard. Both are nearing the end of their planned 30-year life. \n"
     ]
    }
   ],
   "source": [
    "# Input para sistema de recuperación de la información específico para consultas según el modelo booleano\n",
    "\n",
    "ruta_csv = \"news_corpus.csv\"\n",
    "\n",
    "# Solicitar consulta al usuario\n",
    "consulta = input(\"Introduce tu consulta: \")\n",
    "\n",
    "# Ejecutar documentos\n",
    "documentos_consultas_booleanas(consulta, ruta_csv)"
   ]
  },
  {
   "cell_type": "code",
   "execution_count": 208,
   "id": "6746b834-2524-48c4-a467-f347f0e987f6",
   "metadata": {},
   "outputs": [
    {
     "name": "stdin",
     "output_type": "stream",
     "text": [
      "Introduce tu consulta:  President of United States, Donald Trump\n"
     ]
    },
    {
     "name": "stdout",
     "output_type": "stream",
     "text": [
      "Documento 40: A Republican senator said Tuesday that US President Donald Trump has told him he would go to war to destroy North Korea rather than allow it to develop a long-range nuclear-armed missile.Influential lawmaker Lindsey Graham, a foreign policy hawk, told NBC?s Today Show: ?There is a military option: To destroy North Korea?s programme and North Korea itself.?Last week, North Korean leader Kim Jong-Un boasted that his country could now strike any target in the United States after carrying out its latest intercontinental ballistic missile test.World powers have been trying to stifle Pyongyang?s weapons programme through United Nations-backed sanctions, but have failed to daunt the regime and Washington is growing frustrated.Graham said if diplomacy, and in particular pressure from the North?s neighbour China, fails to halt the programme then the United States will have no choice but to take devastating military action.?They?ve kicked the can down the road for 20 years. There will be a war with North Korea over the missile program if they continue to try to hit America with an ICBM,? he said, describing his discussions with Trump.?He?s told me that. I believe him. If I were China, I would believe him, too, and do something about it. You can stop North Korea, militarily or diplomatically.?I prefer the diplomatic approach. But they will not be allowed to have a missile to hit America with a nuclear weapon on top.? \n",
      "Documento 43: The United States on Wednesday officially set September 1 as the start date for a ban prohibiting its citizens from travelling to North Korea.?The department of state has determined that the serious risk to United States nationals of arrest and long-term detention represents imminent danger to the physical safety of United States nationals travelling to and within the Democratic People?s Republic of Korea (DPRK),? read the restriction as it appeared on Wednesday in the US government?s federal register.?All United States passports are declared invalid for travel to, in, or through the DPRK unless specially validated for such travel,? it added.An exemption was noted for approved humanitarian travel and for journalists in some circumstances. The ban is to remain in effect for one year, unless it is revoked sooner by US secretary of state Rex Tillerson.The travel ban was first announced last month in the wake of the death of American student Otto Warmbier who fell into a coma after being imprisoned by Pyongyang during a tourist visit.Warmbier, 22, a student at the University of Virginia, died in June after being held for more than a year on charges of stealing a propaganda poster from a North Korean hotel - and sent home in a mysterious coma that proved fatal.After his death, President Donald Trump said he was determined to ?prevent such tragedies from befalling innocent people at the hands of regimes that do not respect the rule of law or basic human decency.?Warmbier?s death added to already high tensions in the region over North Korea?s weapons ambitions, culminating in two successful test launches by Pyongyang in recent weeks of an intercontinental ballistic missile that experts say could reach US territory.\n",
      "Documento 134: Donald Trump personally dictated the press statement issued in the name of his eldest son Donald Jr that misleadingly downplayed the significance of a 2016 meeting with a Kremlin-linked Russian lawyer, a new report alleged on Monday night.According to the Washington Post, Trump personally intervened to prevent senior White House advisers from issuing a full and truthful account of the meeting on 9 June 2016 in which Donald Trump Jr, the president?s son-in-law Jared Kushner, and then presidential campaign manager Paul Manafort came face-to-face with four Russians. One of the Russian visitors was the well-connected lawyer Natalia Veselnitskaya.The report, based on multiple though largely anonymous sources that included the president?s own advisers, has the potential to cause political, and even legal, trouble for the White House because it draws Trump himself much closer into the fray over the Trump Tower meeting, which has become a lightning rod in the Russian affair.Shunning the guidance of lawyers and overturning the view apparently reached by Kushner and his team of advisers that a full and frank accounting should be made, Trump reportedly dictated a statement on board Air Force One as he was flying back to Washington from the G20 summit in Germany. As would soon become apparent, it gave a very partial and distorted account of events.In the release the 2016 meeting was presented, in Trump?s own words, as ?a short introductory meeting? dominated by discussion of the adoption of Russian children that was ?not a campaign issue at the time?.That statement was presented to the New York Times on 8 July, and duly included in the newspaper?s first account of the meeting. But within 24 hours, highly damaging revelations had emerged that made clear the meeting had been much more charged than that.On 9 July, the Times revealed that Trump Jr had been lured into talking to Veselnitskaya by the promise of negative intelligence on his father?s presidential rival, Hillary Clinton, and two days after that the email chain was published that showed the younger Trump reveling in the idea of receiving dirt on the Democratic presidential candidate, uttering the gleeful phrase: ?I love it?.The Trump Tower meeting has proved to be one of the most toxic pieces of information to emerge so far in the billowing investigation into possible ties between Trump associates and Russia in the Kremlin?s efforts to skew the presidential outcome in favor of the Republican nominee. The special counsel leading the investigation, Robert Mueller, is understood to be looking closely at the event and has reportedly asked the White House to preserve all documents relating to it.Until now, the president managed to keep some distance from the 9 June encounter, with his lawyers claiming that he knew nothing about it. But the new report that Trump personally oversaw the issuing of a misleading account of the proceedings raises questions about the president?s role in what could be conceived as a cover-up.It comes as Mueller has already expanded his inquiry to include the issue of whether Trump was engaging in a possible obstruction of justice when he fired James Comey, having tried and failed to persuade the then director of the FBI to back off investigating former national security adviser Michael Flynn?s contacts with Russian officials.A lawyer for the president issued the Washington Post with a curt statement: ?Apart from being of no consequence, the characterizations are misinformed, inaccurate, and not pertinent,? Jay Sekulow said.The new details of the president?s role in what turned out to be a major communications fiasco come on the day that his current communications chief, Anthony Scaramucci, was dismissed from the White House after barely 11 days. The blunt removal was made on the first day of the new White House chief of staff, John Kelly, who has vowed to introduce the kind of discipline that the West Wing has been sorely lacking.The day began shortly before 5.30am with Trump tweeting ?No WH chaos!? and ended with him saying: ?A great day at the White House?. But as the Washington Post?s forensic deconstruction of the framing of the Trump Tower meeting shows, the president himself has the capacity to destroy even the best-laid plans, underlining the task now facing his new chief of staff.According to the Post, senior White House officials together with the circle around Kushner and his wife, Ivanka Trump, had spent days rehearsing various ways to address the Trump Tower meeting publicly.Kushner?s team was reported to have decided that it was better to ?err on the side of transparency? because the whole truth would eventually come out.Trump, however, appeared to have seen things differently.\n",
      "Documento 32: US President Donald Trump has called the White House a ?real dump?, and said that he preferred staying at his own properties rather than at the executive mansion, a media report said.The White House did not immediately respond to a request for comment about the account, which appeared on the website Golf.com. The hotelier-turned-POTUS reportedly told members of his Trump National Golf Course in Bedminster, New Jersey, that he preferred staying at his own properties rather than at 1600 Pennsylvania Ave NW, because the executive mansion is ?a real dump?, the Washington Post reported, citing the article on Golf.com as saying.Trump, in a May interview with Time magazine, had praised the White House for its ?beautiful kitchen?, ?amazing? phone system and ?incredible? historical furniture. ?People have no idea the beauty of the White House. The real beauty of the White House,? Trump earlier said.Meanwhile, taking aim at the US President, former first daughter Chelsea Clinton, who spent most of her teen years as a White House resident spoke out in support of the White House staff, thanking the ?ushers, butlers, maids, chefs, florists,? etc, for all the hard work they do.Representative Dina Titus, a Democrat, also urged Trump to take his family and move out of the White House if he was unhappy with conditions.Trump spent a good deal of time away from the White House, including 21 of his first 26 weekends, according to CNN count, mostly at his luxury Mar-a-Lago resort in Palm Beach, Florida.\n",
      "Documento 35: President Donald Trump?s son-in-law says the Trump campaign couldn?t have colluded with Russia because the team was too dysfunctional and disorganised to coordinate with a foreign government.Jared Kushner, a senior adviser to the president, made the comment Monday during a closed-door session with congressional interns.A Democratic congressional aide says Kushner was responding to a question about Special Counsel Robert Mueller?s investigation into whether the Trump campaign colluded with Moscow.ForeignPolicy.com first reported Kushner?s remarks. The aide was knowledgeable of the meeting and confirmed the accuracy of the comments.Last week, Kushner met privately at the Capitol with members of the Senate and House intelligence committees.He acknowledged four meetings with Russians during and after Trump?s victorious White House bid and insisted that he had ?nothing to hide.?\n",
      "Documento 37: London, Aug 1 (PTI) Renowned Harry Potter author J K Rowling has apologised for wrongly accusing US President Donald Trump of refusing to shake the hand of a 3-year-old disabled child during an event. The 52-year-old British novelist, best known as the author of the Harry Potter fantasy series, said yesterday that she deleted her July 28 tweets after she was informed that they were \"not a full or accurate representation\" of what had happened at last Mondays health care event at the White House. Rowling came under fire for a series of now-deleted tweets in which she slammed Trump for seeming to ignore Montgomery Weers outstretched hand. \"How stunning, and how horrible, that Trump cannot bring himself to shake the hand of a small boy who only wanted to touch the president,\" the author had said. But Marjorie Kelly Weer, mother of Montgomery, said Rowlings interpretation of the clip was wrong. \"Re: my tweets about the small boy in a wheelchair whose proffered hand the president appeared to ignore in press footage. Multiple sources have informed me that that was not a full or accurate representation of their interaction,\" Rowling tweeted. \"I very clearly projected my own sensitivities around the issue of disabled people being overlooked or ignored onto the images I saw and if that caused any distress to that boy or his family, I apologise unreservedly,\" she wrote. Trump is said to have shaken the boys hand as the president entered the room, the BBC reported. \"If someone can please get a message to JK Rowling: Trump didnt snub my son & Monty wasnt even trying to shake his hand,\" Kelly wrote on Facebook. \n",
      "Documento 33: A suspected British prankster appears to have conned White House officials including Anthony Scaramucci into replying to him after pretending in email correspondence to be several different members of the Trump team.The man, who goes by the Twitter handle @SINON_REBORN, posed as Jared Kushner well enough to convince homeland security adviser Tom Bossert to reply to him, according to CNN. Bossert included his personal email address in the exchange.Named director of communications after having been denied a White House role earlier, the New York financier and Republican fundraiser promptly threatened to fire everyone in his team over leaks. He also staged a combative and contradictory briefing room debut and talkshow tour; sought to bat away questions about suspiciously liberal pronouncements in his past and support for Trump?s Republican enemies; deleted tweets; warred openly with the former chief of staff, Reince Priebus, and seemingly forced him out; compared the struggle to take healthcare away from millions of Americans to Lincoln?s battle against slavery; poured obscene invective about leakers, Priebus and Steve Bannon down the phone to a New Yorker reporter; missed the birth of his son; saw his wife file for divorce; and was asked to resign.Trump?s first national security adviser ? one of four generals the president has employed ? resigned after it was revealed he misled Vice-President Mike Pence over his contacts with Russians during the election campaign. It was later reported that Yates had warned the White House Flynn was vulnerable to Russian blackmail.The most shocking firing of them all. Trump sacked his FBI director, by messenger rather than in person, as congressional and justice department investigations into links between Trump aides and Russia gathered pace. Lest anyone retain any doubt about why Trump pressed the big red button, he told NBC in a primetime interview the firing was tied to ?this Russia thing?. The reverberations will be felt for some time yet.The long-suffering but loyal surrogate for the president handed in his resignationin response to Scaramucci?s appointment. A Republican insider and Priebus ally, he never settled into the press secretary role after an infamous debut in which he angrily insisted Trump?s fantastic version of crowd sizes at the inauguration were true. Achieving by way of Melissa McCarthy?s lethal Saturday Night Live impression a somewhat dubious celebrity, his days at the White House were long rumoured to be numbered. His departure on a point of principle having seemingly been justified only 10 days later, he may now claim a sort of hollow vindication.The former Republican National Committee chair stayed loyal ? at least in public ? to Trump through Friday, when he was told his time was up. He stayed loyal after handing in his resignation too, rhapsodising about the president and his mission in interviews with CNN and, of course, Fox News. But it seemed Priebus?s card had alway been marked, less over his initial blocking of Scaramucci, which enraged the Mooch, or by his closeness to the House speaker, Paul Ryan, than by his private advice to Trump to quit the presidential race after 8 October, when the infamous Access Hollywood ?Gropegate? tape was published. The Washington Post reported that Priebus was thus never considered a member of the ?Oct 8th coalition?, a name for the inner cabal of Trumpites who have never wavered, however low their boss?s reputation has sunk.The man also fooled Scaramucci, the White House communications director who was fired on Monday, by pretending to be Reince Priebus, the former Trump administration chief of staff with whom he was believed to be in open warfare.In a series of emails, the man posing as Priebus baited Scaramucci, accusing him of being ?breathtakingly hypocritical? and saying ?at no stage have you acted in a way that is remotely classy?.Scaramucci responded: ?You know what you did. We all do. Even today. But rest assured we were prepared. A Man would apologize.?The heated exchange continued, with the prankster writing: ?I can?t believe you are questioning my ethics! The so called ?Mooch?, who can?t even manage his first week in the White House without leaving upset in his wake. I have nothing to apologize for.?Scaramucci replied: ?Read Shakespeare. Particularly Othello. You are right there. My family is fine by the way and will thrive. I know what you did. No more replies from me.? The White House has confirmed it is looking into the matter. ?We take all cyber related issues very seriously and are looking into these incidents further,? press secretary Sarah Huckabee Sanders told CNN.Reince (me) giving @Scaramucci something to think about. He never replied haha pic.twitter.com/hutjACmogRAn excerpt of what I emailed to @Scaramucci whilst playing the part of Jon Huntsman Jr. Apparently this didn't seem out of the ordinary?! ?? pic.twitter.com/6INHJi3KCDThe man, who described himself as a ?lazy anarchist? on his Twitter profile, told CNN that his actions were meant to be ?humorous? not malicious.?I?m not trying to get the keys to the vault or anything like that.?He has previously convinced Scaramucci that he was the ambassador to Russia-designate Jon Hunstman and tricked Hunstman himself into believing he was the president?s son Eric Trump. He also fleetingly convinced Eric Trump he was his brother, Donald Jr. \n",
      "Documento 96: Facing pressure from President Donald Trump to cut the cost of new Air Force One aircraft, the US Air Force is negotiating with Boeing to purchase two 747-8 jetliners that were built for a Russian airline that went bankrupt before they were delivered.?We?re working through the final stages of coordination to purchase two commercial 747-8 aircraft and expect to award a contract soon,? said Air Force spokeswoman Ann Stefanek, who declined to elaborate on the details.National security publication Defense One, which first reported the negotiations, said the Air Force was believed to be getting a good deal on the aircraft, which sell for about $386 million on average.The two aircraft were initially ordered four years ago by Transaero, a Russian airline that went bankrupt in 2015, a person familiar with the talks told Reuters.Boeing built two 747-8s out of an order of four. But the airline never took ownership of them, and the planes have been stored in the Mojave Desert, where the dry, hot climate slows corrosion, Defense One said.Trump rattled Boeing in December before taking office by saying in a Twitter message: Boeing is building a brand new 747 Air Force One for future presidents, but costs are out of control, more than $4 billion. Cancel order!? Donald J. Trump (@realDonaldTrump) December 6, 2016Boeing Chief Executive Officer Dennis Muilenburg called Trump and told him the cost could be reduced if the Air Force changed its requirements, sources familiar with the conversation said at the time.White House officials in December were unclear where Trump obtained the $4 billion figure. The Air Force has estimated it would spend $2.87 billion through 2021 for development of a new presidential aircraft. The cost of refitting the commercial 747-8s with the enhanced electronics and security systems required for Air Force One were unclear.Boeing had said it expected to add the Air Force One jets to its backlog, which currently numbers 20 planes - five passenger models and 15 freighters.The redeployment to the Air Force of jets already built for another customer would effectively reduce Boeing?s future 747 production plans by two aircraft. But it would provide a home for two airframes that have been built but remain unsold.The Air Force operates two military versions of the Boeing 747-200B aircraft that serve as Air Force One when the president is aboard. Both are nearing the end of their planned 30-year life. \n",
      "Documento 26: The US Air Force successfully launched an unarmed intercontinental ballistic missile from California, the fourth such test this year.The 30th Space Wing says the Minuteman 3 missile launched at 2:10 a.m. Wednesday from Vandenberg Air Force Base, about 130 miles (209 kilometers) northwest of Los Angeles.An Air Force statement said the test would show the effectiveness, readiness, and accuracy of the weapon system.Minuteman missiles are regularly tested with launches from Vandenberg that send unarmed re-entry vehicles 4,200 miles (6,800 kilometers) across the Pacific to a target area at Kwajalein Atoll.However, the latest U.S. launches come amid tensions with North Korea as that nation develops its own ICBMs.Flight data on North Korea?s most recent test, conducted Friday, showed that a broad part of the mainland United States, including Los Angeles and Chicago, is now in range of Pyongyang?s weapons, according to analysts.In response, the U.S. Air Force flew two B-1 bombers over the Korean Peninsula on Sunday in a show of force. The U.S. also said it conducted a successful test of a missile defense system located in Alaska.Previous Minuteman ICBM launches this year were conducted in February, April and May. That month, the Air Force also conducted a test of a missile interceptor launched from Vandenberg. The interceptor destroyed a mock warhead over the Pacific.\n",
      "Documento 104: The government has no ?accurate data? regarding illegal migrants who have entered India, the Lok Sabha was informed on Tuesday.Minister of state for home Kiren Rijiju also said that any particular community cannot be ?branded? for having alleged links with terrorists and terrorism. ?We cannot say that,? he said during the Question Hour.He agreed that several illegal migrants have acquired documents to make their stay in the country legal.Responding to supplementaries, he said since these people have entered the country in a ?clandestine and surreptitious manner?, ?naturally? official figures would be impossible.The Centre has asked the states to set up special task forces in each of the districts for detection, identification and interception of illegal migrants.The states also have powers under the 1946 Foreigners Act to deport illegal migrants. Detention centres have also been set up for detaining suspected illegal migrants, pending their deportation.He said illegal migrants disturbed the demographic profile of certain areas and create problems.Responding to the issue of Rohingya refugees, he said they are concentrated in Jammu and Kashmir.When asked by opposition members whether government has set up ?concentration camps? for them, he said no concentration camps have been established by the government but the refugees themselves have concentrated themselves there. \n",
      "Documento 16: A 24-year-old Indian athlete has been indicted in the US on charges of sexually abusing a minor girl, days after he arrived from Kashmir for a snowshoe competition. (India vs Sri Lanka Updates) Tanveer Hussain was indicted last week by an Essex County grand jury for allegedly having inappropriate contact with a 12-year-old Saranac Lake girl earlier this year.The grand jury returned the indictment Hussain charging him with one count of first-degree sexual abuse and two counts of endangering the welfare of a child, a report in the Adirondack Daily Enterprise quoted a press release from Essex County District Attorney Kristy Sprague as saying.Hussain had been arrested in March on charges of sexually abusing the minor girl, two days after he competed in the World Snowshoe Championships at Dewey Mountain Recreation Center.(Read | PU Chitra gets financial aid from Kerala government, CK Vineeth given job) ?Hussain is alleged to have subjected a 12-year-old female to sexual contact and engaged in inappropriate conversations with said child during the time he was in Saranac Lake,? the report quoted Sprague as saying.The minor girl had told police that on the night of February, two days after the snowshoe race, Hussain had kissed her twice and had groped her.The report added that Hussain had previously denied the charges and declined a plea deal that would have let him return to India as he wanted to clear his name.(Read | Indian Deaflympians demand equal treatment with para-athletes) Hussain?s lawyer Brian Barrett said that he was disappointed that Sprague announced the indictment in a press release before notifying him.?This is all about the press. That?s what this whole case is all about,? he said.Hussain had garnered much attention before arriving in the US for the snowshoe championship after the US Embassy in New Delhi had denied him and another athlete visas around the same time President Donald Trump had issued an order barring travel into the US from seven Muslim-dominant countries.While India was not among the seven countries, the denial of visa to Hussain and the other athlete was seen associated with the executive order. \n",
      "Documento 116: New Delhi, Aug 1 (PTI) Diversified conglomerate ITC today said Ashok Malik, who has been appointed the press secretary of the President of India, has resigned from its board of directors. \"Ashok Malik resigned from the board of directors of the company with effect from close of work on July 31, 2017, consequent on his appointment as press secretary to the President of India,\" the company said. \n",
      "Documento 140: Qatar filed a wide-ranging legal complaint at the World Trade Organization on Monday to challenge a trade boycott by Saudi Arabia, Bahrain and United Arab Emirates, the director of Qatar?s WTO office Ali Alwaleed al-Thani told Reuters.By formally ?requesting consultations? with the three countries, the first step in a trade dispute, Qatar triggered a 60 day deadline for them to settle the complaint or face litigation at the WTO and potential retaliatory trade sanctions.?We?ve given sufficient time to hear the legal explanations on how these measures are in compliance with their commitments, to no satisfactory result,? al-Thani said.?We have always called for dialogue, for negotiations, and this is part of our strategy to talk to the members concerned and to gain more information on these measures, the legality of these measures, and to find a solution to resolve the dispute.?The boycotting states cut ties with Qatar - a major global gas supplier and host to the biggest US military base in the Middle East - on June 5, accusing it of financing militant groups in Syria, and allying with Iran, their regional foe, allegations Doha denies.The boycotting countries have previously told the WTO that they would cite national security to justify their actions against Qatar, using a controversial and almost unprecedented exemption allowed under the WTO rules.They said on Sunday they were ready for talks to tackle the dispute, the worst rift between Gulf Arab states in years, if Doha showed willingness to deal with their demands.The text of Qatar?s WTO complaint cites ?coercive attempts at economic isolation? and spells out how they are impeding Qatar?s rights in the trade in goods, trade in services and intellectual property.The complaints against Saudi Arabia and the UAE run to eight pages each, while the document on Bahrain is six pages.There was no immediate reaction from the three to Qatar?s complaint, which is likely to be circulated at the WTO later this week.?REMAIN HOPEFUL?The disputed trade restrictions include bans on trade through Qatar?s ports and travel by Qatari citizens, blockages of Qatari digital services and websites, closure of maritime borders and prohibition of flights operated by Qatari aircraft.The complaint does not put a value on the trade boycott, and al-Thani declined to estimate how much Qatar could seek in sanctions if the litigation ever reached that stage, which can take 2-5 years or longer in the WTO system.?We remain hopeful that the consultations could bear fruit in resolving this,? he said.The WTO suit does not include Egypt, the fourth country involved in the boycott. Although it has also cut travel and diplomatic ties with Qatar, Egypt did not expel Qatari citizens or ask Egyptians to leave Qatar.Al-Thani declined to explain why Egypt was not included.?Obviously all options are available. But we have not raised a consultation request with Egypt yet,? he said.In its WTO case, Qatar would also draw attention to the impact the boycott was having on other WTO members, he added.Many trade diplomats say that using national security as a defence risks weakening the WTO by removing a taboo that could enable countries to escape international trade obligations.Al-Thani said governments had wide discretion to invoke the national security defence but it had to be subject to oversight.?If it is self-regulating, that is a danger to the entire multilateral trading system itself. And we believe the WTO will take that into consideration.?Qatar also raised the boycott at a meeting of the United Nations? International Civil Aviation Organization (ICAO) on Monday, al-Thani said.In comments to Qatar-based Al Jazeera television later on Monday, Qatar?s transport and information minister said the boycotting countries had discriminated against Doha in violation of an international agreement guaranteeing overflights.?These countries have used this right arbitrarily and imposed it on aircraft registered only in the State of Qatar,? Jassim bin Saif al-Sulaiti said.Qatar in June asked Montreal-based ICAO to resolve the conflict, using a dispute resolution mechanism in the Chicago Convention, a 1944 treaty that created the agency and set basic rules for international aviation.Saudi Arabia, the United Arab Emirates, Egypt and Bahrain said on Sunday they would allow Qatari planes to use air corridors in emergencies. \n",
      "Documento 100: There is only a 5% chance that the Earth will avoid warming by at least 2C come the end of the century, according to new research that paints a sobering picture of the international effort to stem dangerous climate change.Global trends in the economy, emissions and population growth make it extremely unlikely that the planet will remain below the 2C threshold set out in the Paris climate agreement in 2015, the study states. The Paris accord, signed by 195 countries, commits to holding the average global temperature to ?well below 2C? above pre-industrial levels and sets a more aspirational goal to limit warming to 1.5C. This latter target is barely plausible, the new research finds, with just a 1% chance that temperatures will rise by less than 1.5C. ?We?re closer to the margin than we think,? said Adrian Raftery, a University of Washington academic who led the research, published in Nature Climate Change. ?If we want to avoid 2C, we have very little time left. The public should be very concerned.? Governments settled on the 2C threshold partly through political expediency but also because scientists have warned of severe consequences from sea level rise, drought, heatwaves and social unrest should the temperature rise beyond this.  Such risks have been underscored by a separate study, also released on Monday, that shows unabated climate change will cause around 60,000 deaths globally in 2030 and 260,000 deaths by 2100. The study, by the University of North Carolina, found that rising temperatures will exacerbate air pollutants that will particularly threaten those with existing conditions.  According to the University of Washington study, there is a 90% likelihood that temperatures will rise between 2C and 4.9C by 2100. This would put the world in the mid-range warming scenarios mapped out by the UN?s Intergovernmental Panel on Climate Change. It negates the most optimistic outcome as well as the worst case, which would see temperatures climb nearly 6C beyond the pre-industrial era. Rather than look at how greenhouse gases will influence temperature, the new research analyzed the past 50 years of trends in world population, per capita gross domestic product (GDP) and carbon intensity, which is the amount of carbon dioxide emitted for each dollar of economic activity. After building a statistical model covering a range of emissions scenarios, the researchers found that carbon intensity will be a crucial factor in future warming. Technological advances are expected to cut global carbon intensity by 90% over the course of the century, with sharp declines in China and India ? two newly voracious consumers of energy. However, this decline still will not be steep enough to avoid breaching the 2C limit.  The world?s population is expected to grow to about 11 billion people by 2100, but the research found that this will have a relatively small impact upon temperatures as much of this growth will take place in sub-Saharan Africa, which is a minor contributor of greenhouse gas emissions. It has long been acknowledged that emissions cuts promised under the the Paris agreement would not be sufficient to avoid 2C warming. However, it is hoped that periodic reviews of commitments will result in more severe reductions. Donald Trump?s pledge to remove the US, the world?s second-largest emitter, from the accord has cast a large shadow over these ambitions.  ?Even if the 2C target isn?t met, action is very important,? said Raftery. ?The more the temperature increases, the worse the impacts will be. ?We would warn against any tendency to use our results to say that we won?t avoid 2C, and so it?s too late to do anything. On the contrary, avoiding the higher temperature increases that our model envisages is even more important, and also requires urgent action.? Raftery acknowledged that a breakthrough technology could ?dramatically? change the outlook but noted that major advances of the past 50 years, such as the computer, robotics, hybrid cars, the internet and electronic fuel injection, have improved carbon efficiency steadily at around 2% a year, rather than in huge jumps. Andrew Dessler, a climate scientist at Texas A&M University who was not involved in the study, said the research?s conclusions were ?reasonable? but said it was difficult to assign a precise probability to future temperature rises. ?I agree that staying below 2C and 1.5C are unlikely and very, very unlikely, respectively,? he said. ?But this research gives a false sense of rigor. Tomorrow someone could invent a carbon-free energy source that everyone adopts. ?If you look at technology adoption and action taken on the ozone layer and acid rain, it?s clear these things can change faster than people predict.? Dessler said the falling cost of renewable energy would be a major factor in reducing emissions but further impetus would be needed through new actions such as a price on carbon.  ?It?s like you?re driving and about to collide with the car in front of you,? he said. ?You want to hit the brakes as fast as you can. The later you wait, the more painful it?s going to be.?John Sterman, an academic at the MIT Sloan Sustainability Initiative, said the research was an ?urgent call to action?. MIT research has shown that emissions cuts in the Paris agreement would stave off around 1C of temperature increase by 2100 ? findings misrepresented by Trump when he announced the US departure from the pact.Sterman said the US must ?dramatically speed the deployment of renewable energy and especially energy efficiency. Fortunately, renewables, storage and other technologies are already cheaper than fossil energy in many places and costs are falling fast.?More aggressive policies are urgently needed, but this study should not be taken as evidence that nothing can be done.?\n",
      "Documento 53: Allegations that British American Tobacco was involved in bribery and corruption in Africa are being investigated by the Serious Fraud Office, despite the cigarette company?s attempts to downplay the significance of a whistleblower who handed over a dossier of evidence.BAT, now the largest tobacco company in the world after the recent merger with Reynolds, has consistently denied the allegations of Paul Hopkins, whom it employed in Africa for 13 years. When Hopkins handed over a large number of documents to the SFO in December 2015, BAT dismissed him as ?a rogue former employee?.The company later toned down its criticism, stating that it had appointed a team of external legal advisers to investigate the charges.The SFO?s inquiries have now become a formal investigation. In a statement it said it was ?investigating suspicions of corruption in the conduct of business by BAT, its subsidiaries and associated persons?. It invited members of the public to come forward with any evidence they might have.The news follows a major Guardian investigation revealing that BAT and other multinationals have used threats against at least eight African nations, demanding they axe or dilute the kind of tobacco control measures that have saved millions of lives in the west.BAT said it continued to conduct its own inquiries into Hopkins? charges. ?We have been cooperating with the Serious Fraud Office and British American Tobacco has been informed that the SFO has now opened a formal investigation. BAT intends to cooperate with that investigation,? it said.The company would not confirm whether the investigation concerned the allegations made by Hopkins.He has claimed he paid bribes on the company?s behalf to the Kenya Revenue Authority for access to information that BAT could use against its Kenyan competitor Mastermind. Hopkins also claimed that BAT Kenya had paid bribes to government officials in Burundi, Rwanda and Comoros to undermine tobacco control regulations.BAT hired the law firm Linklaters in February 2016 to conduct a ?full investigation? into the claims made by Hopkins. BAT later dropped Linklaters and appointed Slaughter and May as sole adviser on the case.Louis Charalambous, Hopkins? solicitor, said BAT had changed its tone. ?We note, with interest, that BAT have abandoned their earlier PR strategy of trying to shoot the messenger,? he said in a statement.?Paul Hopkins blew the whistle during his time at BAT and their internal team ignored him. Previously BAT tried to wriggle out by saying that Mr Hopkins had left their employ in acrimonious circumstances when, in fact, that was untrue. They also wrongly suggested that he had acted on his own, and portrayed themselves as the victims.?Now their new external law firm and revised PR strategy are silent about Mr Hopkins. They need to go further and set the record straight. The company cannot rewrite this history, and we look forward to seeing them answer these allegations in due course.?Hopkins said he had turned whistleblower at a cost to himself. ?I rejected an enhanced redundancy package designed to force me to sign a global confidentially agreement and just took statutory redundancy instead,? he said.Deborah Arnott, the chief executive of the campaigning charity Ash, said: ?At the time the allegations of fraud in Africa were first made against BAT the company accused the whistle blower of having a vendetta against the company and peddling falsehoods.?Eighteen months later and BAT is having to admit it?s under investigation by the Serious Fraud Office. The SFO must leave no stone unturned.?Matthew Myers, the president of the Campaign for Tobacco-Free Kids, called on the US government to also investigate BAT. ?The allegations against British American Tobacco are serious and should be investigated and prosecuted to the fullest extent of the law,? he said.?As British American Tobacco now operates the largest publicly traded tobacco company within the United States, we urge the US Department of Justice to also investigate the company?s alleged misconduct.?The BAT chief executive, Nicandro Durante, told the Financial Times in March that the firm would ?act in a very strong way? if wrongdoing was found to have taken place. He said: ?We are in 200 countries, so I cannot give a 100% guarantee that everything?s going to go by the book.?The SFO investigation is another blow to the company, after the US health watchdog, the Food and Drug Administration, announced tighter regulations on the tobacco industry, which hit shares in tobacco firms.\n",
      "Documento 119: A united opposition stalled proceedings in the Rajya Sabha on Tuesday, protesting the government?s decision to hike the prices of domestic cooking gas (LPG) by Rs 4 per cylinder every month to eliminate all subsidies by next March.Congress, Samajwadi Party, Trinamool Congress, Bahujan Samaj Party and Left MPs stormed into the Well of the House shouting slogans seeking withdrawal of the decision. The issue was raised by TMC?s Derek O?Brien who gave a notice under rule 267 that seeks to set aside business of the day to discuss an important issue.The LPG subsidy issue was raised in the Lok Sabha as well. Outside the Parliament, Dharmendra Pradhan said, ?Subsidy will not be cut down, it will only be rationalised. The (Opposition) uproar is baseless.?The Opposition in Rajya Sabha also protested and questioned the NOTA provision for the upcoming election to the house. Deputy leader of the Congress Anand Sharma said the decision to provide the NOTA option had been made without amending the Constitution or the law as per the direction of the Election CommissionHighlights of Day 12 of the Parliament?s Monsoon Session:7.18 pm: Expansion of GST will help benefit states: Jaitley.6:46 pm: Demonetisation has led to squeezing of terror funds, including in Jammu and Kashmir, says finance minister Arun Jaitley in Lok Sabha.3:15 pm: Rajya Sabha moves to consider and vote on Right of Children to Free and Complaint Education (Amendment) Bill, 2017.3:10 pm:  TMC?s Sudip Bandhopadhyay speaks about impact of demonetisation and GST. He says that a GST-oriented supplementary demand for grant may be necessary. 2:49 pm: The discussion partially goes back to Demands for Supplementary Grants.2:45 pm: Meanwhile, the Rajya Sabha is discussing the violation of conditions of Letter of Permit by foreign trawlers in deep sea fishing through a Calling Attention motion.2:40pm: It has turned into a discussion on demonetisation. BJP?s Nishikant Dubey responds. He quotes the World Bank chief as saying demonetisation will clean up Indian economy and cites OECD report saying the move will have short-term cost, but will be good for the economy in the long-run.2:35 pm: Venugopal says demonetisation and hasty implementation of GST has destroyed the economy. He concludes by quoting Lincoln, ?You can fool all the people some of the time, you can fool some people all the time, but you can?t fool all the people all the time.?2:32pm: Venugopal says everyone agrees GST is good but criticises the implementation of the regime saying there are still multiple taxes.2:30 pm:  Venugopal talks about deteriorating situation in Kashmir and job loss in 2017.?We discussed the lynchings yesterday. Everyone in the Opposition agrees it is terrible. Only the BJP ministers are justifying it,? he says.2:20 pm: Lok Sabha reconvenes. House begins discussion on Supplementary Demands for Grants.Congress MP KC Venugopal asks what the real impact of demonetisation has been. ?We, the members of the Lok Sabha, have the right to know the exact figures? how much demonetised currency has come back, how many new notes have been printed and how much black money has been unearthed. We are expecting answers from the finance minister today.2:05 pm: Government moves to withdraw The Participation of Workers in Management Bill, 1990. Motion is passed.2:02pm:  Rajya Sabha reconvenes. Jairam Ramesh raises issue of new rules regarding Finance Act notified by the government in June but not tabled in the Upper House yet.1:15 pm: Lok Sabha adjourned for lunch till 2:15 pm.1:05 pm: Amid ruckus, MPs continue to present their notices. BJP?s Anju Bala says making cow the national animal like Nepal has will reduce violence against the animal.1:00 pm: Zero Hour continues even as TMC MPs continue to protest in raised voices. Chair asks names of the companies mentioned by Somaiya to be expunged.12:57 pm: BJP?s Kirit Somaiya says one of the shareholder companies allegedly involved in a scam reportedly has the West Bengal chief minister?s as reigstered address.TMC MPs shout and raise objection.12:52pm: Kirron Kher says stalking should be considered crime against women. Invasive stalking should be criminalised, she says12:49 pm:?TMC?s Saugata Roy refers to resignations by Congress MLAs in Gujarat and BJP?s alliance with JD(U)?s Bihar. ?There are allegations the government is using its money power,? he says.12:41 pm:  Outside the Parliament, Dharmendra Pradhan says, ?Subsidy will not be cut down, it will only be rationalised. The (Opposition) uproar is baseless.?12:35 pm:  In the Lok Sabha, BJP?s Varun Gandhi asks whether MPs need higher salaries when the Cabinet and state lawmakers take salary cuts to support farmers. Tamil Nadu farmers have been holding protests in Delhi over farmer suicides.Gandhi wants MP salary examined in 15th Finance Commission.12:29 pm: Rajya Sabha reconvenes. Opposition raises of NOTA issue.Chair asks, ?How does this relate to the Question Hour???This is the ultimate question!? one MP replies.As Opposition MPs raise their voices and demand answers, Chair adjourns house till 2 pm.12:24 pm: Earlier in the day, during the BJP parliamentary party meeting, Amit Shah pulled up MPs over their absence in the Rajya Sabha on Monday, PTI reported.?When the party issues a whip, members must be present in the House. The party president has taken a serious view of the absence of members. He said it should not have happened and must not be repeated,? Parliamentary Affairs Minister Ananth Kumar saidA BJP MP present in the meeting said Shah wondered if the absentee MPs should be named as the party, including Prime Minister Narendra Modi, has repeatedly stressed on the need for their presence in Parliament.12:20 pm:  Opposition MPs shout slogans. Many walk out.12:16 pm:  In the Lok Sabha, KC Venugopal of Congress raises issue of LPG subsidy and rising oil prices. RSP?s NK Premachandaran says, ?The oil companies were told about this in March. Prices increased in July. Why is the government hiding its policies??Opposition demands response from minister.12:13 pm: Derek O?Brien intervenes and says , ?Opposition united on issue of LPG subsidy.?Chair tries to resume Question Hour but is interrupted. Ruckus in the house. Rajya Sabha adjourned for another 10 minutes.12:10 pm:  Sharma asks, ?How can the EC remove the NOTA option without coming to this House and amending laws? This will be examined but now is not the Time.??Only the courts can direct the EC,? Leader of the House, Arun Jaitley says.Opposition raises concerns about the Presidential and Vice-Presidential elections. 12: 05pm:  Rajya Sabha resumes business. Vice President Hamid Ansari in the Chair.Congress? Anand Sharma says there was no NOTA option in the Rajya Sabha election. Chair asks him to take it up with Election Commission. 12:02 pm: Rijiju refutes allegation that refugee camp in Jammu and Kashmir. ?You misunderstand. We are not making concentration camps. They are coming there and getting concentrated there,? he says.Speaker disallows all adjournment notices.11:58am: In the Lok Sabha, Congress? Mallikarjun Kharge questions the government?s response that no accurate date is available about number of illegal immigrants in the country.Impossible to get accurate number, but we are taking steps to have special task forces and prosecute such immigrants, replies MoS Kiren Rijiju.11:47 am: Rajya Sabha adjourned for a second time till noon.11:45 am: Speaker exhorts members to listen to Petroleum Minister Dharmendra Pradhan?s response. Opposition MPs walk to well of the house shouting slogans.11:40 am: Rajya Sabha resumes. Ghulam Nabi Azad on government?s rollback of LPG subsidy: This government is killing the poor. This is unacceptable.11:30 am:  TMC?s Derek O?Brien questions government notification on gas subsidies that says rates are going to be hiked month on month by Rs 4 and by March all LPG subsidies will be eliminated. O?Brien says the government is not keeping its promises.Uproar in Rajya Sabha over house not being informed about government notification.Chair adjourns house for 10 minutes.11:15 am: Zero Hour in the Rajya Sabha. Leader of Opposition Ghulam Nabi Azad raises issue of members of the house not being invited to the Parliament Annexe foundation stone laying ceremony on Monday. No one from the Rajya Sabha including the Chairman and Deputy Chairman were invited. Members of the house were not told about the event.Chair PJ Kurien takes note and says Secretary General of the Rajya Sabha has already written to the Lok Sabha regarding this impropriety.11:05 am: Question Hour begins in Lok Sabha. AIADMK?s Elumalai Vellaigounder asks the government if more Centres will be set up to expedite creation of Aadhaar cards?.11:00 am: Legislative business in the two Houses of Parliament todayIn the Lok SabhaDiscussion and voting on Supplementary Demands for Grants for 2017-18 & Demands for Excess Grants (General) for 2014-15Bills for consideration and passing:The Banking Regulation (Amendment) Bill, 2017The Central Goods and Services Tax (Extension to Jammu and Kashmir) Bill, 2017The Integrated Goods and Services Tax (Extension to Jammu and Kashmir) Bill, 2017 In the Rajya SabhaCalling attention on the situation arising out of violation of conditions of Letter of Permit by foreign trawlers in deep sea fishing in Indian seas and the action taken by the Government on it. Bill for withdrawal:The Participation of Workers in Management Bill, 1990Bills for consideration and passing:The Right of Children to Free and Compulsory Education (Amendment) Bill,2017The Factories (Amendment) Bill, 2016The Companies (Amendment) Bill, 2017\n",
      "Documento 147: Union minister for transport and shipping Nitin Gadkari has demanded that the Maharashtra government provide special facilities to those detained during the Emergency under the Maintenance of Internal Security Act (MISA). The MISA detainees on?Sunday held a convention under the banner of Satyagrahi Sangh in Nagpur after meeting Gadkari at his Mahal residence. The group, led by the Sangh?s vice-president Sacchidanand Upasane, national secretary Komal Chheda and Maharashtra unit chief Jayprakash Pande insisted that the detainees be treated as freedom fighters and be given all facilities available to a freedom fighter in the country. Incidentally, most of the MISA detainees are RSS activists or its supporters.The group submitted a memorandum to Gadkari, briefing him about the facilities and recognition extended to detainees in states like UP, MP, Bihar and Chhattisgarh. They claimed that in these states, the detainees are considered at par with the freedom fighters and given pensions and other facilities. The government in Rajasthan recently formed a committee to study facilities available to MISA and Defence of India Rules 1971 detainees in other states. The committee will its report to the state soon, they claimed. The group also pointed out that in Madhya Pradesh, MISA detainees, dubbed as ?Democracy Warrior? draw a monthly honorarium of Rs 25,000. Gadkari told the group he had already spoken to chief minister Devendra Fadnavis and the state finance minister, Sudhir Munganttiwar, in this regard. ?Both were positive on the issue.? The Congress, meanwhile, has accused the BJP-led government of trying to give such facilities to its Sangh Parivar members. ?The move is totally a political one,? says former Union minister Vilas Muttemwar. Muttemwar warned his party would launch a statewide agitation if government accepted the group?s demand.?How can these Sangh Parivar members be compared with freedom fighters??\n",
      "Documento 137: Indian-American economist Arvind Panagariya is stepping down as vice chairperson of Niti Aayog, the government?s policy think tank, and returning to academics in New York?s Columbia University.The 64-year-old professor of economics was picked by Prime Minister Narendra Modi in January 2015 to head the National Institution for Transforming India, better known as Niti Aayog, which replaced the Planning Commission.?I have requested the Prime Minister to relieve me from my responsibility as my leave in Columbia University is coming to an end on September 5 and I have decided to join back,? he told reporters on Tuesday. ?The PM has agreed after listening to me.?He will serve the think tank till August-end.According to government sources, Modi wanted him to stay but relented when Panagariya told him that his wife too wants to be with their children in the US.Panagariya said he informed the Prime Minister, who is the ex-officio chairman of Niti Aayog, about his decision about two months ago after Columbia University refused to make an exemption for him and extend his two-year, public-service leave.?There is nothing unusual in this. Henry Kissinger returned to Harvard after his leave was not extended,? he added.Modi chose him to head the new think tank to decide policies for accelerating India?s growth after his government dismantled the Soviet-style Planning Commission that functioned for 64 years.Panagariya, who is standing down after two-and-a-half years in the job, said he is satisfied with the stint in which his team built the organisation?s foundation and forged ties with the Centre and states.?Many states adopted our land leasing law bill. Over 400 schools have Atal Tinkering labs and we promoted digital economy in a big way.?He is the second economist after former RBI governor Raghuram Rajan to quit a top job in India and return to academics in the US. Rajan resigned after a three-year term in 2016 to rejoin Chicago University.At US universities one can teach as long as health permits.Panagariya said: ?I would not have got a similar job. There is no retirement and one can work till his or her body and brain functions.?He holds a PhD from Princeton University and worked with the Asian Development Bank, World Bank, IMF and UNCTAD.The economist wants to write the next edition of India: The Emerging Giant, his 2008 book that describes India?s contemporary economy.Niti Aayog advised the government to sell sick public sector units, including national carrier Air India, and proposed new regulators for education and health. It also recommended minimal government intervention in agriculture and replacing the minimum support price for farmers with a deficiency payment.But the think tank had its fare share of criticism. Some of its reform-oriented proposals were not accepted, or appreciated either.The Bharatiya Kisan Sangh, a farmer union affiliated to the ruling BJP?s ideological mentor RSS, called several Niti Aayog proposals anti-farmer and anti-labour.?There is poor response (from the government) to labour and services sectors. Following the advice of Niti Aayog, the government is moving towards contractual employment, relaxing labour laws to benefit industry,? CK Shaji Narayana, the union?s president, said some time ago.The organisation?s performance has been sketchy and change incremental. So far, it has only circulated a draft of a proposed three-year Action Agenda.Panagariya said a seven-year strategy and 15-year vision for India is ?80-85%? ready.A recipient of the Padma Bhushan in 2012, India?s third highest civilian honour, he expects a successor to be named soon to complete the work.(With agency inputs)\n",
      "Documento 9: It sounds like satire, but make no mistake: at a time when tomatoes have become forbiddingly pricey, the Congress Party has opened a 'State Bank of Tomato' in Uttar Pradesh's capital, ANI reported on Wednesday.This extraordinary development comes days after Indore wholesalers leery of tomato thieves requested - and got - security cover for their stock, according to news reports. Heavy rains in tomato-growing states have destroyed crop and affected transportation - a choke on supply which the Goods and Services Tax regime could have possibly exacerbated. Lucknow (UP): In a unique protest against the rising prices of the tomatoes, Congress opens bank called â??State Bank of Tomatoâ??. pic.twitter.com/lNpAaexgMuIn fact, denizens of major cities have had to dish out Rs 100 or more for a kilogram of the kitchen staple.Nevertheless, an official at the Indian Council for Agricultural Research has said he expects supplies from southern states to drive down prices in the next couple of weeks.For the time being, Lucknow residents can obtain interest on deposits at the Congress' State Bank of Tomato, and take the vegetables out on loan, just like money in an actual bank, ANI reported. I have deposited 0.5 Kg tomatoes, will get 1 kg after 6 months. I'm 103-year-old, never thought have to see this: Srikrishna Verma, customer pic.twitter.com/PlXdnSYGvK And if they want to keep their red gold out of the reach of covetous hands, they needn't worry. The news agency reports that State Bank of Tomato provides lockers too.-With inputs from agencies \n",
      "Documento 39: The Ghaziabad police arrested three persons and lodged an FIR under sections of the IPC and Criminal Law Amendment Act against them. Also, 14 persons were booked for causing damage to public property.The police have also named the involvement of 300-400 unidentified persons for inciting violence near ?Ala Hazrat Haj House? on Monday night.Those arrested include Naseem Khan, district president of Congress? minority cell and Puja Chaddha, the district president of Congress? women?s cell. Other Congress leaders have also been named in the FIR, in which the police alleged that 14 police personnel, including four sub-inspectors and a woman constable, were injured.?The FIR is lodged at Sahibabad police station and we have arrested three persons in this connection. Teams are on the lookout for other persons and trying to identify them through video footage,? Akash Tomar, superintendent of police (city), said.A large number of locals and Congress workers started gathering outside the Haj House near river Hindon from Monday afternoon, despite prohibitory orders in place in the district. The police also charged them under Section 188 of the IPC, which is applied only when prohibitory orders are violated.?Naseem Khan and Puja Chaddha are not traceable. We will protest against the police and the administration and will also hand them a memorandum about the lathi charge carried out by police on innocent people who were staging a peaceful dharna outside the Haj House. There were some miscreants who resorted to violence but they were outsiders,? said Harendra Kasana, district president of the Congress.For the last one week, since the Haj pilgrimage is on, locals have been demanding that the newly constructed Haj House, which was inaugurated by former UP chief minister Akhilesh Yadav in September 2016, be opened.However, the Haj House is caught up in litigation after three residents approached the National Green Tribunal and demanded its demolition, contending that the structure was built on land chunks of the Hindon floodplains.The tribunal on September 2, 2016, had said in its order, ?We make it clear that any steps or construction taken in the meanwhile shall be subject to the orders of the Tribunal passed in this Application (sic).?Earlier on July 27, Hindustan Times had published a report listing the reasons for closure of the facility. In response, UP minister Mohsin Raza had said that the decision not to make the Haj House operational was taken by the previous government (led by former Akhilesh Yadav) and the present government is continuing the same.?The decision was already taken by the previous government as the matter was with NGT even before the present government assumed office. The decision was taken to protect the environment and the river ecology. The influx of thousands of pilgrims is bound to create garbage issues in the river zone. This decision was taken earlier to avoid being in contempt of court,? Raza had said.In the meantime, the district administration has deployed police and provincial armed constabulary personnel outside the Haj House and are keeping a tight vigil on activities that may lead to an escalation of law and order.\n",
      "Documento 59: Actor Dia Mirza, who was in Delhi to walk for designer Anju Modi at the India Couture Week 2017, has not just a lovely face but also a strong mind. And that is something Twitter trolls couldn?t digest. In this era of non-stop trolling, Dia recalls how, in her early days in Bollywood, she was targeted for expressing her opinion on various issues. In recent times, Dia?s tweets have advocated water conservation on Holi and a noise-free Diwali. ?In the earlier days, when I did get trolled, it really affected and frightened me. Because when you?re told that people want to throw acid on you, or they want to rape you, or kill you, or call you anti-national because of something that you?ve said... and they ask you to move to another country... and it?s all new to you, then it really alarms you,? she says. The 35-year-old actor was trolled  on social media  when she had tweeted and urged her fans to play a dry Holi. She had written: ?The irony of the times we live in: farmers commit suicide due to drought and people waste water to ?play? #Holi. Go ahead call me anti-Hindu.? The trolls were quick to tag her as anti-national. Dia was also called intolerant when she had tweeted about wanting a cracker-free Diwali. Now, after so many years in Bollywood, Dia takes such crude reactions in her stride. The actor states that she has always voiced her opinion on issues that deeply matter to her. ?I have continued to express my opinion. I reserve my opinion for things that truly matter to me. And when you express your opinion on something that deeply matters to you, it doesn?t matter how people construe it,? she says. ?I feel that those elements on social media who are faceless and nameless, who make it their business to harass people, [don?t] need to be taken seriously. I?ve been in the public sphere long enough now to understand that we need to be like ducks and let this [trolling] be like water sliding off our backs. The only thing that matters is our own truth. The intent is what should matter,? adds the actor. Dia will be seen next in the Sanjay Dutt biopic by Rajkumar Hirani; she plays the role of Maanyata, Dutt?s wife. Speaking about her film and working with Hirani ? he is the director of such blockbusters as Lage Raho Munnabhai (2006), 3 Idiots (2009), and PK (2014) ?  Dia says, ?Rajkumar Hirani is my favourite director. (Dia worked with Hirani in Lage Raho Munnabhai, starring Sanjay Dutt as Munnabhai.) It was an absolute pleasure to be asked by him to be a part of Sanjay Dutt?s biopic. [Hirani] is one of those real people who tells stories in the most unique and honest way. I have known Sanju sir for many years and through the course of my interaction with him, I have interacted with Maanyata as well. It has been such an honour and joy working with Rajkumar Hirani, Ranbir (Kapoor, who plays Dutt?s role in biopic), Anushka (Sharma), and Vicky Kaushal.?\n",
      "Documento 7:  A 60-year old Dalit woman was allegedly lynched in Agra after villagers thought she was out to cut the hair of sleeping women, the first reported fatality of what appears to be turning into a case of mass hysteria.Growing number of people, particularly in rural districts, of Haryana, Rajasthan, Delhi, Uttar Pradesh and Madhya Pradesh have reported mysterious instances of sleeping women being attacked and their hair chopped off short.  Family members said Maan Devi left the home around 4am on Wednesday but lost her way, reaching a predominantly upper caste neighbourhood where people spotted her. ?She pleaded that she had lost her way but they took as one responsible for chopping women hair in Mutnai village and killed her,? said the victim?s daughter-in-law Kalpana Jatav.Local police first denied the death was connected to the ?ghost barber? panic. Deputy superintendent of police (DSP), Fatehabad, Dr Tej Veer Singh said a case was registered including charges relating to atrocities against Dalits, and teams were keeping a vigil in the area where the woman was killed.  The police also appeared to deny that the woman was beaten to death. ?The post-mortem report of Maan Devi indicates she died of cardiac arrest and not due to beating,? Singh said. Devi?s son has named two suspects, both from the upper caste Baghel community, in his complaint where he also said that his mother?s body had been thrown back in their village. Till Thursday, neither was arrested.Agra and villages in districts nearby were the latest to report the hair-cutting mystery that seems to be spreading since first being recorded in parts of the National Capital Region last week. Officials said on Friday that more ?sightings? were reported from the region, and the state?s Inspector General issued an appeal for people to remain calm.Women in at least five states have reported waking up to the sound of scissors, spotting black cats, and seeing ghosts and shadows. Some claimed they found portions of their hair chopped off, and others reported falling unconscious with fear.Police have dismissed the allegations as rumours in several of these cases, and administration officials are now issuing alerts for local law enforcement to tackle fear mongering. FROM MONKEY MAN TO UFOsParts of India, particularly rural districts where superstitious beliefs are common, have often been at the centre of mass hysteria events. In the summer of 2001, people in Delhi said they had spotted a mysterious monkey-like creature that appeared in the night and attacked people. Large colonies of the capital were gripped by fear as more and more bizarre ?sightings? were recorded. Vigilante groups patrolled the streets with sticks for weeks, before officials and psychiatric experts said the panic was created by ?figments of people?s imagination? that was made worse by the media coverage at the time.A year later, people in Eastern Uttar Pradesh reported spotting a light-emitting flying object that would attack them at night and scratch their face. Many referred to it as the ?muhnochwa?, a Bhojpuri amalgam that loosely translates to ?face snatcher?. At the height of the panic, people went off streets after sundown. Scientists from IIT Kanpur were roped in to investigate the event, and the ruled out the existence of the creature. The closest explanation, they said, could have been sightings of ball lightening, a rare meteorological phenomenon. Years earlier, in 1995, a more innocuous mass delusion took place when people across the country reported seeing idols of the Hindu god Ganesha drinking milk. \n",
      "Documento 61: Indian authorities have removed a copy of the Bible and the Quran from a new statue of a former president after a complaint by a Hindu nationalist party, officials said Tuesday.The removal of the books has fuelled a religious row over a carving depicting a Hindu holy book placed next to the statue of APJ Abdul Kalam at Rameswaram in the southern state of Tamil Nadu.Kalam, who as a scientist played a leading role in India?s landmark 1998 nuclear weapons tests, was president from 2002-2007 and a strongly secular figure.The sculpted Hindu Bhagvad Gita book was placed next to the statue before it was inaugurated by Prime Minister Narendra Modi last week on the second anniversary of Kalam?s death.Relatives placed the Bible and the Quran next to the Gita in protest. That infuriated the Hindu Makka Katchi nationalist party, which said it made the complaint to police.?The authorities removed the Bible and the Quran at the site. We are also looking at the complaint filed with us,? police superintendent Om Prakash Meena said. K Prabhakaran, a member of the Hindu Makkal Katchi, told an?English newspaper, ?I respect all these books. But keeping them (at the memorial) without permission is wrong. Steps should be taken to see such things are not done again.? Authorities have since prevented photographers from taking images of the statue. Memorial officials did not respond to queries. Kalam was born into poverty and sold newspapers as a child to support his family while studying. His work on India?s own nuclear weapon earned him the nickname of ?India?s missile man?.\n",
      "Documento 68: Prime Minister Narendra Modi, his fans and followers say, is a tireless man, working deep into the night without keeping track of time.But from among numerous gifts Modi received during foreign trips this year, he took home a wristwatch manufactured by British company Sekonda, besides a couple of smaller items, according to official documents.Ministers and officials have to deposit all gifts at the toshakhana, the official repository of the external affairs ministry.Any gift valued less than Rs 5000 can be kept by the recipient. For gifts above Rs 5000, they have to pay the additional amount, said an official of the toshakhana who is from the Central Board of Customs and Excise.The watch, entered as a Sekonda ?House of Commons? wristwatch, was valued at Rs 3,500. Besides the watch, the PM also took a decorative porcelain valued at Rs 1000. Among the gifts received by Modi between January and March are a model of the fabled Sha?bi housing model of the United Arab Emirates, a decorative sculpture with Argillite carving and a Mont Blanc ballpoint pen.These six gift items among the 83 latest entries at the toshakhana.The Mont Blanc pen is valued at Rs 2500 and is kept at the toshakhana. Also deposited at the repository is the model of Emirati National House, valued at Rs 4500 and a the decorative sculpture with Argillite carving, valued at Rs 2000. Argillite carvings are a sculptural tradition in the northwest coast of North America. It first became a widespread art form from the early 19th century. The toshakhana, however, doesn?t reveal the source of gifts on the ground that such disclosure is not in the interest of the bilateral relationships with countries.Officials said ministers and officials rarely take home very expensive gifts home. According to the records at the toshakhana, in the past Modi took two dinner sets worth Rs 10,000 and a carpet worth Rs 15000, after paying the excess amounts.A report said former Prime Minister Manmohan Singh took 101 items from the numerous gifts he received during his 10 years in office.These gifts include an ornamental silver elephant embedded with semi-precious stones, 10 paintings, a Bose sound system and a gold-plated Piaget ladies wrist watch. And out of these, only seven are valued above Rs 5,000.\n",
      "Documento 125: A day after Bihar chief minister Nitish Kumar accused long-time ally Lalu Prasad of being smothered in corruption, the Rashtriya Janata Dal (RJD) chief hit back on Tuesday, asserting that his ?friend-turned-foe? was a ?turncoat? and he (Nitish Kumar) is known for his dubious character.Speaking at a press conference in Patna, Lalu Prasad said, ?I know Nitish Kumar from the beginning as I?m senior to him. He is one big ?palturam? (turncoat) whose true colours will soon show. From the very beginning, he is known for his dubious character. Nitish has forgotten the days when he used to take my blessing and go for any political debate or talks?.Further lashing out at Nitish Kumar, Lalu Prasad said that only because of Mulayam Singh, he allowed the chief minister in his alliance.?Yesterday (Monday) when he accused me and my family; I knew it was coming. As he is not a man of his words. He has also forgotten the day when I made him rule the state and join my alliance with open arms. It was only because of Mulayam Singh that I agreed to accept him in my party. But today I regret of the time spent and the moment lost,? he said.Taking a jibe at Prime Minister Narendra Modi, Lalu Prasad said Nitish Kumar used to speak ill of the BJP and today, he is singing the party?s glory.?Till yesterday, Nitish was accusing Prime Minister Narendra Modi. Now suddenly he is singing his praises and calling him the biggest leader in the country. This comes as a shock to me! He also added that there is no one who can defeat him. I know Nitish?s intentions as he wants to sacrifice my children for his glory and name,? Lalu Prasad added.On Monday, Nitish Kumar, while addressing his first press conference after joining hands with the BJP, declared that no one is capable to face and beat Prime Minister Modi in the 2019 Lok Sabha elections.He praised Modi, calling him the ?biggest leader? in the country and added that ?there is no one who can defeat him?.Nitish Kumar also explained that he had given his long time friend Lalu Prasad ample opportunities to explain the charges of corruption against him, but to no avail.If Lalu Prasad had explained himself over the corruption allegations, then the situation could have been different in Bihar, Nitish Kumar said.?I had asked Lalu to clarify the allegations of corruption against him and put the facts forward. It will send a positive impact on the public and which is also good for the mahagathbandhan. I have tolerated everything, thought this happens in alliance as I didn?t have a choice. I continued my work for the betterment of people,? he added.Meanwhile, Lalu Prasad has invited Janata Dal (United) leader Sharad Yadav to lead the fight against the BJP and Nitish Kumar, who, according to him, joined hands with ?communal and fascist forces and betrayed the people?s mandate?.?Nitish has tarnished the image of Ambedkar. I urge Sharad Yadav, whom we consider the true leader, to travel to every corner of the country and come to Bihar and join our fight against the BJP and Nitish Kumar,? Lalu Prasad told ANI.On July 26, Nitish Kumar resigned as the chief minister and ended the two-year alliance with the RJD and the Congress over corruption charges against his deputy and Lalu Prasad?s son Tejashwi Yadav.\n",
      "Documento 110: Russian President Vladimir Putin has signed a law that prohibits technology that provides access to websites banned in the country, the government?s website said.The law, already approved by the Duma, the lower house of parliament, will ban the use of virtual private networks (VPNs) and other technologies, known as anonymizers, that allow people to surf the web anonymously. It comes into force on November 1.Leonid Levin, the head of the Duma?s information policy committee, has said the law is not intended to impose restrictions on law-abiding citizens but is meant only to block access to ?unlawful content,? RIA news agency said.\n",
      "Documento 75: The Uttar Pradesh cabinet on Tuesday approved a proposal to make registration of marriages compulsory for every resident of the state, regardless of religion or community.Chief minister Yogi Adityanath presided over a cabinet meeting to adopt the Uttar Pradesh Marriage Registration Rules-2017, which stipulates compulsory registration of marital alliances and lays down penalties for any delay in this regard. Though the fines are not particularly hefty ? Rs 10 for delay up to a year and Rs 50 beyond that period ? it is liable to increase over time. ?We took all sections of society into confidence before taking a decision on the issue,? health minister Siddharth Nath Singh told mediapersons later in the day.However, Singh admitted that the cabinet did not concede to demands from a few Muslim clerics who wanted their community exempt from having to furnish photographs of the bride and groom. ?Yes, they made such a demand because the nikahnama (the Islamic marriage contract) does not carry images. But if photographs can be submitted to procure documents such as Aadhaar cards, I don?t see why the same cannot be done for marriage registration,? he said.While the stamps and registration department will double as the nodal agency for marriage registration, the government will launch an online portal to ensure easy access. The Centre had already made marriage registration compulsory across the country, in keeping with a 2006 Supreme Court ruling. Uttar Pradesh was among the only two states that had failed to implement the directive, an anomaly that minister for women welfare and tourism development Rita Bahuguna Joshi had earlier vowed to rectify. ?We will implement the Supreme Court?s order in the state. A cabinet note is being prepared, and the same will be sent for the cabinet?s approval,? she had said.The erstwhile Samajwadi Party government had deferred taking a decision on the matter in view of strong objections from Muslims. Community leaders maintained that as the nikahnama contains all the relevant details pertaining to marriages, the state should treat it as a valid substitute for the registration certificate. \n",
      "Documento 4: Hotels in Mumbai and other Indian cities are to train their staff to spot signs of sex trafficking such as frequent requests for bed linen changes or a \"Do not disturb\" sign left on the door for days on end. The group behind the initiative is also developing a mobile phone app - Rescue Me - which hotel staff can use to alert local police and senior anti-trafficking officers if they see suspicious behavior. \"Hotels are breeding grounds for human trade,\" said Sanee Awsarmmel, chairman of the alumni group of Maharashtra State Institute of Hotel Management and Catering Technology. \"(We) have hospitality professionals working in hotels across the country. We are committed to this cause.\"The initiative, spearheaded by the alumni group and backed by the Maharashtra state government, comes amid growing international recognition that hotels have a key role to play in fighting modern day slavery. MAHARASHTRA MAJOR DESTINATION FOR TRAFFICKED GIRLS Maharashtra, of which Mumbai is the capital, is a major destination for trafficked girls who are lured from poor states and nearby countries on the promise of jobs, but then sold into the sex trade or domestic servitude. With rising property prices, some traditional red light districts like those in Mumbai have started to disappear pushing the sex trade underground into private lodges and hotels, which makes it hard for police to monitor.Awsarmmel said hotels would be told about 50 signs that staff needed to watch out for.These include requests for rooms with a view of the car park which are favored by traffickers as they allow them to vet clients for signs of trouble and check out their cars to gauge how much to charge.Awsarmmel said hotel staff often noticed strange behavior such as a girl's reticence during the check-in process or her dependence on the person accompanying her to answer questions and provide her proof of identity.But in most cases, staff ignore these signs or have no idea what to do, he told the Thomson Reuters Foundation.RESCUE ME APP The Rescue Me app - to be launched in a couple of months - will have a text feature where hotel staff can fill in details including room numbers to send an alert to police.Human trafficking is the world's fastest growing criminal enterprise worth an estimated $150 billion a year, according to the International Labor Organization, which says nearly 21 million people globally are victims of forced labor and trafficking.Last year, major hotel groups, including the Hilton and Shiva Hotels, pledged to examine their supply chains for forced labor, and train staff how to spot and report signs of trafficking.Earlier this year, Mexico City also launched an initiative to train hotel staff about trafficking.Vijaya Rahatkar, chairwoman of the Maharashtra State Women's Commission, said the initiative would have an impact beyond the state as the alumni group had contact with about a million small hotels across India.The group is also developing a training module on trafficking for hotel staff and hospitality students which could be used across the country.ALSO READFYI | Legal revenge: Child sex trafficking survivors get 'School of Justice' to fight their own battlesMumbai: Woman DJ arrested in high-profile sex racket case\n",
      "Documento 128: Police resorted to lathicharge as nearly 500 protesters, gathered at the newly constructed Haj House in Ghaziabad, turned violent and pelted stones at the cops.   The protesters, led by members of the district Congress committee, on Monday gathered outside the Ala Hazrat Haj House in the city and demanded opening it for Haj pilgrims immediately. The facility was inaugurated by former chief minister Akhilesh Yadav last September but has remained locked ever since.Members of the Muslim community also offered namaz outside the locked facility and demanded its proper utilisation as the annual Haj pilgrimage nears.Police said there were around 400 to 500 protestors at the gate who, around 9:30pm, started pelting stones at police personnel deployed in view of the agitation. The protesters also blocked traffic on GT Road, resulting in heavy snarls from?Mohan Nagar to Ghaziabad city. Police have picked up ?four to five persons who were the brain behind the entire protest?. Heavy contingent of police and PCR vans were deployed at the site and also in the sensitive areas of Ghaziabad city.?We demand that the Haj House be opened immediately as it has been locked by the district administration. The Haj House was developed to facilitate the pilgrims. The facility is fully developed, but no one can use it and the pilgrims have to go to Delhi to move ahead for their pilgrimage,? said Naseem Khan, district president of minority cell, Ghaziabad.?It is sheer negligence that Haj pilgrims cannot use a facility developed for their use. We feel that the present government is biased and is acting against the sentiments of the community. We will stay here till the Haj House is opened for the pilgrims,? said Puja Chadda, a local Congress member.Following the demonstration, the city police posted a contingent at the site.?Our personnel are posted at the spot, keeping a close watch over the developments. We told the protesters that the facility has not been locked by the district administration and they have no role in opening or closing it,? said Akash Tomar, superintendent of police (city).An appeal against the 4.3-acre complex, built along the river Hindon, is pending with the National Green Tribunal (NGT). The petitioners, all Ghaziabad residents, had contended that the Haj House had come up on river land and should be demolished.The tribunal had on September 2, 2016 said in its order, ?We make it clear that any steps or construction taken in the meanwhile shall be subject to the orders of the Tribunal passed in this Application (sic).?Earlier, on July 27, HT had published a report on the facility lying non-functional. In the report, UP minister of state for Waqf, Mohsin Raza, had said that the decision was taken by the previous state government and the present government has maintained the status quo.?The decision was already made by the previous government as the matter was with the NGT even before the present government assumed office. The decision was taken to protect the environment and the river?s ecology. If thousands of pilgrims arrive here it is bound to create garbage issues for the river zone. So, the closure was an earlier decision taken up to avoid contempt of court,? Raza had said.\n",
      "Documento 67: Sheikhs from Egypt?s highest Islamic authority have opened a fatwa kiosk in the Cairo metro to offer religious advice to commuters in what they say is an effort to counter extremism.The idea is proving popular with travellers passing through Cairo?s al-Shohada metro station, a busy transport hub, who queue up to sit with a group of religious scholars inside a green patterned booth, sheltered from the bustle of the metro.?We usually talk about the issues of daily life, and what religion says about such things. The topics we mostly discuss are marriage, divorce and inheritance,? said one sheikh staffing the booth for the morning commute, who declined to be named.According to al-Azhar al-Sharif, Egypt?s top Islamic body, which installed the booth, the project is intended to correct misinterpretations of Islam. The institution has frequently clashed with the government of the president, Abdel-Fatah al-Sisi, who has repeatedly called for a ?religious reformation? in Islam to combat extremism.Egypt has grappled with a spike in jihadist activity since Sisi came to power in 2013, including a recent string of large-scale attacks on Coptic Christian sites as well as ongoing violence in the Sinai peninsula.Al-Azhar, established in Cairo in 971 as a centre of Sunni Muslim learning, is hoping that the booth will help steer Egyptians away from extremist thought.Sheikh Tamer Mattar, the coordinator of its International Centre for Electronic Fatwas, said that the booth was designed to direct citizens to seek advice from al-Azhar, instead of extremist groups. ?The experiment was successful so far and we hope that it will expand,? he said. ?We can say it was successful, as in the eight days of the initiative, we received 1,500 questions. At any moment you can find tens of people waiting to present theirs.?The booth operates two shifts daily, welcoming visitors from 9am until 8pm. Yet few seemed convinced that the project would attract those with pre-existing extremist tendencies to seek guidance, especially as those staffing the booth noted down the identity card number of those visiting along with their complaints. Extremists won?t come to us to seek advice,? said the sheikh staffing the booth for its morning shift. ?We?re targeting people on the street who are ignorant of religious matters ? they come to us and we try to put them on the right track of moderation.? Mohamed Abu-Hamed, an Egyptian MP who has sparred frequently with al-Azhar over a desire for greater government regulation of the religious body and its teachings, dismissed the booths. ?The whole project is absurd. It is a superficial understanding of the call to renew the religious rhetoric,? he said.?When we talk about renewing religious rhetoric, we mean the main content [of their teachings],? he said. ?If al-Azhar created these kiosks while thinking that this is renewing religious rhetoric, then they don?t get it. They are doing this to evade making any real changes.? \n",
      "Documento 108: (Eds: Updating with fresh quotes) By K J M Varma Beijing, Aug 1 (PTI) China will never seek \"aggression or expansion\" but will not allow anyone to \"split its territory\", President Xi Jinping asserted today as he lauded the Armys strong resolve to protect the countrys sovereignty and defeat \"all invasions\" amid territorial disputes with its neighbours. \"No one should expect us to swallow the bitter fruit that is harmful to our sovereignty, security or development interests,\" Xi said as the Peoples Liberation Army (PLA) is engaged in a standoff with Indian troops at Doklam in the Sikkim section since mid-June. Though there was no direct reference to the Sikkim standoff, Xi urged the PLA to focus on war preparedness to forge an elite and powerful force that is always \"ready for the fight, capable of combat and sure to win\". \"There are various means and choices to safeguard peace and security and prevent war, but military means should remain the final guarantee,\" he said.  Xi, also general secretary of the Communist Party of China Central Committee and chairman of the Central Military Commission, made the remarks at the ceremony to mark the 90th founding anniversary of the 2.3 million strong PLA, the worlds largest standing army. He said China would never allow \"any people, organisation or political party to split any part of Chinese territory out of the country at any time, in any form.\" \"The Chinese people love peace. We will never seek aggression or expansion, but we have the confidence to defeat all invasions,\" Xi, 64, said at the ceremony held at the Great Hall of the People attended by Premier Li Keqiang and other top leaders of the ruling Communist Party and army officials. This is the second time in three days that Xi spoke of the PLAs capability to thwart invasions. On July 30, Xi during a massive PLA parade had said, \"I firmly believe that our gallant military has both confidence and ability to defeat all invading enemies\". His remarks came in the midst of a massive official media campaign and assertion by Chinas foreign and defence ministries accusing Indian troops of trespassing into Chinese territory at Doklam. National Security Advisor Ajit Doval during the Brazil, Russia, India, China, South Africa NSAs meet here on July 27- 28 also held separate talks with his Chinese counterpart Yang Jiechi. Both the countries are tight-lipped about the outcome of Doval-Yang talks. China is also engaged in a number of maritime disputes with its neighbours like Japan, the Philippines and Vietnam in the East and South China seas. Beijing also threatens to use force against arch-rival Taiwan if negotiations fail to reunify the island with the mainland. In his speech today, Xi called for new generation of \"capable, brave and virtuous\" army \"with souls\" in order to build a strong military. He reiterated that the PLA should function under the CPC leadership, highlighting that its sole command is the party leadership not the government like elsewhere in the world. The PLA should firmly safeguard the CPCs leadership and the socialist system, protect national sovereignty, security and development interests as well as regional and world peace, he said. The life of the military personnel lies in combat ability, he said, urging the PLA to strengthen its awareness of being prepared for any eventualities. \"All thoughts must be put on combat, and all work should focus on combat so the military can assemble, charge forward and win any time the party and the people need them to,\" he said. \n",
      "Documento 103: The Raghubar Das government in Jharkhand on Tuesday cleared the draft of an anti-conversion bill which discourages conversion to another religion through force or allurement even as opposition, religious groups and tribal activists criticised the move.The Jharkhand Anti-Conversion bill is likely to be tabled in the upcoming monsoon session of the assembly beginning August 8, home department sources said.As per the draft, anyone found guilty of forcibly converting ones religion through force or allurement, would be liable for punishment that includes jail term of three years and fine Rs 50,000.Individuals voluntarily opting to switch to another religion would have to inform the local deputy commissioner/collector about the reasons and the place of conversion, failing which he will be liable for prosecution and punishment.As per the cabinet decision, if forced conversion is found against minor, tribal, SC or woman, the culprit would be liable for imprisonment of up to four years and fine of Rs 1 lakh.If passed, Jharkhand would become the sixth Indian state to have an ?anti-conversion law? following Madhya Pradesh, Chhattisgarh, Odisha, Gujarat and Himachal Pradesh.Jharkhand Population Stats26% of Jharkhand population is tribalOf them, 39 % claim to be Hindus while 14.5 % follow ChristianityAs per 2011 census, Christian population rose by 29.7%, Muslims by 28.4% and Hindus by 21%Jharkhand government has identified 106 Christian affiliate NGOs that are misusing government money for religious conversionEver since the BJP government came to power with a full majority in December 2014, it has stepped up efforts to check religious conversion, specifically of tribals, who constitute 26% of the state?s total population.The trigger for the proposed bill came early this year when the government of India released the population census. As per the 2011 census, the Christian population in Jharkhand rose by a whopping 29.7% in the last 10 years followed by that of Muslims 28.4%, while Hindu population rose by 21%.To begin with, the government curbed the flow of government funds to various Christian affiliate social organisations and development groups that were allegedly misusing government money to convert people.Chief minister Das has voiced his concerns over the conversion of tribals through force or allurement on several occasions, and asked gullible tribals to protect their culture and religious practices at any cost.?Those indulging in forcible religious conversion would not be spared,? Das had said at a couple of public meetings in Gumla and Khunti, urging tribals not to fall prey to the baits of Christian missionary organisations.Christian and pro-Christian tribal groups had then raised objections over the CM?s remarks. Senior IAS officer Vandana Dadel, a tribal and practicing Catholic, shared her anguish on Facebook over the government?s over-indulgence in checking religious conversions, which, she said, is an individual?s choice and hence, should be left to the people.Christian groups have again upped their ante, this time, against the proposed legislation.?The BJP government?s intentions are not good. It wants to divide the tribals to further their political agenda in preparations for the next election,? said Prem Chand Murmu, president of Adivasi Budhijivi Manch (ABM).?Conversion is an individual choice. When one converts, his religion changes, not his caste. Reservation is given on basis of caste, not religion. But the BJP government is relating conversion to caste, which is not fair. We will protest the legislation,? he said.Murmu on Monday called on the National ST Commission and drew its attention towards the alleged violation of democratic rights of tribals in the state.Opposition Congress and JMM too criticised the proposed legislation. ?BJP wants to impose the RSS ideology on tribals and further their divide and rule agenda in the state,? said state Congress secretary, Aditya Vikram Jaiswal.JMM spokesperson Supriyo Bhattacharya said the legislation is aimed at creating friction among the tribal society, which does not augur well for the secular fabric of the nation. ?We will oppose the legislation tooth and nail,? he said.\n"
     ]
    }
   ],
   "source": [
    "# Input para sistema de recuperación de la información específico para consultas de texto libre\n",
    "\n",
    "ruta_csv = \"news_corpus.csv\"\n",
    "\n",
    "# Solicitar consulta al usuario\n",
    "consulta = input(\"Introduce tu consulta: \")\n",
    "\n",
    "# Ejecutar ranking\n",
    "ranking_documentos_por_consulta(consulta, ruta_csv)"
   ]
  }
 ],
 "metadata": {
  "kernelspec": {
   "display_name": "Python (spaCy)",
   "language": "python",
   "name": "spacy_env"
  },
  "language_info": {
   "codemirror_mode": {
    "name": "ipython",
    "version": 3
   },
   "file_extension": ".py",
   "mimetype": "text/x-python",
   "name": "python",
   "nbconvert_exporter": "python",
   "pygments_lexer": "ipython3",
   "version": "3.10.18"
  }
 },
 "nbformat": 4,
 "nbformat_minor": 5
}
