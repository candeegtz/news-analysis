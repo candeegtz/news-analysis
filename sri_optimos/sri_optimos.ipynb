{
 "cells": [
  {
   "cell_type": "markdown",
   "id": "48ef5594-63dc-4ec7-9042-9ff2b95bf8a7",
   "metadata": {},
   "source": [
    " ## 1. Lectura de datos"
   ]
  },
  {
   "cell_type": "code",
   "execution_count": 1,
   "id": "664d7227-c596-4ba9-9265-2ba17abe1b4e",
   "metadata": {},
   "outputs": [
    {
     "name": "stdout",
     "output_type": "stream",
     "text": [
      "Requirement already satisfied: nltk in c:\\users\\usuario\\appdata\\roaming\\python\\python39\\site-packages (3.9.1)\n",
      "Requirement already satisfied: regex>=2021.8.3 in c:\\users\\usuario\\appdata\\roaming\\python\\python39\\site-packages (from nltk) (2024.11.6)\n",
      "Requirement already satisfied: joblib in c:\\users\\usuario\\miniconda3\\lib\\site-packages (from nltk) (1.4.2)\n",
      "Requirement already satisfied: tqdm in c:\\users\\usuario\\miniconda3\\lib\\site-packages (from nltk) (4.63.0)\n",
      "Requirement already satisfied: click in c:\\users\\usuario\\appdata\\roaming\\python\\python39\\site-packages (from nltk) (8.1.8)\n",
      "Requirement already satisfied: colorama in c:\\users\\usuario\\miniconda3\\lib\\site-packages (from click->nltk) (0.4.4)\n"
     ]
    },
    {
     "name": "stderr",
     "output_type": "stream",
     "text": [
      "[nltk_data] Downloading package punkt_tab to\n",
      "[nltk_data]     C:\\Users\\Usuario\\AppData\\Roaming\\nltk_data...\n",
      "[nltk_data]   Package punkt_tab is already up-to-date!\n",
      "[nltk_data] Downloading package averaged_perceptron_tagger to\n",
      "[nltk_data]     C:\\Users\\Usuario\\AppData\\Roaming\\nltk_data...\n",
      "[nltk_data]   Package averaged_perceptron_tagger is already up-to-\n",
      "[nltk_data]       date!\n",
      "[nltk_data] Downloading package averaged_perceptron_tagger_eng to\n",
      "[nltk_data]     C:\\Users\\Usuario\\AppData\\Roaming\\nltk_data...\n",
      "[nltk_data]   Package averaged_perceptron_tagger_eng is already up-to-\n",
      "[nltk_data]       date!\n",
      "[nltk_data] Downloading package wordnet to\n",
      "[nltk_data]     C:\\Users\\Usuario\\AppData\\Roaming\\nltk_data...\n",
      "[nltk_data]   Package wordnet is already up-to-date!\n",
      "[nltk_data] Downloading package omw-1.4 to\n",
      "[nltk_data]     C:\\Users\\Usuario\\AppData\\Roaming\\nltk_data...\n",
      "[nltk_data]   Package omw-1.4 is already up-to-date!\n"
     ]
    },
    {
     "data": {
      "text/plain": [
       "True"
      ]
     },
     "execution_count": 1,
     "metadata": {},
     "output_type": "execute_result"
    }
   ],
   "source": [
    "!pip install nltk\n",
    "import nltk\n",
    "\n",
    "from nltk import download\n",
    "\n",
    "download('punkt_tab')                           # Tokenización\n",
    "nltk.download('averaged_perceptron_tagger')     # POS tagging\n",
    "nltk.download('averaged_perceptron_tagger_eng') # POS tagging\n",
    "nltk.download('wordnet')                        # WordNet lemmatizer\n",
    "nltk.download('omw-1.4')                        # WordNet multilingüe"
   ]
  },
  {
   "cell_type": "code",
   "execution_count": 2,
   "id": "a763f51b-d254-49b1-9642-c4ef91d2e21f",
   "metadata": {},
   "outputs": [],
   "source": [
    "from nltk.tokenize import word_tokenize\n",
    "from nltk.stem.lancaster import LancasterStemmer\n",
    "from nltk.corpus import stopwords\n",
    "from nltk.data import path\n",
    "from nltk.stem import WordNetLemmatizer\n",
    "from nltk import pos_tag\n",
    "from sklearn.feature_extraction.text import TfidfVectorizer\n",
    "from collections import defaultdict\n",
    "from nltk.corpus import wordnet as wn\n",
    "import numpy as np\n",
    "\n",
    "path.append(\".\")"
   ]
  },
  {
   "cell_type": "code",
   "execution_count": 3,
   "id": "1c81921b-6b6f-4e41-b7d2-ba1e3685fcff",
   "metadata": {
    "scrolled": true
   },
   "outputs": [
    {
     "name": "stdout",
     "output_type": "stream",
     "text": [
      "Requirement already satisfied: contractions in c:\\users\\usuario\\miniconda3\\lib\\site-packages (0.1.73)\n",
      "Requirement already satisfied: textsearch>=0.0.21 in c:\\users\\usuario\\miniconda3\\lib\\site-packages (from contractions) (0.0.24)\n",
      "Requirement already satisfied: pyahocorasick in c:\\users\\usuario\\miniconda3\\lib\\site-packages (from textsearch>=0.0.21->contractions) (2.1.0)\n",
      "Requirement already satisfied: anyascii in c:\\users\\usuario\\miniconda3\\lib\\site-packages (from textsearch>=0.0.21->contractions) (0.3.2)\n"
     ]
    }
   ],
   "source": [
    "!pip install contractions\n",
    "import contractions"
   ]
  },
  {
   "cell_type": "code",
   "execution_count": 4,
   "id": "87eb78f2-614e-4ccb-b4de-9ed2ae89abc3",
   "metadata": {},
   "outputs": [],
   "source": [
    "import csv\n",
    "import pandas as pd\n",
    "from bs4 import BeautifulSoup\n",
    "from pprint import pprint\n",
    "import re\n",
    "from bs4 import MarkupResemblesLocatorWarning\n",
    "import warnings"
   ]
  },
  {
   "cell_type": "code",
   "execution_count": 5,
   "id": "0600f1f9-ea7b-4279-b084-e340b41f83df",
   "metadata": {},
   "outputs": [],
   "source": [
    "from sklearn.pipeline import Pipeline\n",
    "from sklearn.feature_extraction.text import TfidfVectorizer\n",
    "from sklearn.neighbors import KNeighborsClassifier\n",
    "from sklearn.metrics import recall_score\n",
    "from sklearn.feature_extraction.text import TfidfVectorizer\n",
    "from sklearn.pipeline import Pipeline\n",
    "from sklearn.feature_extraction.text import TfidfTransformer\n",
    "from sklearn.neighbors import KNeighborsClassifier\n",
    "import spacy"
   ]
  },
  {
   "cell_type": "code",
   "execution_count": 6,
   "id": "9ec4bf2f",
   "metadata": {},
   "outputs": [
    {
     "name": "stdout",
     "output_type": "stream",
     "text": [
      "Requirement already satisfied: whoosh in c:\\users\\usuario\\miniconda3\\lib\\site-packages (2.7.4)\n"
     ]
    }
   ],
   "source": [
    "import json\n",
    "import os\n",
    "import shutil\n",
    "from sklearn.metrics.pairwise import cosine_similarity\n",
    "from collections import Counter\n",
    "from collections import defaultdict\n",
    "from tempfile import mkdtemp\n",
    "\n",
    "!pip install whoosh\n",
    "from whoosh.index import create_in\n",
    "from whoosh.index import open_dir\n",
    "from whoosh.fields import Schema, TEXT, ID\n",
    "from whoosh.qparser import QueryParser\n",
    "from whoosh.analysis import StemmingAnalyzer\n",
    "from whoosh import scoring\n",
    "from whoosh.query import Term, Or"
   ]
  },
  {
   "cell_type": "code",
   "execution_count": 7,
   "id": "a4734533-b325-41d9-afcc-bde22a4c36f7",
   "metadata": {},
   "outputs": [],
   "source": [
    "warnings.filterwarnings(\"ignore\", category=MarkupResemblesLocatorWarning)"
   ]
  },
  {
   "cell_type": "code",
   "execution_count": 8,
   "id": "590d2b1f-c1bd-47f5-84e9-35b82ba8e136",
   "metadata": {},
   "outputs": [],
   "source": [
    "palabras_vacias_ingles = stopwords.words('english')"
   ]
  },
  {
   "cell_type": "code",
   "execution_count": 9,
   "id": "c1465605",
   "metadata": {},
   "outputs": [],
   "source": [
    "nlp = spacy.load(\"en_core_web_sm\")"
   ]
  },
  {
   "cell_type": "code",
   "execution_count": 10,
   "id": "5f0d9972-08dd-4181-9d8c-124eed854eaa",
   "metadata": {},
   "outputs": [],
   "source": [
    "def elimina_html(contenido):\n",
    "    return BeautifulSoup(contenido).get_text()\n",
    "\n",
    "def elimina_no_alfanumerico(contenido):\n",
    "    return [re.sub(r'[^\\w]', '', palabra)\n",
    "            for palabra in contenido\n",
    "            if re.search(r'\\w', palabra)]\n",
    "\n",
    "def expandir_constracciones(contenido):\n",
    "    return contractions.fix(contenido)\n",
    "\n",
    "def pasar_a_minuscula(contenido):\n",
    "    return contenido.lower()\n",
    "\n",
    "def limpiar_texto(texto):\n",
    "    texto = re.sub(r'[^a-zA-Z\\s]', ' ', texto)  # Reemplaza todo lo que no es letra o espacio con espacio\n",
    "    texto = re.sub(r'\\s+', ' ', texto).strip()\n",
    "    return texto\n",
    "\n",
    "def elimina_palabras_vacias(contenido):\n",
    "    return [palabra for palabra in contenido if palabra not in palabras_vacias_ingles]\n",
    "\n",
    "def lematizador(contenido):\n",
    "    lemmatizer = WordNetLemmatizer()\n",
    "    pos_tags = pos_tag(contenido)\n",
    "\n",
    "    resultado = []\n",
    "    for palabra, tag in pos_tags:\n",
    "        if tag.startswith('VB'):  # Verbos\n",
    "            resultado.append(lemmatizer.lemmatize(palabra, pos='v'))  # infinitivo\n",
    "        else:  # Sustantivos y el resto tal como están\n",
    "            resultado.append(palabra)\n",
    "\n",
    "    return resultado\n",
    "\n",
    "def extraer_noun_chunks(tokens):\n",
    "    resultados = []\n",
    "    doc = nlp(\" \".join(tokens))\n",
    "\n",
    "    noun_chunks = [chunk.text.lower().strip() for chunk in doc.noun_chunks if len(chunk.text.split()) <= 3]\n",
    "    noun_chunks_set = set(noun_chunks)\n",
    "\n",
    "    i = 0\n",
    "    while i < len(tokens):\n",
    "        composed2 = \" \".join(tokens[i:i+2]).lower()\n",
    " \n",
    "        if composed2 in noun_chunks_set:\n",
    "            i += 2 \n",
    "        else:\n",
    "            resultados.append(tokens[i].lower())\n",
    "            i += 1\n",
    "\n",
    "    return resultados + noun_chunks\n"
   ]
  },
  {
   "cell_type": "code",
   "execution_count": 11,
   "id": "be069f95-8d51-4137-82e6-c94ce64d6cf1",
   "metadata": {},
   "outputs": [],
   "source": [
    "def proceso_contenido(texto):\n",
    "    texto = elimina_html(texto)\n",
    "    texto = expandir_constracciones(texto)\n",
    "    texto = pasar_a_minuscula(texto)\n",
    "    texto = limpiar_texto(texto)                # Limpiar antes de tokenizar\n",
    "    tokens = word_tokenize(texto)               \n",
    "    tokens = elimina_no_alfanumerico(tokens)    # Limpiar tokens individuales\n",
    "    tokens = elimina_palabras_vacias(tokens)\n",
    "    tokens = lematizador(tokens)\n",
    "    return tokens"
   ]
  },
  {
   "cell_type": "markdown",
   "id": "e2ab91af-6889-4d35-bf21-77a356505272",
   "metadata": {},
   "source": [
    " ## 2. Construcción de ambos sistemas de recuperación de la información"
   ]
  },
  {
   "cell_type": "code",
   "execution_count": 12,
   "id": "7a47e609-1ae0-4c06-a890-346ed46c17bf",
   "metadata": {},
   "outputs": [],
   "source": [
    "def procesar_csv_corpus(ruta_csv):\n",
    "    \"\"\"\n",
    "    Carga y procesa un archivo CSV con tres columnas: autor, título y cuerpo.\n",
    "    Aplica la función proceso_contenido a cada parte y devuelve una lista de listas procesadas.\n",
    "    \n",
    "    Parámetros:\n",
    "        ruta_csv (str): Ruta al archivo CSV. Por defecto es \"news_corpus.csv\".\n",
    "    \n",
    "    Retorna:\n",
    "        list: Lista donde cada elemento es una lista combinada del contenido procesado.\n",
    "    \"\"\"\n",
    "    # Cargar CSV con codificación segura y punto y coma como separador\n",
    "    df = pd.read_csv(ruta_csv, encoding=\"latin-1\", sep=\";\", quotechar='\"')\n",
    "\n",
    "    # Verificar que tenga exactamente 3 columnas\n",
    "    assert df.shape[1] == 3, \"El CSV no tiene exactamente 3 columnas. Revisa el separador o las comillas.\"\n",
    "\n",
    "    resultados = []\n",
    "\n",
    "    for _, fila in df.iterrows():\n",
    "        autor = fila.iloc[0]\n",
    "        titulo = fila.iloc[1]\n",
    "        cuerpo = fila.iloc[2]\n",
    "\n",
    "        autor_proc = proceso_contenido(autor)\n",
    "        titulo_proc = proceso_contenido(titulo)\n",
    "        cuerpo_proc = proceso_contenido(cuerpo)\n",
    "\n",
    "        # Unir las tres listas en una sola lista combinada\n",
    "        fila_combinada = autor_proc + titulo_proc + cuerpo_proc\n",
    "        resultados.append(fila_combinada)\n",
    "    \n",
    "    return resultados"
   ]
  },
  {
   "cell_type": "code",
   "execution_count": 13,
   "id": "f5dec715-f745-4ddc-b33d-826a536f516f",
   "metadata": {},
   "outputs": [],
   "source": [
    "def documentos_corpus_cuerpo(ruta_csv):\n",
    "    # Cargar CSV con codificación segura y punto y coma como separador\n",
    "    df = pd.read_csv(ruta_csv, encoding=\"latin-1\", sep=\";\", quotechar='\"')\n",
    "\n",
    "    # Verificar que tenga exactamente 3 columnas\n",
    "    assert df.shape[1] == 3, \"El CSV no tiene exactamente 3 columnas. Revisa el separador o las comillas.\"\n",
    "\n",
    "    resultados = []\n",
    "\n",
    "    for _, fila in df.iterrows():\n",
    "        cuerpo = fila.iloc[2]\n",
    "        resultados.append(cuerpo)\n",
    "\n",
    "    return resultados"
   ]
  },
  {
   "cell_type": "code",
   "execution_count": 14,
   "id": "801b520c",
   "metadata": {},
   "outputs": [],
   "source": [
    "def lectura_normalizada_corpus():\n",
    "    df = pd.read_csv(\"news_corpus.csv\", encoding=\"latin-1\", sep=\";\", quotechar='\"')\n",
    "    resultados = []\n",
    "\n",
    "    for index, fila in df.iterrows():\n",
    "        autor = [fila.iloc[0]]\n",
    "        titulo = fila.iloc[1]\n",
    "        cuerpo = fila.iloc[2]   \n",
    "\n",
    "        titulo_proc = proceso_contenido(titulo)\n",
    "        cuerpo_proc = proceso_contenido(cuerpo)\n",
    "\n",
    "        # Unir las tres listas en una sola lista combinada\n",
    "        fila_combinada =  autor + titulo_proc + cuerpo_proc\n",
    "\n",
    "        contenido_final = extraer_noun_chunks(fila_combinada)\n",
    "        resultados.append(contenido_final)\n",
    "    return resultados\n",
    "\n",
    "def expand_term(term):\n",
    "    related = set()\n",
    "    for syn in wn.synsets(term):\n",
    "        for lemma in syn.lemmas():\n",
    "            word = lemma.name().replace('_', ' ').lower()\n",
    "            if word != term:\n",
    "                related.add(word)\n",
    "    return related\n",
    "\n",
    "def expand_corpus_with_synonyms(documento):\n",
    "    doc_counter = Counter(documento)\n",
    "    expanded_doc = []\n",
    "    for word, count in doc_counter.items():\n",
    "        # Añadimos la palabra original tantas veces como aparece\n",
    "        expanded_doc.extend([word] * count)\n",
    "        # Obtenemos sinónimos y también los añadimos con la misma frecuencia\n",
    "        synonyms = expand_term(word)\n",
    "        for syn in synonyms:\n",
    "            expanded_doc.extend([syn] * count)\n",
    "    return expanded_doc\n",
    "\n",
    "\n",
    "def crear_indice_whoosh(corpus_normalizado):\n",
    "    if os.path.exists(\"indice_whoosh\"):\n",
    "        shutil.rmtree(\"indice_whoosh\")  # Elimina índice anterior si existe\n",
    "    os.mkdir(\"indice_whoosh\")\n",
    "\n",
    "    schema = Schema(id=ID(stored=True, unique=True), contenido=TEXT(stored=True))\n",
    "    ix = create_in(\"indice_whoosh\", schema)\n",
    "    writer = ix.writer()\n",
    "\n",
    "    for i, doc in enumerate(corpus_normalizado):\n",
    "        contenido = \" \".join(doc)\n",
    "        writer.add_document(id=str(i), contenido=contenido)\n",
    "    \n",
    "    writer.commit()\n",
    "\n",
    "\n",
    "def buscar_con_whoosh(tokens_query, corpus_normalizado):\n",
    "    ix = open_dir(\"indice_whoosh\")  # Abrir índice Whoosh previamente creado\n",
    "\n",
    "    with ix.searcher() as searcher:\n",
    "        # Crear la consulta OR con todos los términos\n",
    "        terms = [Term(\"contenido\", token) for token in tokens_query]\n",
    "        query = Or(terms)\n",
    "\n",
    "        resultados = searcher.search(query, limit=None)\n",
    "\n",
    "        # Crear diccionario: clave = doc_id, valor = documento procesado\n",
    "        docs_encontrados = []\n",
    "        indices_docs = []\n",
    "        for hit in resultados:\n",
    "            doc_id = int(hit['id'])\n",
    "            docs_encontrados.append(corpus_normalizado[doc_id])\n",
    "            indices_docs.append(doc_id)\n",
    "\n",
    "        return docs_encontrados, indices_docs\n"
   ]
  },
  {
   "cell_type": "code",
   "execution_count": 15,
   "id": "bf1c0d9c-a0c4-44b2-9401-25809bcab5bb",
   "metadata": {},
   "outputs": [],
   "source": [
    "def crear_indice_whoosh_para_corpus(subcorpus, ruta_indice=\"indice\"):\n",
    "    \"\"\"\n",
    "    Crea un índice Whoosh para un subcorpus dado y lo guarda en disco.\n",
    "\n",
    "    Parámetros:\n",
    "        subcorpus (list of list of str): Lista de documentos tokenizados.\n",
    "        ruta_indice (str): Carpeta donde se almacenará el índice Whoosh.\n",
    "        offset (int): Valor entero que se suma al índice para generar el doc_id.\n",
    "    \"\"\"\n",
    "    schema = Schema(doc_id=ID(stored=True),\n",
    "                    content=TEXT(stored=True, analyzer=StemmingAnalyzer()))\n",
    "\n",
    "    if not os.path.exists(ruta_indice):\n",
    "        os.mkdir(ruta_indice)\n",
    "\n",
    "    ix = create_in(ruta_indice, schema)\n",
    "    writer = ix.writer()\n",
    "\n",
    "    for i, doc in enumerate(subcorpus):\n",
    "        joined_content = ' '.join(doc)\n",
    "        writer.add_document(doc_id=str(i), content=joined_content)\n",
    "\n",
    "    writer.commit()"
   ]
  },
  {
   "cell_type": "code",
   "execution_count": 16,
   "id": "913fc8c4",
   "metadata": {},
   "outputs": [],
   "source": [
    "def lectura_documento(documento):\n",
    "    documento_procesado = proceso_contenido(documento) \n",
    "    contenido_final = extraer_noun_chunks(documento_procesado)\n",
    "    return contenido_final"
   ]
  },
  {
   "cell_type": "code",
   "execution_count": 17,
   "id": "dea4f3c2",
   "metadata": {},
   "outputs": [],
   "source": [
    "def tfidf_del_documento(documento_normalizado, vectorizer):\n",
    "    # Convertir el documento (lista de tokens) a string\n",
    "    texto = \" \".join(documento_normalizado)\n",
    "    # Transformar usando el vectorizador ya entrenado\n",
    "    X_doc = vectorizer.transform([texto])  # devuelve matriz sparse 1xN\n",
    "    return X_doc"
   ]
  },
  {
   "cell_type": "code",
   "execution_count": 18,
   "id": "11698ff1",
   "metadata": {},
   "outputs": [],
   "source": [
    "def tfidf_por_corpus(corpus_normalizado):\n",
    "    # Convertimos el corpus a lista de strings\n",
    "    texts = [\" \".join(doc) for doc in corpus_normalizado]\n",
    "\n",
    "    # Vectorizador TF-IDF (1 y 2-gramas)\n",
    "    vectorizer = TfidfVectorizer(ngram_range=(1, 2))\n",
    "    X = vectorizer.fit_transform(texts)  # Matriz TF-IDF sparse\n",
    "    terms = vectorizer.get_feature_names_out()\n",
    "\n",
    "    # Retornamos la matriz y vocabulario (términos)\n",
    "    return X, terms, vectorizer"
   ]
  },
  {
   "cell_type": "code",
   "execution_count": 19,
   "id": "e941da58",
   "metadata": {},
   "outputs": [],
   "source": [
    "def similitud_coseno(tfidf_corpus, tfidf_doc, indices, umbral=0.0):\n",
    "    # Calcular similitud coseno entre documento y corpus\n",
    "    similitudes = cosine_similarity(tfidf_doc, tfidf_corpus).flatten()\n",
    "\n",
    "    # Filtrar documentos que superan el umbral\n",
    "    indices_filtrados = [i for i, sim in enumerate(similitudes) if sim > umbral]\n",
    "\n",
    "    # Ordenar índices por similitud descendente\n",
    "    indices_ordenados = sorted(indices_filtrados, key=lambda i: similitudes[i], reverse=True)\n",
    "\n",
    "    # Devolver lista de (indice, similitud)\n",
    "    return [(indices[i], similitudes[i]) for i in indices_ordenados]\n"
   ]
  },
  {
   "cell_type": "code",
   "execution_count": 28,
   "id": "89cbcdb3-e9db-4286-9362-9f3fbdbe3788",
   "metadata": {},
   "outputs": [],
   "source": [
    "def ranking_documentos_por_consulta(consulta, ruta_csv):\n",
    "    corpus_normalizado = lectura_normalizada_corpus()\n",
    "    documentos = documentos_corpus_cuerpo(ruta_csv)\n",
    "    \n",
    "    crear_indice_whoosh(corpus_normalizado)\n",
    "\n",
    "    lectura = lectura_documento(consulta)\n",
    "    docs_relevantes, indices_docs = buscar_con_whoosh(lectura, corpus_normalizado)\n",
    "    tfidf_corpus, terms, vectorizer = tfidf_por_corpus(docs_relevantes)\n",
    "    tfidf_documento = tfidf_del_documento(lectura, vectorizer)\n",
    "    resultados_similitud = similitud_coseno(tfidf_corpus, tfidf_documento, indices_docs)\n",
    "\n",
    "    for idx, score in resultados_similitud:\n",
    "        print(\"-\" * 60)\n",
    "        print(f\"Documento {idx}: {documentos[idx]}\")\n"
   ]
  },
  {
   "cell_type": "code",
   "execution_count": 26,
   "id": "1afa6922-5de9-400e-8fa6-0f9f12e6d87a",
   "metadata": {},
   "outputs": [],
   "source": [
    "def documentos_consultas_booleanas(consulta, ruta_csv, indice_path=\"indice\"):\n",
    "    documentos_encontrados = set()\n",
    "    documentos_procesados = procesar_csv_corpus(ruta_csv)\n",
    "    documentos = documentos_corpus_cuerpo(ruta_csv)\n",
    "    \n",
    "    crear_indice_whoosh_para_corpus(documentos_procesados)\n",
    "    \n",
    "    ix = open_dir(indice_path)\n",
    "    parser = QueryParser(\"content\", ix.schema)\n",
    "\n",
    "    with ix.searcher(weighting=scoring.BM25F()) as searcher:\n",
    "        try:\n",
    "            query = parser.parse(consulta)\n",
    "            resultados = searcher.search(query, limit=None)\n",
    "            documentos_encontrados = set([r['doc_id'] for r in resultados])\n",
    "        except Exception as e:\n",
    "            print(f\"Error al procesar la consulta '{consulta}': {e}\")\n",
    "\n",
    "    if documentos_encontrados:\n",
    "        for idx_str in sorted(documentos_encontrados):\n",
    "            idx = int(idx_str)\n",
    "            print(\"-\" * 60)\n",
    "            print(f\"Documento {idx}: {documentos[idx]}\")\n",
    "    else:\n",
    "        print(\"No se han encontrado documentos relacionados con su consulta\")"
   ]
  },
  {
   "cell_type": "markdown",
   "id": "0aff8eca-d54f-4454-aad8-e7a342ebb187",
   "metadata": {},
   "source": [
    "## 3. Input para cada uno de los sistemas de recuperación de la información"
   ]
  },
  {
   "cell_type": "code",
   "execution_count": 27,
   "id": "4e88c605-ff24-4927-9b4c-dfccb3ba9565",
   "metadata": {},
   "outputs": [
    {
     "name": "stdout",
     "output_type": "stream",
     "text": [
      "Introduce tu consulta: Trump\n",
      "------------------------------------------------------------\n",
      "Documento 100: There is only a 5% chance that the Earth will avoid warming by at least 2C come the end of the century, according to new research that paints a sobering picture of the international effort to stem dangerous climate change.Global trends in the economy, emissions and population growth make it extremely unlikely that the planet will remain below the 2C threshold set out in the Paris climate agreement in 2015, the study states. The Paris accord, signed by 195 countries, commits to holding the average global temperature to ?well below 2C? above pre-industrial levels and sets a more aspirational goal to limit warming to 1.5C. This latter target is barely plausible, the new research finds, with just a 1% chance that temperatures will rise by less than 1.5C. ?We?re closer to the margin than we think,? said Adrian Raftery, a University of Washington academic who led the research, published in Nature Climate Change. ?If we want to avoid 2C, we have very little time left. The public should be very concerned.? Governments settled on the 2C threshold partly through political expediency but also because scientists have warned of severe consequences from sea level rise, drought, heatwaves and social unrest should the temperature rise beyond this.  Such risks have been underscored by a separate study, also released on Monday, that shows unabated climate change will cause around 60,000 deaths globally in 2030 and 260,000 deaths by 2100. The study, by the University of North Carolina, found that rising temperatures will exacerbate air pollutants that will particularly threaten those with existing conditions.  According to the University of Washington study, there is a 90% likelihood that temperatures will rise between 2C and 4.9C by 2100. This would put the world in the mid-range warming scenarios mapped out by the UN?s Intergovernmental Panel on Climate Change. It negates the most optimistic outcome as well as the worst case, which would see temperatures climb nearly 6C beyond the pre-industrial era. Rather than look at how greenhouse gases will influence temperature, the new research analyzed the past 50 years of trends in world population, per capita gross domestic product (GDP) and carbon intensity, which is the amount of carbon dioxide emitted for each dollar of economic activity. After building a statistical model covering a range of emissions scenarios, the researchers found that carbon intensity will be a crucial factor in future warming. Technological advances are expected to cut global carbon intensity by 90% over the course of the century, with sharp declines in China and India ? two newly voracious consumers of energy. However, this decline still will not be steep enough to avoid breaching the 2C limit.  The world?s population is expected to grow to about 11 billion people by 2100, but the research found that this will have a relatively small impact upon temperatures as much of this growth will take place in sub-Saharan Africa, which is a minor contributor of greenhouse gas emissions. It has long been acknowledged that emissions cuts promised under the the Paris agreement would not be sufficient to avoid 2C warming. However, it is hoped that periodic reviews of commitments will result in more severe reductions. Donald Trump?s pledge to remove the US, the world?s second-largest emitter, from the accord has cast a large shadow over these ambitions.  ?Even if the 2C target isn?t met, action is very important,? said Raftery. ?The more the temperature increases, the worse the impacts will be. ?We would warn against any tendency to use our results to say that we won?t avoid 2C, and so it?s too late to do anything. On the contrary, avoiding the higher temperature increases that our model envisages is even more important, and also requires urgent action.? Raftery acknowledged that a breakthrough technology could ?dramatically? change the outlook but noted that major advances of the past 50 years, such as the computer, robotics, hybrid cars, the internet and electronic fuel injection, have improved carbon efficiency steadily at around 2% a year, rather than in huge jumps. Andrew Dessler, a climate scientist at Texas A&M University who was not involved in the study, said the research?s conclusions were ?reasonable? but said it was difficult to assign a precise probability to future temperature rises. ?I agree that staying below 2C and 1.5C are unlikely and very, very unlikely, respectively,? he said. ?But this research gives a false sense of rigor. Tomorrow someone could invent a carbon-free energy source that everyone adopts. ?If you look at technology adoption and action taken on the ozone layer and acid rain, it?s clear these things can change faster than people predict.? Dessler said the falling cost of renewable energy would be a major factor in reducing emissions but further impetus would be needed through new actions such as a price on carbon.  ?It?s like you?re driving and about to collide with the car in front of you,? he said. ?You want to hit the brakes as fast as you can. The later you wait, the more painful it?s going to be.?John Sterman, an academic at the MIT Sloan Sustainability Initiative, said the research was an ?urgent call to action?. MIT research has shown that emissions cuts in the Paris agreement would stave off around 1C of temperature increase by 2100 ? findings misrepresented by Trump when he announced the US departure from the pact.Sterman said the US must ?dramatically speed the deployment of renewable energy and especially energy efficiency. Fortunately, renewables, storage and other technologies are already cheaper than fossil energy in many places and costs are falling fast.?More aggressive policies are urgently needed, but this study should not be taken as evidence that nothing can be done.?\n",
      "------------------------------------------------------------\n",
      "Documento 134: Donald Trump personally dictated the press statement issued in the name of his eldest son Donald Jr that misleadingly downplayed the significance of a 2016 meeting with a Kremlin-linked Russian lawyer, a new report alleged on Monday night.According to the Washington Post, Trump personally intervened to prevent senior White House advisers from issuing a full and truthful account of the meeting on 9 June 2016 in which Donald Trump Jr, the president?s son-in-law Jared Kushner, and then presidential campaign manager Paul Manafort came face-to-face with four Russians. One of the Russian visitors was the well-connected lawyer Natalia Veselnitskaya.The report, based on multiple though largely anonymous sources that included the president?s own advisers, has the potential to cause political, and even legal, trouble for the White House because it draws Trump himself much closer into the fray over the Trump Tower meeting, which has become a lightning rod in the Russian affair.Shunning the guidance of lawyers and overturning the view apparently reached by Kushner and his team of advisers that a full and frank accounting should be made, Trump reportedly dictated a statement on board Air Force One as he was flying back to Washington from the G20 summit in Germany. As would soon become apparent, it gave a very partial and distorted account of events.In the release the 2016 meeting was presented, in Trump?s own words, as ?a short introductory meeting? dominated by discussion of the adoption of Russian children that was ?not a campaign issue at the time?.That statement was presented to the New York Times on 8 July, and duly included in the newspaper?s first account of the meeting. But within 24 hours, highly damaging revelations had emerged that made clear the meeting had been much more charged than that.On 9 July, the Times revealed that Trump Jr had been lured into talking to Veselnitskaya by the promise of negative intelligence on his father?s presidential rival, Hillary Clinton, and two days after that the email chain was published that showed the younger Trump reveling in the idea of receiving dirt on the Democratic presidential candidate, uttering the gleeful phrase: ?I love it?.The Trump Tower meeting has proved to be one of the most toxic pieces of information to emerge so far in the billowing investigation into possible ties between Trump associates and Russia in the Kremlin?s efforts to skew the presidential outcome in favor of the Republican nominee. The special counsel leading the investigation, Robert Mueller, is understood to be looking closely at the event and has reportedly asked the White House to preserve all documents relating to it.Until now, the president managed to keep some distance from the 9 June encounter, with his lawyers claiming that he knew nothing about it. But the new report that Trump personally oversaw the issuing of a misleading account of the proceedings raises questions about the president?s role in what could be conceived as a cover-up.It comes as Mueller has already expanded his inquiry to include the issue of whether Trump was engaging in a possible obstruction of justice when he fired James Comey, having tried and failed to persuade the then director of the FBI to back off investigating former national security adviser Michael Flynn?s contacts with Russian officials.A lawyer for the president issued the Washington Post with a curt statement: ?Apart from being of no consequence, the characterizations are misinformed, inaccurate, and not pertinent,? Jay Sekulow said.The new details of the president?s role in what turned out to be a major communications fiasco come on the day that his current communications chief, Anthony Scaramucci, was dismissed from the White House after barely 11 days. The blunt removal was made on the first day of the new White House chief of staff, John Kelly, who has vowed to introduce the kind of discipline that the West Wing has been sorely lacking.The day began shortly before 5.30am with Trump tweeting ?No WH chaos!? and ended with him saying: ?A great day at the White House?. But as the Washington Post?s forensic deconstruction of the framing of the Trump Tower meeting shows, the president himself has the capacity to destroy even the best-laid plans, underlining the task now facing his new chief of staff.According to the Post, senior White House officials together with the circle around Kushner and his wife, Ivanka Trump, had spent days rehearsing various ways to address the Trump Tower meeting publicly.Kushner?s team was reported to have decided that it was better to ?err on the side of transparency? because the whole truth would eventually come out.Trump, however, appeared to have seen things differently.\n",
      "------------------------------------------------------------\n",
      "Documento 16: A 24-year-old Indian athlete has been indicted in the US on charges of sexually abusing a minor girl, days after he arrived from Kashmir for a snowshoe competition. (India vs Sri Lanka Updates) Tanveer Hussain was indicted last week by an Essex County grand jury for allegedly having inappropriate contact with a 12-year-old Saranac Lake girl earlier this year.The grand jury returned the indictment Hussain charging him with one count of first-degree sexual abuse and two counts of endangering the welfare of a child, a report in the Adirondack Daily Enterprise quoted a press release from Essex County District Attorney Kristy Sprague as saying.Hussain had been arrested in March on charges of sexually abusing the minor girl, two days after he competed in the World Snowshoe Championships at Dewey Mountain Recreation Center.(Read | PU Chitra gets financial aid from Kerala government, CK Vineeth given job) ?Hussain is alleged to have subjected a 12-year-old female to sexual contact and engaged in inappropriate conversations with said child during the time he was in Saranac Lake,? the report quoted Sprague as saying.The minor girl had told police that on the night of February, two days after the snowshoe race, Hussain had kissed her twice and had groped her.The report added that Hussain had previously denied the charges and declined a plea deal that would have let him return to India as he wanted to clear his name.(Read | Indian Deaflympians demand equal treatment with para-athletes) Hussain?s lawyer Brian Barrett said that he was disappointed that Sprague announced the indictment in a press release before notifying him.?This is all about the press. That?s what this whole case is all about,? he said.Hussain had garnered much attention before arriving in the US for the snowshoe championship after the US Embassy in New Delhi had denied him and another athlete visas around the same time President Donald Trump had issued an order barring travel into the US from seven Muslim-dominant countries.While India was not among the seven countries, the denial of visa to Hussain and the other athlete was seen associated with the executive order. \n",
      "------------------------------------------------------------\n",
      "Documento 32: US President Donald Trump has called the White House a ?real dump?, and said that he preferred staying at his own properties rather than at the executive mansion, a media report said.The White House did not immediately respond to a request for comment about the account, which appeared on the website Golf.com. The hotelier-turned-POTUS reportedly told members of his Trump National Golf Course in Bedminster, New Jersey, that he preferred staying at his own properties rather than at 1600 Pennsylvania Ave NW, because the executive mansion is ?a real dump?, the Washington Post reported, citing the article on Golf.com as saying.Trump, in a May interview with Time magazine, had praised the White House for its ?beautiful kitchen?, ?amazing? phone system and ?incredible? historical furniture. ?People have no idea the beauty of the White House. The real beauty of the White House,? Trump earlier said.Meanwhile, taking aim at the US President, former first daughter Chelsea Clinton, who spent most of her teen years as a White House resident spoke out in support of the White House staff, thanking the ?ushers, butlers, maids, chefs, florists,? etc, for all the hard work they do.Representative Dina Titus, a Democrat, also urged Trump to take his family and move out of the White House if he was unhappy with conditions.Trump spent a good deal of time away from the White House, including 21 of his first 26 weekends, according to CNN count, mostly at his luxury Mar-a-Lago resort in Palm Beach, Florida.\n",
      "------------------------------------------------------------\n",
      "Documento 33: A suspected British prankster appears to have conned White House officials including Anthony Scaramucci into replying to him after pretending in email correspondence to be several different members of the Trump team.The man, who goes by the Twitter handle @SINON_REBORN, posed as Jared Kushner well enough to convince homeland security adviser Tom Bossert to reply to him, according to CNN. Bossert included his personal email address in the exchange.Named director of communications after having been denied a White House role earlier, the New York financier and Republican fundraiser promptly threatened to fire everyone in his team over leaks. He also staged a combative and contradictory briefing room debut and talkshow tour; sought to bat away questions about suspiciously liberal pronouncements in his past and support for Trump?s Republican enemies; deleted tweets; warred openly with the former chief of staff, Reince Priebus, and seemingly forced him out; compared the struggle to take healthcare away from millions of Americans to Lincoln?s battle against slavery; poured obscene invective about leakers, Priebus and Steve Bannon down the phone to a New Yorker reporter; missed the birth of his son; saw his wife file for divorce; and was asked to resign.Trump?s first national security adviser ? one of four generals the president has employed ? resigned after it was revealed he misled Vice-President Mike Pence over his contacts with Russians during the election campaign. It was later reported that Yates had warned the White House Flynn was vulnerable to Russian blackmail.The most shocking firing of them all. Trump sacked his FBI director, by messenger rather than in person, as congressional and justice department investigations into links between Trump aides and Russia gathered pace. Lest anyone retain any doubt about why Trump pressed the big red button, he told NBC in a primetime interview the firing was tied to ?this Russia thing?. The reverberations will be felt for some time yet.The long-suffering but loyal surrogate for the president handed in his resignationin response to Scaramucci?s appointment. A Republican insider and Priebus ally, he never settled into the press secretary role after an infamous debut in which he angrily insisted Trump?s fantastic version of crowd sizes at the inauguration were true. Achieving by way of Melissa McCarthy?s lethal Saturday Night Live impression a somewhat dubious celebrity, his days at the White House were long rumoured to be numbered. His departure on a point of principle having seemingly been justified only 10 days later, he may now claim a sort of hollow vindication.The former Republican National Committee chair stayed loyal ? at least in public ? to Trump through Friday, when he was told his time was up. He stayed loyal after handing in his resignation too, rhapsodising about the president and his mission in interviews with CNN and, of course, Fox News. But it seemed Priebus?s card had alway been marked, less over his initial blocking of Scaramucci, which enraged the Mooch, or by his closeness to the House speaker, Paul Ryan, than by his private advice to Trump to quit the presidential race after 8 October, when the infamous Access Hollywood ?Gropegate? tape was published. The Washington Post reported that Priebus was thus never considered a member of the ?Oct 8th coalition?, a name for the inner cabal of Trumpites who have never wavered, however low their boss?s reputation has sunk.The man also fooled Scaramucci, the White House communications director who was fired on Monday, by pretending to be Reince Priebus, the former Trump administration chief of staff with whom he was believed to be in open warfare.In a series of emails, the man posing as Priebus baited Scaramucci, accusing him of being ?breathtakingly hypocritical? and saying ?at no stage have you acted in a way that is remotely classy?.Scaramucci responded: ?You know what you did. We all do. Even today. But rest assured we were prepared. A Man would apologize.?The heated exchange continued, with the prankster writing: ?I can?t believe you are questioning my ethics! The so called ?Mooch?, who can?t even manage his first week in the White House without leaving upset in his wake. I have nothing to apologize for.?Scaramucci replied: ?Read Shakespeare. Particularly Othello. You are right there. My family is fine by the way and will thrive. I know what you did. No more replies from me.? The White House has confirmed it is looking into the matter. ?We take all cyber related issues very seriously and are looking into these incidents further,? press secretary Sarah Huckabee Sanders told CNN.Reince (me) giving @Scaramucci something to think about. He never replied haha pic.twitter.com/hutjACmogRAn excerpt of what I emailed to @Scaramucci whilst playing the part of Jon Huntsman Jr. Apparently this didn't seem out of the ordinary?! ?? pic.twitter.com/6INHJi3KCDThe man, who described himself as a ?lazy anarchist? on his Twitter profile, told CNN that his actions were meant to be ?humorous? not malicious.?I?m not trying to get the keys to the vault or anything like that.?He has previously convinced Scaramucci that he was the ambassador to Russia-designate Jon Hunstman and tricked Hunstman himself into believing he was the president?s son Eric Trump. He also fleetingly convinced Eric Trump he was his brother, Donald Jr. \n",
      "------------------------------------------------------------\n",
      "Documento 35: President Donald Trump?s son-in-law says the Trump campaign couldn?t have colluded with Russia because the team was too dysfunctional and disorganised to coordinate with a foreign government.Jared Kushner, a senior adviser to the president, made the comment Monday during a closed-door session with congressional interns.A Democratic congressional aide says Kushner was responding to a question about Special Counsel Robert Mueller?s investigation into whether the Trump campaign colluded with Moscow.ForeignPolicy.com first reported Kushner?s remarks. The aide was knowledgeable of the meeting and confirmed the accuracy of the comments.Last week, Kushner met privately at the Capitol with members of the Senate and House intelligence committees.He acknowledged four meetings with Russians during and after Trump?s victorious White House bid and insisted that he had ?nothing to hide.?\n",
      "------------------------------------------------------------\n",
      "Documento 37: London, Aug 1 (PTI) Renowned Harry Potter author J K Rowling has apologised for wrongly accusing US President Donald Trump of refusing to shake the hand of a 3-year-old disabled child during an event. The 52-year-old British novelist, best known as the author of the Harry Potter fantasy series, said yesterday that she deleted her July 28 tweets after she was informed that they were \"not a full or accurate representation\" of what had happened at last Mondays health care event at the White House. Rowling came under fire for a series of now-deleted tweets in which she slammed Trump for seeming to ignore Montgomery Weers outstretched hand. \"How stunning, and how horrible, that Trump cannot bring himself to shake the hand of a small boy who only wanted to touch the president,\" the author had said. But Marjorie Kelly Weer, mother of Montgomery, said Rowlings interpretation of the clip was wrong. \"Re: my tweets about the small boy in a wheelchair whose proffered hand the president appeared to ignore in press footage. Multiple sources have informed me that that was not a full or accurate representation of their interaction,\" Rowling tweeted. \"I very clearly projected my own sensitivities around the issue of disabled people being overlooked or ignored onto the images I saw and if that caused any distress to that boy or his family, I apologise unreservedly,\" she wrote. Trump is said to have shaken the boys hand as the president entered the room, the BBC reported. \"If someone can please get a message to JK Rowling: Trump didnt snub my son & Monty wasnt even trying to shake his hand,\" Kelly wrote on Facebook. \n",
      "------------------------------------------------------------\n",
      "Documento 40: A Republican senator said Tuesday that US President Donald Trump has told him he would go to war to destroy North Korea rather than allow it to develop a long-range nuclear-armed missile.Influential lawmaker Lindsey Graham, a foreign policy hawk, told NBC?s Today Show: ?There is a military option: To destroy North Korea?s programme and North Korea itself.?Last week, North Korean leader Kim Jong-Un boasted that his country could now strike any target in the United States after carrying out its latest intercontinental ballistic missile test.World powers have been trying to stifle Pyongyang?s weapons programme through United Nations-backed sanctions, but have failed to daunt the regime and Washington is growing frustrated.Graham said if diplomacy, and in particular pressure from the North?s neighbour China, fails to halt the programme then the United States will have no choice but to take devastating military action.?They?ve kicked the can down the road for 20 years. There will be a war with North Korea over the missile program if they continue to try to hit America with an ICBM,? he said, describing his discussions with Trump.?He?s told me that. I believe him. If I were China, I would believe him, too, and do something about it. You can stop North Korea, militarily or diplomatically.?I prefer the diplomatic approach. But they will not be allowed to have a missile to hit America with a nuclear weapon on top.? \n",
      "------------------------------------------------------------\n",
      "Documento 43: The United States on Wednesday officially set September 1 as the start date for a ban prohibiting its citizens from travelling to North Korea.?The department of state has determined that the serious risk to United States nationals of arrest and long-term detention represents imminent danger to the physical safety of United States nationals travelling to and within the Democratic People?s Republic of Korea (DPRK),? read the restriction as it appeared on Wednesday in the US government?s federal register.?All United States passports are declared invalid for travel to, in, or through the DPRK unless specially validated for such travel,? it added.An exemption was noted for approved humanitarian travel and for journalists in some circumstances. The ban is to remain in effect for one year, unless it is revoked sooner by US secretary of state Rex Tillerson.The travel ban was first announced last month in the wake of the death of American student Otto Warmbier who fell into a coma after being imprisoned by Pyongyang during a tourist visit.Warmbier, 22, a student at the University of Virginia, died in June after being held for more than a year on charges of stealing a propaganda poster from a North Korean hotel - and sent home in a mysterious coma that proved fatal.After his death, President Donald Trump said he was determined to ?prevent such tragedies from befalling innocent people at the hands of regimes that do not respect the rule of law or basic human decency.?Warmbier?s death added to already high tensions in the region over North Korea?s weapons ambitions, culminating in two successful test launches by Pyongyang in recent weeks of an intercontinental ballistic missile that experts say could reach US territory.\n",
      "------------------------------------------------------------\n",
      "Documento 96: Facing pressure from President Donald Trump to cut the cost of new Air Force One aircraft, the US Air Force is negotiating with Boeing to purchase two 747-8 jetliners that were built for a Russian airline that went bankrupt before they were delivered.?We?re working through the final stages of coordination to purchase two commercial 747-8 aircraft and expect to award a contract soon,? said Air Force spokeswoman Ann Stefanek, who declined to elaborate on the details.National security publication Defense One, which first reported the negotiations, said the Air Force was believed to be getting a good deal on the aircraft, which sell for about $386 million on average.The two aircraft were initially ordered four years ago by Transaero, a Russian airline that went bankrupt in 2015, a person familiar with the talks told Reuters.Boeing built two 747-8s out of an order of four. But the airline never took ownership of them, and the planes have been stored in the Mojave Desert, where the dry, hot climate slows corrosion, Defense One said.Trump rattled Boeing in December before taking office by saying in a Twitter message: Boeing is building a brand new 747 Air Force One for future presidents, but costs are out of control, more than $4 billion. Cancel order!? Donald J. Trump (@realDonaldTrump) December 6, 2016Boeing Chief Executive Officer Dennis Muilenburg called Trump and told him the cost could be reduced if the Air Force changed its requirements, sources familiar with the conversation said at the time.White House officials in December were unclear where Trump obtained the $4 billion figure. The Air Force has estimated it would spend $2.87 billion through 2021 for development of a new presidential aircraft. The cost of refitting the commercial 747-8s with the enhanced electronics and security systems required for Air Force One were unclear.Boeing had said it expected to add the Air Force One jets to its backlog, which currently numbers 20 planes - five passenger models and 15 freighters.The redeployment to the Air Force of jets already built for another customer would effectively reduce Boeing?s future 747 production plans by two aircraft. But it would provide a home for two airframes that have been built but remain unsold.The Air Force operates two military versions of the Boeing 747-200B aircraft that serve as Air Force One when the president is aboard. Both are nearing the end of their planned 30-year life. \n"
     ]
    }
   ],
   "source": [
    "# Input para sistema de recuperación de la información específico para consultas según el modelo booleano\n",
    "\n",
    "ruta_csv = \"news_corpus.csv\"\n",
    "\n",
    "# Solicitar consulta al usuario\n",
    "consulta = input(\"Introduce tu consulta: \")\n",
    "\n",
    "# Ejecutar documentos\n",
    "documentos_consultas_booleanas(consulta, ruta_csv)"
   ]
  },
  {
   "cell_type": "code",
   "execution_count": 29,
   "id": "6746b834-2524-48c4-a467-f347f0e987f6",
   "metadata": {},
   "outputs": [
    {
     "name": "stdout",
     "output_type": "stream",
     "text": [
      "Introduce tu consulta: News about Donald Trump\n",
      "------------------------------------------------------------\n",
      "Documento 134: Donald Trump personally dictated the press statement issued in the name of his eldest son Donald Jr that misleadingly downplayed the significance of a 2016 meeting with a Kremlin-linked Russian lawyer, a new report alleged on Monday night.According to the Washington Post, Trump personally intervened to prevent senior White House advisers from issuing a full and truthful account of the meeting on 9 June 2016 in which Donald Trump Jr, the president?s son-in-law Jared Kushner, and then presidential campaign manager Paul Manafort came face-to-face with four Russians. One of the Russian visitors was the well-connected lawyer Natalia Veselnitskaya.The report, based on multiple though largely anonymous sources that included the president?s own advisers, has the potential to cause political, and even legal, trouble for the White House because it draws Trump himself much closer into the fray over the Trump Tower meeting, which has become a lightning rod in the Russian affair.Shunning the guidance of lawyers and overturning the view apparently reached by Kushner and his team of advisers that a full and frank accounting should be made, Trump reportedly dictated a statement on board Air Force One as he was flying back to Washington from the G20 summit in Germany. As would soon become apparent, it gave a very partial and distorted account of events.In the release the 2016 meeting was presented, in Trump?s own words, as ?a short introductory meeting? dominated by discussion of the adoption of Russian children that was ?not a campaign issue at the time?.That statement was presented to the New York Times on 8 July, and duly included in the newspaper?s first account of the meeting. But within 24 hours, highly damaging revelations had emerged that made clear the meeting had been much more charged than that.On 9 July, the Times revealed that Trump Jr had been lured into talking to Veselnitskaya by the promise of negative intelligence on his father?s presidential rival, Hillary Clinton, and two days after that the email chain was published that showed the younger Trump reveling in the idea of receiving dirt on the Democratic presidential candidate, uttering the gleeful phrase: ?I love it?.The Trump Tower meeting has proved to be one of the most toxic pieces of information to emerge so far in the billowing investigation into possible ties between Trump associates and Russia in the Kremlin?s efforts to skew the presidential outcome in favor of the Republican nominee. The special counsel leading the investigation, Robert Mueller, is understood to be looking closely at the event and has reportedly asked the White House to preserve all documents relating to it.Until now, the president managed to keep some distance from the 9 June encounter, with his lawyers claiming that he knew nothing about it. But the new report that Trump personally oversaw the issuing of a misleading account of the proceedings raises questions about the president?s role in what could be conceived as a cover-up.It comes as Mueller has already expanded his inquiry to include the issue of whether Trump was engaging in a possible obstruction of justice when he fired James Comey, having tried and failed to persuade the then director of the FBI to back off investigating former national security adviser Michael Flynn?s contacts with Russian officials.A lawyer for the president issued the Washington Post with a curt statement: ?Apart from being of no consequence, the characterizations are misinformed, inaccurate, and not pertinent,? Jay Sekulow said.The new details of the president?s role in what turned out to be a major communications fiasco come on the day that his current communications chief, Anthony Scaramucci, was dismissed from the White House after barely 11 days. The blunt removal was made on the first day of the new White House chief of staff, John Kelly, who has vowed to introduce the kind of discipline that the West Wing has been sorely lacking.The day began shortly before 5.30am with Trump tweeting ?No WH chaos!? and ended with him saying: ?A great day at the White House?. But as the Washington Post?s forensic deconstruction of the framing of the Trump Tower meeting shows, the president himself has the capacity to destroy even the best-laid plans, underlining the task now facing his new chief of staff.According to the Post, senior White House officials together with the circle around Kushner and his wife, Ivanka Trump, had spent days rehearsing various ways to address the Trump Tower meeting publicly.Kushner?s team was reported to have decided that it was better to ?err on the side of transparency? because the whole truth would eventually come out.Trump, however, appeared to have seen things differently.\n",
      "------------------------------------------------------------\n",
      "Documento 32: US President Donald Trump has called the White House a ?real dump?, and said that he preferred staying at his own properties rather than at the executive mansion, a media report said.The White House did not immediately respond to a request for comment about the account, which appeared on the website Golf.com. The hotelier-turned-POTUS reportedly told members of his Trump National Golf Course in Bedminster, New Jersey, that he preferred staying at his own properties rather than at 1600 Pennsylvania Ave NW, because the executive mansion is ?a real dump?, the Washington Post reported, citing the article on Golf.com as saying.Trump, in a May interview with Time magazine, had praised the White House for its ?beautiful kitchen?, ?amazing? phone system and ?incredible? historical furniture. ?People have no idea the beauty of the White House. The real beauty of the White House,? Trump earlier said.Meanwhile, taking aim at the US President, former first daughter Chelsea Clinton, who spent most of her teen years as a White House resident spoke out in support of the White House staff, thanking the ?ushers, butlers, maids, chefs, florists,? etc, for all the hard work they do.Representative Dina Titus, a Democrat, also urged Trump to take his family and move out of the White House if he was unhappy with conditions.Trump spent a good deal of time away from the White House, including 21 of his first 26 weekends, according to CNN count, mostly at his luxury Mar-a-Lago resort in Palm Beach, Florida.\n",
      "------------------------------------------------------------\n",
      "Documento 35: President Donald Trump?s son-in-law says the Trump campaign couldn?t have colluded with Russia because the team was too dysfunctional and disorganised to coordinate with a foreign government.Jared Kushner, a senior adviser to the president, made the comment Monday during a closed-door session with congressional interns.A Democratic congressional aide says Kushner was responding to a question about Special Counsel Robert Mueller?s investigation into whether the Trump campaign colluded with Moscow.ForeignPolicy.com first reported Kushner?s remarks. The aide was knowledgeable of the meeting and confirmed the accuracy of the comments.Last week, Kushner met privately at the Capitol with members of the Senate and House intelligence committees.He acknowledged four meetings with Russians during and after Trump?s victorious White House bid and insisted that he had ?nothing to hide.?\n",
      "------------------------------------------------------------\n",
      "Documento 37: London, Aug 1 (PTI) Renowned Harry Potter author J K Rowling has apologised for wrongly accusing US President Donald Trump of refusing to shake the hand of a 3-year-old disabled child during an event. The 52-year-old British novelist, best known as the author of the Harry Potter fantasy series, said yesterday that she deleted her July 28 tweets after she was informed that they were \"not a full or accurate representation\" of what had happened at last Mondays health care event at the White House. Rowling came under fire for a series of now-deleted tweets in which she slammed Trump for seeming to ignore Montgomery Weers outstretched hand. \"How stunning, and how horrible, that Trump cannot bring himself to shake the hand of a small boy who only wanted to touch the president,\" the author had said. But Marjorie Kelly Weer, mother of Montgomery, said Rowlings interpretation of the clip was wrong. \"Re: my tweets about the small boy in a wheelchair whose proffered hand the president appeared to ignore in press footage. Multiple sources have informed me that that was not a full or accurate representation of their interaction,\" Rowling tweeted. \"I very clearly projected my own sensitivities around the issue of disabled people being overlooked or ignored onto the images I saw and if that caused any distress to that boy or his family, I apologise unreservedly,\" she wrote. Trump is said to have shaken the boys hand as the president entered the room, the BBC reported. \"If someone can please get a message to JK Rowling: Trump didnt snub my son & Monty wasnt even trying to shake his hand,\" Kelly wrote on Facebook. \n",
      "------------------------------------------------------------\n",
      "Documento 40: A Republican senator said Tuesday that US President Donald Trump has told him he would go to war to destroy North Korea rather than allow it to develop a long-range nuclear-armed missile.Influential lawmaker Lindsey Graham, a foreign policy hawk, told NBC?s Today Show: ?There is a military option: To destroy North Korea?s programme and North Korea itself.?Last week, North Korean leader Kim Jong-Un boasted that his country could now strike any target in the United States after carrying out its latest intercontinental ballistic missile test.World powers have been trying to stifle Pyongyang?s weapons programme through United Nations-backed sanctions, but have failed to daunt the regime and Washington is growing frustrated.Graham said if diplomacy, and in particular pressure from the North?s neighbour China, fails to halt the programme then the United States will have no choice but to take devastating military action.?They?ve kicked the can down the road for 20 years. There will be a war with North Korea over the missile program if they continue to try to hit America with an ICBM,? he said, describing his discussions with Trump.?He?s told me that. I believe him. If I were China, I would believe him, too, and do something about it. You can stop North Korea, militarily or diplomatically.?I prefer the diplomatic approach. But they will not be allowed to have a missile to hit America with a nuclear weapon on top.? \n",
      "------------------------------------------------------------\n",
      "Documento 33: A suspected British prankster appears to have conned White House officials including Anthony Scaramucci into replying to him after pretending in email correspondence to be several different members of the Trump team.The man, who goes by the Twitter handle @SINON_REBORN, posed as Jared Kushner well enough to convince homeland security adviser Tom Bossert to reply to him, according to CNN. Bossert included his personal email address in the exchange.Named director of communications after having been denied a White House role earlier, the New York financier and Republican fundraiser promptly threatened to fire everyone in his team over leaks. He also staged a combative and contradictory briefing room debut and talkshow tour; sought to bat away questions about suspiciously liberal pronouncements in his past and support for Trump?s Republican enemies; deleted tweets; warred openly with the former chief of staff, Reince Priebus, and seemingly forced him out; compared the struggle to take healthcare away from millions of Americans to Lincoln?s battle against slavery; poured obscene invective about leakers, Priebus and Steve Bannon down the phone to a New Yorker reporter; missed the birth of his son; saw his wife file for divorce; and was asked to resign.Trump?s first national security adviser ? one of four generals the president has employed ? resigned after it was revealed he misled Vice-President Mike Pence over his contacts with Russians during the election campaign. It was later reported that Yates had warned the White House Flynn was vulnerable to Russian blackmail.The most shocking firing of them all. Trump sacked his FBI director, by messenger rather than in person, as congressional and justice department investigations into links between Trump aides and Russia gathered pace. Lest anyone retain any doubt about why Trump pressed the big red button, he told NBC in a primetime interview the firing was tied to ?this Russia thing?. The reverberations will be felt for some time yet.The long-suffering but loyal surrogate for the president handed in his resignationin response to Scaramucci?s appointment. A Republican insider and Priebus ally, he never settled into the press secretary role after an infamous debut in which he angrily insisted Trump?s fantastic version of crowd sizes at the inauguration were true. Achieving by way of Melissa McCarthy?s lethal Saturday Night Live impression a somewhat dubious celebrity, his days at the White House were long rumoured to be numbered. His departure on a point of principle having seemingly been justified only 10 days later, he may now claim a sort of hollow vindication.The former Republican National Committee chair stayed loyal ? at least in public ? to Trump through Friday, when he was told his time was up. He stayed loyal after handing in his resignation too, rhapsodising about the president and his mission in interviews with CNN and, of course, Fox News. But it seemed Priebus?s card had alway been marked, less over his initial blocking of Scaramucci, which enraged the Mooch, or by his closeness to the House speaker, Paul Ryan, than by his private advice to Trump to quit the presidential race after 8 October, when the infamous Access Hollywood ?Gropegate? tape was published. The Washington Post reported that Priebus was thus never considered a member of the ?Oct 8th coalition?, a name for the inner cabal of Trumpites who have never wavered, however low their boss?s reputation has sunk.The man also fooled Scaramucci, the White House communications director who was fired on Monday, by pretending to be Reince Priebus, the former Trump administration chief of staff with whom he was believed to be in open warfare.In a series of emails, the man posing as Priebus baited Scaramucci, accusing him of being ?breathtakingly hypocritical? and saying ?at no stage have you acted in a way that is remotely classy?.Scaramucci responded: ?You know what you did. We all do. Even today. But rest assured we were prepared. A Man would apologize.?The heated exchange continued, with the prankster writing: ?I can?t believe you are questioning my ethics! The so called ?Mooch?, who can?t even manage his first week in the White House without leaving upset in his wake. I have nothing to apologize for.?Scaramucci replied: ?Read Shakespeare. Particularly Othello. You are right there. My family is fine by the way and will thrive. I know what you did. No more replies from me.? The White House has confirmed it is looking into the matter. ?We take all cyber related issues very seriously and are looking into these incidents further,? press secretary Sarah Huckabee Sanders told CNN.Reince (me) giving @Scaramucci something to think about. He never replied haha pic.twitter.com/hutjACmogRAn excerpt of what I emailed to @Scaramucci whilst playing the part of Jon Huntsman Jr. Apparently this didn't seem out of the ordinary?! ?? pic.twitter.com/6INHJi3KCDThe man, who described himself as a ?lazy anarchist? on his Twitter profile, told CNN that his actions were meant to be ?humorous? not malicious.?I?m not trying to get the keys to the vault or anything like that.?He has previously convinced Scaramucci that he was the ambassador to Russia-designate Jon Hunstman and tricked Hunstman himself into believing he was the president?s son Eric Trump. He also fleetingly convinced Eric Trump he was his brother, Donald Jr. \n",
      "------------------------------------------------------------\n",
      "Documento 96: Facing pressure from President Donald Trump to cut the cost of new Air Force One aircraft, the US Air Force is negotiating with Boeing to purchase two 747-8 jetliners that were built for a Russian airline that went bankrupt before they were delivered.?We?re working through the final stages of coordination to purchase two commercial 747-8 aircraft and expect to award a contract soon,? said Air Force spokeswoman Ann Stefanek, who declined to elaborate on the details.National security publication Defense One, which first reported the negotiations, said the Air Force was believed to be getting a good deal on the aircraft, which sell for about $386 million on average.The two aircraft were initially ordered four years ago by Transaero, a Russian airline that went bankrupt in 2015, a person familiar with the talks told Reuters.Boeing built two 747-8s out of an order of four. But the airline never took ownership of them, and the planes have been stored in the Mojave Desert, where the dry, hot climate slows corrosion, Defense One said.Trump rattled Boeing in December before taking office by saying in a Twitter message: Boeing is building a brand new 747 Air Force One for future presidents, but costs are out of control, more than $4 billion. Cancel order!? Donald J. Trump (@realDonaldTrump) December 6, 2016Boeing Chief Executive Officer Dennis Muilenburg called Trump and told him the cost could be reduced if the Air Force changed its requirements, sources familiar with the conversation said at the time.White House officials in December were unclear where Trump obtained the $4 billion figure. The Air Force has estimated it would spend $2.87 billion through 2021 for development of a new presidential aircraft. The cost of refitting the commercial 747-8s with the enhanced electronics and security systems required for Air Force One were unclear.Boeing had said it expected to add the Air Force One jets to its backlog, which currently numbers 20 planes - five passenger models and 15 freighters.The redeployment to the Air Force of jets already built for another customer would effectively reduce Boeing?s future 747 production plans by two aircraft. But it would provide a home for two airframes that have been built but remain unsold.The Air Force operates two military versions of the Boeing 747-200B aircraft that serve as Air Force One when the president is aboard. Both are nearing the end of their planned 30-year life. \n",
      "------------------------------------------------------------\n",
      "Documento 43: The United States on Wednesday officially set September 1 as the start date for a ban prohibiting its citizens from travelling to North Korea.?The department of state has determined that the serious risk to United States nationals of arrest and long-term detention represents imminent danger to the physical safety of United States nationals travelling to and within the Democratic People?s Republic of Korea (DPRK),? read the restriction as it appeared on Wednesday in the US government?s federal register.?All United States passports are declared invalid for travel to, in, or through the DPRK unless specially validated for such travel,? it added.An exemption was noted for approved humanitarian travel and for journalists in some circumstances. The ban is to remain in effect for one year, unless it is revoked sooner by US secretary of state Rex Tillerson.The travel ban was first announced last month in the wake of the death of American student Otto Warmbier who fell into a coma after being imprisoned by Pyongyang during a tourist visit.Warmbier, 22, a student at the University of Virginia, died in June after being held for more than a year on charges of stealing a propaganda poster from a North Korean hotel - and sent home in a mysterious coma that proved fatal.After his death, President Donald Trump said he was determined to ?prevent such tragedies from befalling innocent people at the hands of regimes that do not respect the rule of law or basic human decency.?Warmbier?s death added to already high tensions in the region over North Korea?s weapons ambitions, culminating in two successful test launches by Pyongyang in recent weeks of an intercontinental ballistic missile that experts say could reach US territory.\n",
      "------------------------------------------------------------\n",
      "Documento 16: A 24-year-old Indian athlete has been indicted in the US on charges of sexually abusing a minor girl, days after he arrived from Kashmir for a snowshoe competition. (India vs Sri Lanka Updates) Tanveer Hussain was indicted last week by an Essex County grand jury for allegedly having inappropriate contact with a 12-year-old Saranac Lake girl earlier this year.The grand jury returned the indictment Hussain charging him with one count of first-degree sexual abuse and two counts of endangering the welfare of a child, a report in the Adirondack Daily Enterprise quoted a press release from Essex County District Attorney Kristy Sprague as saying.Hussain had been arrested in March on charges of sexually abusing the minor girl, two days after he competed in the World Snowshoe Championships at Dewey Mountain Recreation Center.(Read | PU Chitra gets financial aid from Kerala government, CK Vineeth given job) ?Hussain is alleged to have subjected a 12-year-old female to sexual contact and engaged in inappropriate conversations with said child during the time he was in Saranac Lake,? the report quoted Sprague as saying.The minor girl had told police that on the night of February, two days after the snowshoe race, Hussain had kissed her twice and had groped her.The report added that Hussain had previously denied the charges and declined a plea deal that would have let him return to India as he wanted to clear his name.(Read | Indian Deaflympians demand equal treatment with para-athletes) Hussain?s lawyer Brian Barrett said that he was disappointed that Sprague announced the indictment in a press release before notifying him.?This is all about the press. That?s what this whole case is all about,? he said.Hussain had garnered much attention before arriving in the US for the snowshoe championship after the US Embassy in New Delhi had denied him and another athlete visas around the same time President Donald Trump had issued an order barring travel into the US from seven Muslim-dominant countries.While India was not among the seven countries, the denial of visa to Hussain and the other athlete was seen associated with the executive order. \n",
      "------------------------------------------------------------\n",
      "Documento 100: There is only a 5% chance that the Earth will avoid warming by at least 2C come the end of the century, according to new research that paints a sobering picture of the international effort to stem dangerous climate change.Global trends in the economy, emissions and population growth make it extremely unlikely that the planet will remain below the 2C threshold set out in the Paris climate agreement in 2015, the study states. The Paris accord, signed by 195 countries, commits to holding the average global temperature to ?well below 2C? above pre-industrial levels and sets a more aspirational goal to limit warming to 1.5C. This latter target is barely plausible, the new research finds, with just a 1% chance that temperatures will rise by less than 1.5C. ?We?re closer to the margin than we think,? said Adrian Raftery, a University of Washington academic who led the research, published in Nature Climate Change. ?If we want to avoid 2C, we have very little time left. The public should be very concerned.? Governments settled on the 2C threshold partly through political expediency but also because scientists have warned of severe consequences from sea level rise, drought, heatwaves and social unrest should the temperature rise beyond this.  Such risks have been underscored by a separate study, also released on Monday, that shows unabated climate change will cause around 60,000 deaths globally in 2030 and 260,000 deaths by 2100. The study, by the University of North Carolina, found that rising temperatures will exacerbate air pollutants that will particularly threaten those with existing conditions.  According to the University of Washington study, there is a 90% likelihood that temperatures will rise between 2C and 4.9C by 2100. This would put the world in the mid-range warming scenarios mapped out by the UN?s Intergovernmental Panel on Climate Change. It negates the most optimistic outcome as well as the worst case, which would see temperatures climb nearly 6C beyond the pre-industrial era. Rather than look at how greenhouse gases will influence temperature, the new research analyzed the past 50 years of trends in world population, per capita gross domestic product (GDP) and carbon intensity, which is the amount of carbon dioxide emitted for each dollar of economic activity. After building a statistical model covering a range of emissions scenarios, the researchers found that carbon intensity will be a crucial factor in future warming. Technological advances are expected to cut global carbon intensity by 90% over the course of the century, with sharp declines in China and India ? two newly voracious consumers of energy. However, this decline still will not be steep enough to avoid breaching the 2C limit.  The world?s population is expected to grow to about 11 billion people by 2100, but the research found that this will have a relatively small impact upon temperatures as much of this growth will take place in sub-Saharan Africa, which is a minor contributor of greenhouse gas emissions. It has long been acknowledged that emissions cuts promised under the the Paris agreement would not be sufficient to avoid 2C warming. However, it is hoped that periodic reviews of commitments will result in more severe reductions. Donald Trump?s pledge to remove the US, the world?s second-largest emitter, from the accord has cast a large shadow over these ambitions.  ?Even if the 2C target isn?t met, action is very important,? said Raftery. ?The more the temperature increases, the worse the impacts will be. ?We would warn against any tendency to use our results to say that we won?t avoid 2C, and so it?s too late to do anything. On the contrary, avoiding the higher temperature increases that our model envisages is even more important, and also requires urgent action.? Raftery acknowledged that a breakthrough technology could ?dramatically? change the outlook but noted that major advances of the past 50 years, such as the computer, robotics, hybrid cars, the internet and electronic fuel injection, have improved carbon efficiency steadily at around 2% a year, rather than in huge jumps. Andrew Dessler, a climate scientist at Texas A&M University who was not involved in the study, said the research?s conclusions were ?reasonable? but said it was difficult to assign a precise probability to future temperature rises. ?I agree that staying below 2C and 1.5C are unlikely and very, very unlikely, respectively,? he said. ?But this research gives a false sense of rigor. Tomorrow someone could invent a carbon-free energy source that everyone adopts. ?If you look at technology adoption and action taken on the ozone layer and acid rain, it?s clear these things can change faster than people predict.? Dessler said the falling cost of renewable energy would be a major factor in reducing emissions but further impetus would be needed through new actions such as a price on carbon.  ?It?s like you?re driving and about to collide with the car in front of you,? he said. ?You want to hit the brakes as fast as you can. The later you wait, the more painful it?s going to be.?John Sterman, an academic at the MIT Sloan Sustainability Initiative, said the research was an ?urgent call to action?. MIT research has shown that emissions cuts in the Paris agreement would stave off around 1C of temperature increase by 2100 ? findings misrepresented by Trump when he announced the US departure from the pact.Sterman said the US must ?dramatically speed the deployment of renewable energy and especially energy efficiency. Fortunately, renewables, storage and other technologies are already cheaper than fossil energy in many places and costs are falling fast.?More aggressive policies are urgently needed, but this study should not be taken as evidence that nothing can be done.?\n",
      "------------------------------------------------------------\n",
      "Documento 9: It sounds like satire, but make no mistake: at a time when tomatoes have become forbiddingly pricey, the Congress Party has opened a 'State Bank of Tomato' in Uttar Pradesh's capital, ANI reported on Wednesday.This extraordinary development comes days after Indore wholesalers leery of tomato thieves requested - and got - security cover for their stock, according to news reports. Heavy rains in tomato-growing states have destroyed crop and affected transportation - a choke on supply which the Goods and Services Tax regime could have possibly exacerbated. Lucknow (UP): In a unique protest against the rising prices of the tomatoes, Congress opens bank called â??State Bank of Tomatoâ??. pic.twitter.com/lNpAaexgMuIn fact, denizens of major cities have had to dish out Rs 100 or more for a kilogram of the kitchen staple.Nevertheless, an official at the Indian Council for Agricultural Research has said he expects supplies from southern states to drive down prices in the next couple of weeks.For the time being, Lucknow residents can obtain interest on deposits at the Congress' State Bank of Tomato, and take the vegetables out on loan, just like money in an actual bank, ANI reported. I have deposited 0.5 Kg tomatoes, will get 1 kg after 6 months. I'm 103-year-old, never thought have to see this: Srikrishna Verma, customer pic.twitter.com/PlXdnSYGvK And if they want to keep their red gold out of the reach of covetous hands, they needn't worry. The news agency reports that State Bank of Tomato provides lockers too.-With inputs from agencies \n",
      "------------------------------------------------------------\n",
      "Documento 19: A Norwegian anti-immigrant group has been roundly ridiculed after members apparently mistook a photograph of six empty bus seats posted on its Facebook page for a group of women wearing burqas.?Tragic?, ?terrifying? and ?disgusting? were among the comments posted by members of the closed Fedrelandet viktigst, or ?Fatherland first?, group beneath the photograph, according to screenshots on the Norwegian news website Nettavisen.Other members of the 13,000-strong group, for people ?who love Norway and appreciate what our ancestors fought for?, wondered whether the non-existent passengers might be carrying bombs or weapons beneath their clothes. ?This looks really scary,? wrote one. ?Should be banned. You can?t tell who?s underneath. Could be terrorists.?Further comments read: ?Ghastly. This should never happen,? ?Islam is and always will be a curse,? ?Get them out of our country ? frightening times we are living in,? and: ?I thought it would be like this in the year 2050, but it is happening NOW,? according to thelocal.no and other media.The photograph, found on the internet, was posted ?for a joke? last week by Johan Slåttavik, who has since described himself as ?Norway?s worst web troll and proud of it?, beneath a question asking the group: ?What do people think of this??Slåttavik told Nettavisen and Norway?s TV2 he wanted to ?highlight the difference between legitimate criticism of immigration and blind racism?, and was ?interested to see how people?s perceptions of an image are influenced by how others around them react. I ended up having a good laugh.?It went viral in Norway after Sindre Beyer, a former Labour party MP who said he has been following Fatherland first for some time, published 23 pages of screenshots of the group?s outraged comments.?What happens when a photo of some empty bus seats is posted to a disgusting Facebook group, and nearly everyone thinks they see a bunch of burqas?? he asked in a post shared more than 1,800 times. The comments suggested the vast majority of the anti-immigrant group?s members saw the photo as evidence of the ongoing ?Islamification? of Norway, although a small number pointed out it was in fact a picture of bus seats. One warned the group was making itself look ridiculous.Beyer told Nettavisen: ?I?m shocked at how much hate and fake news is spread [on the Fedrelandet viktigst page]. So much hatred against empty bus seats certainly shows that prejudice wins out over wisdom.?The head of Norway?s Antiracist Centre, Rune Berglund Steen, told the site that people plainly ?see what they want to see ? and what these people want to see are dangerous Muslims?.Norway recently became the latest European country to propose restrictions on the wearing of burqas and niqabs, tabling a law that will bar them from kindergartens, schools and universities. France, the Netherlands, Belgium, Bulgaria and the German state of Bavaria all restrict full-face veils in some public places.The country?s minority government, a coalition of the centre-right Conservatives and the populist Progress party that faces elections next month, said in June it was confident it would find opposition support for the move.Per Sandberg, then acting immigration and integration minister, told a press conference that face-covering garments such as the niqab or burqa ?do not belong in Norwegian schools. The ability to communicate is a basic value.?\n",
      "------------------------------------------------------------\n",
      "Documento 20: In a bizarre medical condition, a newborn baby in Thane was found to be ?pregnant? with his half-formed twin brother feeding off his blood supply. The condition, called fetus in fetu, is so rare that only about 100-200 such cases have been reported from all over the world till date. The boy was born to a 19-year old woman from Mumbra on July 20 at Bilal Hospital in Thane, near Mumbai.The 7cm foetus, weighing 150 gm and complete with a brain, arms and limbs, was found behind the baby?s stomach. A radiologist first spotted the abnormal mass during a routine scan of the pregnant mother.?In post-natal scans, we spotted another half-formed baby with a brain, arm and legs in a foetal sac in the baby?s abdomen,? radiologist Bhavna Thorat told German news agency DPA.After the baby was born, another scan found that the ?twin? was feeding off his nutrition and posed a life threat.Doctors referred him to the Titan hospital in Thane, where the parasitic foetus was successfully removed by a specialist team of experts. It is suspected to be a rare congenital anomaly called ?fetus in fetu? in which a malformed  foetus gets absorbed into the body of it?s twin. The team that performed the surgery at Titan Hospital, Thane.  Photo Credit: Neena NichlaniGynecologist Dr Neena Nichlani, who was part of the team that operated on the baby, said, ?It is a case of monozygotic twin pregnancy sharing single placenta, where one foetus is wrapped around the other and feeds off its host?s body.? As both the twins draw nutrients from a single umbilical chord, the chances of survival are usually low in such cases. ?It is a very rare condition and this is for the first time I have encountered such a case in my  entire medical career...  Both the baby and the mother are doing well,? she added. \n",
      "------------------------------------------------------------\n",
      "Documento 110: Russian President Vladimir Putin has signed a law that prohibits technology that provides access to websites banned in the country, the government?s website said.The law, already approved by the Duma, the lower house of parliament, will ban the use of virtual private networks (VPNs) and other technologies, known as anonymizers, that allow people to surf the web anonymously. It comes into force on November 1.Leonid Levin, the head of the Duma?s information policy committee, has said the law is not intended to impose restrictions on law-abiding citizens but is meant only to block access to ?unlawful content,? RIA news agency said.\n",
      "------------------------------------------------------------\n",
      "Documento 11: Bharti Sharma, mother of the 16-year-old boy who made headlines for getting a job offer from Google and then for it being a hoax, said on Wednesday the incident had ?devastated? her son?s life. Talking to HT, Bharti, a teacher from Kurukshetra, said Harshit got a hoax call, and not a letter, informing him about his selection for the post of graphic designer. ?Harshit got a phone call. We did not believe it at first. I kept telling him it could be hoax,? said the mother. ?He shared the information with his school principal, who further released a press note, which led to media coverage.?Bharti said once the news was published and mediapersons started contacting them, they too thought the job offer is genuine.?We thought the principal has some confirmation,? she said.Where did letter come from?However, question remains over the offer letter that the school has provided to the media, claiming that Harshit had forwarded it to a teacher. The letter has several mistakes and does not contain any salary details. Bharti maintained that Harshit did not provide it to the school. Harshit had completed Class 12 from Government Model Senior Secondary School (GMSSS), Sector 33, this year. It was on Saturday that the UT administration released a press note about Harshit?s achievement. The release claimed that the internet giant would pay him Rs 12 lakh per month as salary after a year?s training. During training, it was claimed he will get a stipend of Rs 4 lakh per month.However, on Tuesday, Google denied having offered paid training and job to Harshit. Bharti said Harshit hasn?t eaten since Tuesday and is hospitalised. ?Doctors say he is traumatised. Those who were congratulating us are now taunting us,? she said.Claiming they did not want to blame the principal or any teacher, Bharti said: ?Harshit only told her about the call.??Family evading authorities?However, Beniwal maintained that Harshit forwarded a copy of the offer letter to a teacher through WhatsApp. The principal alleged Harshit?s family had been evading the authorities and there phone number were also switched off. Meanwhile, Beniwal has submitted a report to the education department after it ordered a probe on Tuesday.It is learnt the principal has stated that she was on leave and got information about the boy getting a job offer through two teachers. She has also forwarded messages exchanged between the teachers and Harshit?s family and the offer letter. She has also appended videos of celebrations at Harshit?s ancestral place in Kurukshetra.The report will be made public on Thursday. ?I have received the report, but not seen it yet,? said Rubinderjit Singh Brar, UT director, school education.\n",
      "------------------------------------------------------------\n",
      "Documento 107: Director Hansal Mehta has trashed all speculation around the Kangana Ranaut-starrer Simran, saying that they are \"false, malicious and totally fabricated\".Mehta dismissed the reports that Kangana had taken over editing of the trailer after being unhappy over the first cut. \"All this speculation is false, malicious and totally fabricated. I collaborate closely with my team and my actors are an integral part of that collaboration. It angers me that every time some malicious gossip has to be spread, people meaninglessly drag Kangana into their stupid machinations. She is a valued friend, actor and collaborator. Period,\" Mehta said in a statement.\"I'm even more hurt that some malicious person chooses to drag my relationship with Vishal Bhardwaj into this malice. Vishal is one of my dearest friends and if I am making films today it is because of him. I would never say anything that could remotely even hurt or upset somebody I love so dearly and to whom I am so grateful,\" he added.Co-producer Bhushan Kumar said he is saddened by the reports as they put the film in a negative light. \"We are very saddened with this news. Her (Kangana) sitting on the edit table is completely false. We all work as a team and her feedback on every promo and plan is crucial. At the end, the film is a director's vision and the film campaign will stay close to that only,\" Kumar said.Simran is set to release on September 15.\n",
      "------------------------------------------------------------\n",
      "Documento 138: The latest victim of Pahlaj Nihalani-led CBFC's (Central Board of Film Certification) draconian measures is Nawazuddin Siddiqui's upcoming film Babumoshai Bandookbaaz. Nihalani has ordered 48 cuts in the film - yes, you read that right. F-O-R-T-Y E-I-G-H-T cuts.When asked about the number of cuts that have been ordered in Babumoshai Bandookbaaz, Nihalani told India Today Television, \"We are just doing our job.\"The blow from the censor board comes just days after news broke that Pahlaj Nihalani might have to step down as the CBFC chairman owing to the numerous controversies that his methods have landed him in. While there is no update on that front, his order of 48 cuts for Babumoshai Bandookbaaz have come as a shock to the makers of the film.Babumoshai Bandookbaaz, which stars Nawazuddin Siddiqui and Bidita Bag in the lead roles and is directed by Kushan Nandy, has been embroiled in controversies for quite some time now. First, Chitrangda Singh walked out of the film saying that she was uncomfortable with the numerous explicit scenes in the film.After that, the filmmakers roped in Bengali actress Bidita Bag.The casting director of Babumoshai Bandookbaaz, Sanjay Chouhan, then said in an interview how it was not possible for him to cast a 'fair and handsome actor opposite Nawazuddin Siddiqui'. Nawaz did not take the comment lying down and went on Twitter to say how he never concentrated on his looks.\"Thank U 4 making me realise dat I cannot b paired along wid d fair & handsome bcz I m dark & not good looking, but I never focus on that. (sic)\" read Nawaz's tweet.Babumoshai Bandookbaaz is slated for a release on August 25 this year. But it remains to be seen when the CBFC finally gets around to clearing the film. Or if Babumoshai Bandookbaaz too has to knock on the Revising Committee's door to get a certificate.OPINION: Nawazuddin Siddiqui is the finest actor we have. Why the racism, Bollywood?\n",
      "------------------------------------------------------------\n",
      "Documento 53: Allegations that British American Tobacco was involved in bribery and corruption in Africa are being investigated by the Serious Fraud Office, despite the cigarette company?s attempts to downplay the significance of a whistleblower who handed over a dossier of evidence.BAT, now the largest tobacco company in the world after the recent merger with Reynolds, has consistently denied the allegations of Paul Hopkins, whom it employed in Africa for 13 years. When Hopkins handed over a large number of documents to the SFO in December 2015, BAT dismissed him as ?a rogue former employee?.The company later toned down its criticism, stating that it had appointed a team of external legal advisers to investigate the charges.The SFO?s inquiries have now become a formal investigation. In a statement it said it was ?investigating suspicions of corruption in the conduct of business by BAT, its subsidiaries and associated persons?. It invited members of the public to come forward with any evidence they might have.The news follows a major Guardian investigation revealing that BAT and other multinationals have used threats against at least eight African nations, demanding they axe or dilute the kind of tobacco control measures that have saved millions of lives in the west.BAT said it continued to conduct its own inquiries into Hopkins? charges. ?We have been cooperating with the Serious Fraud Office and British American Tobacco has been informed that the SFO has now opened a formal investigation. BAT intends to cooperate with that investigation,? it said.The company would not confirm whether the investigation concerned the allegations made by Hopkins.He has claimed he paid bribes on the company?s behalf to the Kenya Revenue Authority for access to information that BAT could use against its Kenyan competitor Mastermind. Hopkins also claimed that BAT Kenya had paid bribes to government officials in Burundi, Rwanda and Comoros to undermine tobacco control regulations.BAT hired the law firm Linklaters in February 2016 to conduct a ?full investigation? into the claims made by Hopkins. BAT later dropped Linklaters and appointed Slaughter and May as sole adviser on the case.Louis Charalambous, Hopkins? solicitor, said BAT had changed its tone. ?We note, with interest, that BAT have abandoned their earlier PR strategy of trying to shoot the messenger,? he said in a statement.?Paul Hopkins blew the whistle during his time at BAT and their internal team ignored him. Previously BAT tried to wriggle out by saying that Mr Hopkins had left their employ in acrimonious circumstances when, in fact, that was untrue. They also wrongly suggested that he had acted on his own, and portrayed themselves as the victims.?Now their new external law firm and revised PR strategy are silent about Mr Hopkins. They need to go further and set the record straight. The company cannot rewrite this history, and we look forward to seeing them answer these allegations in due course.?Hopkins said he had turned whistleblower at a cost to himself. ?I rejected an enhanced redundancy package designed to force me to sign a global confidentially agreement and just took statutory redundancy instead,? he said.Deborah Arnott, the chief executive of the campaigning charity Ash, said: ?At the time the allegations of fraud in Africa were first made against BAT the company accused the whistle blower of having a vendetta against the company and peddling falsehoods.?Eighteen months later and BAT is having to admit it?s under investigation by the Serious Fraud Office. The SFO must leave no stone unturned.?Matthew Myers, the president of the Campaign for Tobacco-Free Kids, called on the US government to also investigate BAT. ?The allegations against British American Tobacco are serious and should be investigated and prosecuted to the fullest extent of the law,? he said.?As British American Tobacco now operates the largest publicly traded tobacco company within the United States, we urge the US Department of Justice to also investigate the company?s alleged misconduct.?The BAT chief executive, Nicandro Durante, told the Financial Times in March that the firm would ?act in a very strong way? if wrongdoing was found to have taken place. He said: ?We are in 200 countries, so I cannot give a 100% guarantee that everything?s going to go by the book.?The SFO investigation is another blow to the company, after the US health watchdog, the Food and Drug Administration, announced tighter regulations on the tobacco industry, which hit shares in tobacco firms.\n",
      "------------------------------------------------------------\n",
      "Documento 2: The Indira Gandhi Institute of Medical Sciences (IGIMS) in Patna amended its marital declaration form on Thursday, replacing the word ?virgin? with ?unmarried? after controversy.Until now, new recruits to the super-specialty medical institute in the state capital were required to declare if they were bachelors, widowers or virgins.IGIMS medical superintendent Dr Manish Mandal said institute director Dr NR Biswas held a meeting on Thursday morning before directing that the word ?virgin? on the marital declaration form be immediately replaced with ?unmarried?. Dr Biswas had just returned after a four-day leave of absence.Earlier, Bihar health minister Mangal Pandey had ended up redefining the very meaning of virginity in his attempts to justify the awkward phrasing of the question in the form. Following a public furore over the document on Wednesday, the minister told news channels that there was nothing wrong with using the word ?virgin? because it simply meant ?kanya? or ?kunwari? ? which means an unmarried girl.Pandey had joined the cabinet just three days ago.Sources said the chief minister?s office had also taken cognizance of the issue, and asked for a copy of the form. It had even asked why the question was introduced in the first place.In its response, the management of the autonomous super-specialty health facility had clarified on Wednesday that it was in adherence to the central civil services rules followed by the All India Institute of Medical Sciences in New Delhi.The previous version of the marital declaration form, which purportedly asked new recruits if they were virgins.\n",
      "\t\t\t\t\t\t\t(HT Photo)\n",
      "\t\t\t\t\t\tThe marital declaration form had been in existence since the inception of the institute in 1983. Some officials blamed the faux pas on poor translation on the part of individuals who drafted the document.?The word ?virgin? mentioned on the form had nothing to do with the virginity of any employee. It only sought to know the employees? marital status, so their dues could be settled on the basis of their declaration in the event of death while in service,? said Dr Mandal.\n",
      "------------------------------------------------------------\n",
      "Documento 60: Comedian-actor Sunil Grover has stayed away from the limelight for almost five months now ? he quit The Kapil Sharma Show (TKSS) after a fight with Kapil on board an aircraft. As he turns a year older on August 3, Sunil says that misses his audiences as much as they miss him.Asked about his plans, Sunil says, ?I want to entertain people and remain in this field. This is what I love doing, and have tried to do for all these years. Right now, I?m just in the process of thinking.?Sunil is still reticent about the mid-air brawl that severed his very successful partnership with Kapil. ?Quite often, when you say something, it shows the other person in a very bad light, though unintentionally,? says Sunil. ?What you say is perceived to be the truth and how you see facts might not really be true, and can sound demeaning for the other person. With Kapil, I?ve had a great association, and I have deep gratitude for the platform we shared.?    Neutral gear. A post shared by Sunil Grover (@whosunilgrover) on Jun 20, 2017 at 2:17am PDT Recently, Sunil shot for a special episode as Mashoor Gulati (his popular character on TKSS) to promote Salman Khan?s film Tubelight. Did the episode make him nostalgic? Was there a change of heart about TKSS? ?Mere heart ko hua kya tha jo change hona tha? My cholesterol levels are fine and there?s no blockage in my heart,? quips Sunil.In these five months, many industry colleagues have tried to bring about a patch-up between Kapil and Sunil. The latter says that there?s no need for a mediator. ?I know [Kapil] very well. Why do I need someone else to sort things between us?? says Sunil. ?We still have each other?s numbers and we haven?t changed them. But I?m thankful to those who are [still] taking the initiative; it?s so nice of them. Anyway, the best part is that the comedy didn?t stop and it?s continuing from both ends.?About the news of Kapil not keeping well, owing to the dipping TRPs of his show, Sunil says, ?I heard about this, and I can only say that he should take good care of himself.?Follow @htshowbiz for more\n",
      "------------------------------------------------------------\n",
      "Documento 54: Comedian and TV?show host Kapil Sharma has finally spoken on the rumours of his depression. In an interview to Dainik Bhaskar, Kapil cleared the air surrounding his ill health and said that he merely has blood pressure problems, not depression.According to several rumours floating around since past few months, Kapil has been under a lot of stress due to the falling TRPs of his show, The Kapil Sharma Show. ?It (depression) is just a big term for me (laughs). Apart from low blood pressure, I am not at all facing any health issues. I have started taking care of my diet and body. I am perfectly fine now,? he said in the interview.Mumbai: Comedian Kapil Sharma Bollywood actors Riteish Deshmukh and Vivek Oberoi during the promotion of film Bank Chor on the sets of The Kapil Sharma Show in Mumbai, on June 8, 2017. (Photo: IANS)\n",
      "\t\t\t\t\t\t\t(IANS)\n",
      "\t\t\t\t\t\tKapil further explained how was busy juggling between his film and the show which led to stress. ?For the past few months, I was juggling my time between The Kapil Sharma Show and my film, Firangi. I was working day and night. I wasn?t getting much time to take care of my health. Also, I had stopped doing regular exercises and workouts. This led to developing low blood pressure. Now, I have changed my routine and my health is completely fine,? he said.When asked whether the falling TRPs were the cause behind his ill health, he refuted the claims entirely. ?Believe me or not, I get to hear such kind of news from the media people itself. Nobody from Sony Channel has come to me and spoken about it. In fact, the channel people have always been kind to me; they support me a lot. ?The Kapil Sharma Show? is not going off air; we are busy shooting for it,? he said.There were also rumours that Kapil made his guests on the show wait for hours before cancelling on them. ?I was under a lot of pressure and that?s fair enough. We all have our ups and down in terms of health; don?t we? I felt sick and that?s okay. It was genuine and people around me understood that. However, I did not keep anyone waiting on the set,? he said.TRPs for The Kapil Sharma Show took a nosedive since his PR nightmare of a fight with co-actor Sunil Grover on a flight where he got physically violent with him.Follow @htshowbiz for more\n",
      "------------------------------------------------------------\n",
      "Documento 36: A woman parliamentarian of Imran Khan?s Pakistan Tehreek-e-Insaf (PTI) has stirred up a major row by accusing the cricketer-turned-politician of sending her ?obscene? text messages and harassing women leaders of the party.Ayesha Gulalai, elected to the National Assembly in 2013 from a reserved seat for women in the tribal areas bordering Afghanistan, also announced her decision to quit the PTI because she could not compromise on her honour and dignity.Addressing a news conference in Islamabad on Tuesday, Gulalai said the ?honour? of women in the PTI is not safe because of 64-year-old Khan, whom she called a ?fake Pathan?. Gulalai, who hails from the conservative South Waziristan tribal region and is the sister of leading squash player Maria Toorpakai, said Khan is a ?characterless person? who considers himself an angel but his conduct is ?highly indecent?. There was no response to the allegations from Khan though PTI spokesman Fawad Chaudhry dismissed Gulalai?s allegations and claimed she had ?sold her soul? for money.The lawmaker said she had received numerous text messages from Khan, and the first one was sent from his Blackberry in October 2013. She declined to read out the messages but asked journalists to contact the telecom authority in this context. She urged the Supreme Court to take notice of the matter for the sake of the honour of women members of the PTI as there is speculation that Khan might one day become the prime minister. Gulalai said her decision to quit the PTI had nothing to do with a case regarding Khan?s assets that is being heard by the Supreme Court. ?The criterion for awarding party tickets is entirely different in the PTI,? she said.She said she had the courage to come out against Khan and his clan as she is a brave Pathan and honour was more important to her. The lawmaker went on to say that Khan was more impressed by Western culture and wanted to replicate it in Pakistan.?Their change is confined to social media while workers like me work on the ground, whom they call inferior workers. When I used to attend meetings, Imran Khan gave tips on how to ridicule rivals and target them,? she said.Gulalai also accused the PTI government in Khyber-Pakhtunkhwa province of corruption and said chief minister Pervez Khattak was acting like a ?mafia boss?.She rejected reports that she was joining the PML-N party of former premier Nawaz Sharif but praised him for respecting women.  \n",
      "------------------------------------------------------------\n",
      "Documento 133: China is constructing a 12-km-long high-speed train tunnel through one of the portions of its iconic Great Wall to connect Zhangjiakou city which is due to co-host 2022 winter Olympics along with Beijing.It took the Chinese engineers months to choreograph the best intersection point. In the end, the tunnel, deep below the Badaling section of the Great Wall, passed experts? appraisal, state-run People?s Daily reported.The line is designed for trains travelling up to 350km per hour, which is expected to shorten the single-journey time from more than 3 hours to approximately one hour. The line is estimated to be completed in 2019.The depth of the tunnel will range from four metres to 432 metres. Now, people are holding their breath on the completion of the tunnel while ensuring that the Great Wall is not damaged in the process, the Global Times reported.Luo Duhao, chief engineer of the Beijing-Zhangjiakou High-Speed Railway Line, being built by China Railway Number 5 Engineering Group Co said the firm will employ ?precision micro-blasting? technology, which has a velocity of 0.2 cm per second and is able to make the tremor weaker than the traditional firepower blasts that have a velocity of 5 cm per second.Luo told the Global Times that the new technology will ensure that the Great Wall will not be affected by the blasts, as they will be barely felt.?The new technology causes little damage to the geological environment, which will help protect the Great Wall,? Dai Longzhen, deputy manager of the Beijing-Zhangjiakou High-Speed Railway Line, told the Global Times.?I myself once stood on the Great Wall and I could not feel the blast at all,? Dai added.Zhang Xuehua, a blast expert at the construction site, told the People?s Daily that the construction of the tunnel has completed 4,500 blasts since early February this year.In the middle of the tunnel, workers will build a spacious and well-decorated station right under the Great Wall, with a record-breaking construction space of 36,000 square metres, the Xinhua News Agency reported.The station will be 102 metres below the surface of the Badaling Great Wall.Dai said the construction area and the depth of the station is ?record-breaking.?He said that because the station is built underground, it will cause less damage to the plantation, and it also demonstrates China?s top-notch railway construction capabilities.Originating from the Beijing Railway Station North, the Beijing-Zhangjiakou High-Speed Railway Line runs through Haidian, Changping and Yanqing districts of Beijing. The line continues northwest through Huailai and Xunhua counties in Hebei province before terminating in the city of Zhangjiakou, making for a total length of 174 km.Built from the third century BC to the Ming Dynasty (1368-1644), the Great Wall stretches over 21,000 km. Over a four million tourists visit the Great Wall every year as it is the centre of China?s tourism campaign.According to official statistics, about 30% of a 6,200-km section of the wall built in the Ming Dynasty has disappeared, and less than 10% is considered well- preserved.The Great Wall has faced threats from both nature and humans. Earthquakes, rain, wind and other natural elements have left the wall with many decayed and crumbling bricks.  \n",
      "------------------------------------------------------------\n",
      "Documento 58: Actor Sana Khan was up for a not-so-pleasant surprise on Tuesday, when a video of her hugging actor Salman Khan went viral for all the wrong reasons. Sana walked the red carpet at a recently held TV awards show in Mumbai, and when she spotted Salman, the two exchanged a hug. What made it news was Salman?s closed fists, and his shy smile. ?I still can?t believe that a normal hug was trending, trolling, and rolling,? says Sana. ?People just blew it out of proportion because [Salman] had a closed fist, and some dumb people even called it an awkward hug.? The actor adds that it?s only normal for people to wear backless clothes at a red carpet event.    There is always a wild side to an innocent face ?? Look for Big zee entertainment awards ? Gown by @nikhitatandon Earring by @caratlane Ring by @dwarkadaschandumaljewellers Styled by @sayali_vidya A post shared by Sana Khaan (@sanakhaan21) on Jul 29, 2017 at 12:15pm PDT Did she feel that Salman was uncomfortable even for a moment? Sana replies, ?Who am I to make him feel uncomfortable? It?s stupid to put somebody down by saying such a nasty thing and showing me in a wrong light. It?s not [as if] I went to hug him and he didn?t recognise me.?But why that closed fist? ?Couldn?t it be somebody?s style? Maybe he hugs like that. I don?t know. I think the best person [whom] to ask this would be Salman. [Also] He has been in the [film] industry for over 25 years, so don?t think backless even matters to him? he has seen more than that (laughs). Let?s not talk like a five-year-old and make all this sound so big,? says Sana.I?m not a psychopath to hug somebody if the person doesn?t want to talk to me. I?m not someone who makes people stand and keep talking and falling on their lap.Sana has known Salman ever since she first appeared in 2012 on the reality show Bigg Boss (which was hosted by Salman) and later worked with the actor in the 2014 film Jai Ho. Lashing out at those who are calling it a forced hug, Sana retorts, ?I?m not a psychopath to hug somebody if the person doesn?t want to talk to me. I?m not someone who makes people stand and keep talking and falling on their lap. I am on good terms with Salman; we share a rapport, I talk to him on and off, we?ve met so many times, I?ve been to his house, and we have worked together on the sets also. So there?s nothing to feel awkward [about].?The actor shares that she had a brief two-minute chat with Salman, and that may have got everyone curious. ?For a moment, Salman didn?t recognise me ? he literally told me that. [Then] he complimented me that I look very nice. And I said, ?Yes, I?ve dropped 7kg?, and he is like, ?It?s showing,?? reveals Sana.Was it the backless outfit that made the hug look ?awkward?? Sana says, ?Well, could be. Maybe he didn?t want my back bronzer to fall on his clothes. He has worked with all sexy and good-looking actresses, who would use bronzer from head to toe, so he knows that. And it?s not that he wants to feel me up or I want to feel him up. I am sorry, we have all grown up from that zone. We need to respect each other?s space and gestures.?Follow @htshowbiz for more\n"
     ]
    }
   ],
   "source": [
    "# Input para sistema de recuperación de la información específico para consultas de texto libre\n",
    "\n",
    "ruta_csv = \"news_corpus.csv\"\n",
    "\n",
    "# Solicitar consulta al usuario\n",
    "consulta = input(\"Introduce tu consulta: \")\n",
    "\n",
    "# Ejecutar ranking\n",
    "ranking_documentos_por_consulta(consulta, ruta_csv)"
   ]
  },
  {
   "cell_type": "code",
   "execution_count": null,
   "id": "87e6ea8d",
   "metadata": {},
   "outputs": [],
   "source": []
  }
 ],
 "metadata": {
  "kernelspec": {
   "display_name": "Python 3 (ipykernel)",
   "language": "python",
   "name": "python3"
  },
  "language_info": {
   "codemirror_mode": {
    "name": "ipython",
    "version": 3
   },
   "file_extension": ".py",
   "mimetype": "text/x-python",
   "name": "python",
   "nbconvert_exporter": "python",
   "pygments_lexer": "ipython3",
   "version": "3.9.12"
  }
 },
 "nbformat": 4,
 "nbformat_minor": 5
}
