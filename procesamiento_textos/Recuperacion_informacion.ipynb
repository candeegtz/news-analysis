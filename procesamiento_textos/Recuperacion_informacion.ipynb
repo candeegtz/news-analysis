{
 "cells": [
  {
   "cell_type": "markdown",
   "id": "48ef5594-63dc-4ec7-9042-9ff2b95bf8a7",
   "metadata": {},
   "source": [
    "# Trabajo de Inteligencia artificial\n",
    " ## Análisis de noticias\n",
    "\n",
    " Realizado por:\n",
    " - Marta Aguilar Morcillo\n",
    " - Candela Jazmín Gutiérrez González\n",
    "\n",
    "Fecha: 30/05/2025\n",
    "\n",
    "Convocatoria de junio.\n",
    "\n",
    " ## 1. Lectura de datos\n",
    "\n",
    " Se comenzará con la lectura del corpus."
   ]
  },
  {
   "cell_type": "code",
   "execution_count": 29,
   "id": "664d7227-c596-4ba9-9265-2ba17abe1b4e",
   "metadata": {},
   "outputs": [
    {
     "name": "stdout",
     "output_type": "stream",
     "text": [
      "Requirement already satisfied: nltk in c:\\users\\usuario\\appdata\\roaming\\python\\python39\\site-packages (3.9.1)\n",
      "Requirement already satisfied: tqdm in c:\\users\\usuario\\miniconda3\\lib\\site-packages (from nltk) (4.63.0)\n",
      "Requirement already satisfied: joblib in c:\\users\\usuario\\miniconda3\\lib\\site-packages (from nltk) (1.4.2)\n",
      "Requirement already satisfied: click in c:\\users\\usuario\\appdata\\roaming\\python\\python39\\site-packages (from nltk) (8.1.8)\n",
      "Requirement already satisfied: regex>=2021.8.3 in c:\\users\\usuario\\appdata\\roaming\\python\\python39\\site-packages (from nltk) (2024.11.6)\n",
      "Requirement already satisfied: colorama in c:\\users\\usuario\\miniconda3\\lib\\site-packages (from click->nltk) (0.4.4)\n"
     ]
    },
    {
     "name": "stderr",
     "output_type": "stream",
     "text": [
      "[nltk_data] Downloading package punkt_tab to\n",
      "[nltk_data]     C:\\Users\\Usuario\\AppData\\Roaming\\nltk_data...\n",
      "[nltk_data]   Package punkt_tab is already up-to-date!\n",
      "[nltk_data] Downloading package averaged_perceptron_tagger to\n",
      "[nltk_data]     C:\\Users\\Usuario\\AppData\\Roaming\\nltk_data...\n",
      "[nltk_data]   Package averaged_perceptron_tagger is already up-to-\n",
      "[nltk_data]       date!\n",
      "[nltk_data] Downloading package averaged_perceptron_tagger_eng to\n",
      "[nltk_data]     C:\\Users\\Usuario\\AppData\\Roaming\\nltk_data...\n",
      "[nltk_data]   Package averaged_perceptron_tagger_eng is already up-to-\n",
      "[nltk_data]       date!\n",
      "[nltk_data] Downloading package wordnet to\n",
      "[nltk_data]     C:\\Users\\Usuario\\AppData\\Roaming\\nltk_data...\n",
      "[nltk_data]   Package wordnet is already up-to-date!\n",
      "[nltk_data] Downloading package omw-1.4 to\n",
      "[nltk_data]     C:\\Users\\Usuario\\AppData\\Roaming\\nltk_data...\n",
      "[nltk_data]   Package omw-1.4 is already up-to-date!\n"
     ]
    },
    {
     "data": {
      "text/plain": [
       "True"
      ]
     },
     "execution_count": 29,
     "metadata": {},
     "output_type": "execute_result"
    }
   ],
   "source": [
    "!pip install nltk\n",
    "import nltk\n",
    "\n",
    "from nltk import download\n",
    "\n",
    "download('punkt_tab')                           # Tokenización\n",
    "nltk.download('averaged_perceptron_tagger')     # POS tagging\n",
    "nltk.download('averaged_perceptron_tagger_eng') # POS tagging\n",
    "nltk.download('wordnet')                        # WordNet lemmatizer\n",
    "nltk.download('omw-1.4')                        # WordNet multilingüe"
   ]
  },
  {
   "cell_type": "code",
   "execution_count": 31,
   "id": "a763f51b-d254-49b1-9642-c4ef91d2e21f",
   "metadata": {},
   "outputs": [],
   "source": [
    "from nltk.tokenize import word_tokenize\n",
    "from nltk.stem.lancaster import LancasterStemmer\n",
    "from nltk.corpus import stopwords\n",
    "from nltk.data import path\n",
    "from nltk.stem import WordNetLemmatizer\n",
    "from nltk import pos_tag\n",
    "\n",
    "path.append(\".\")"
   ]
  },
  {
   "cell_type": "code",
   "execution_count": 32,
   "id": "1c81921b-6b6f-4e41-b7d2-ba1e3685fcff",
   "metadata": {},
   "outputs": [
    {
     "name": "stdout",
     "output_type": "stream",
     "text": [
      "Requirement already satisfied: contractions in c:\\users\\usuario\\miniconda3\\lib\\site-packages (0.1.73)\n",
      "Requirement already satisfied: textsearch>=0.0.21 in c:\\users\\usuario\\miniconda3\\lib\\site-packages (from contractions) (0.0.24)\n",
      "Requirement already satisfied: pyahocorasick in c:\\users\\usuario\\miniconda3\\lib\\site-packages (from textsearch>=0.0.21->contractions) (2.1.0)\n",
      "Requirement already satisfied: anyascii in c:\\users\\usuario\\miniconda3\\lib\\site-packages (from textsearch>=0.0.21->contractions) (0.3.2)\n"
     ]
    }
   ],
   "source": [
    "!pip install contractions\n",
    "import contractions"
   ]
  },
  {
   "cell_type": "code",
   "execution_count": 33,
   "id": "87eb78f2-614e-4ccb-b4de-9ed2ae89abc3",
   "metadata": {},
   "outputs": [],
   "source": [
    "import csv\n",
    "import pandas as pd\n",
    "from bs4 import BeautifulSoup\n",
    "from pprint import pprint\n",
    "import re\n",
    "from bs4 import MarkupResemblesLocatorWarning\n",
    "import warnings"
   ]
  },
  {
   "cell_type": "code",
   "execution_count": 34,
   "id": "0600f1f9-ea7b-4279-b084-e340b41f83df",
   "metadata": {},
   "outputs": [],
   "source": [
    "from sklearn.pipeline import Pipeline\n",
    "from sklearn.feature_extraction.text import TfidfVectorizer\n",
    "from sklearn.neighbors import KNeighborsClassifier\n",
    "from sklearn.metrics import recall_score\n",
    "from sklearn.feature_extraction.text import TfidfVectorizer\n",
    "from sklearn.pipeline import Pipeline\n",
    "from sklearn.feature_extraction.text import TfidfTransformer\n",
    "from sklearn.neighbors import KNeighborsClassifier"
   ]
  },
  {
   "cell_type": "code",
   "execution_count": 35,
   "id": "a4734533-b325-41d9-afcc-bde22a4c36f7",
   "metadata": {},
   "outputs": [],
   "source": [
    "warnings.filterwarnings(\"ignore\", category=MarkupResemblesLocatorWarning)"
   ]
  },
  {
   "cell_type": "code",
   "execution_count": 36,
   "id": "590d2b1f-c1bd-47f5-84e9-35b82ba8e136",
   "metadata": {},
   "outputs": [],
   "source": [
    "palabras_vacias_ingles = stopwords.words('english')"
   ]
  },
  {
   "cell_type": "code",
   "execution_count": 37,
   "id": "5f0d9972-08dd-4181-9d8c-124eed854eaa",
   "metadata": {},
   "outputs": [],
   "source": [
    "def elimina_html(contenido):\n",
    "    return BeautifulSoup(contenido).get_text()\n",
    "\n",
    "def elimina_no_alfanumerico(contenido):\n",
    "    return [re.sub(r'[^\\w]', '', palabra)\n",
    "            for palabra in contenido\n",
    "            if re.search(r'\\w', palabra)]\n",
    "\n",
    "def expandir_constracciones(contenido):\n",
    "    return contractions.fix(contenido)\n",
    "\n",
    "def pasar_a_minuscula(contenido):\n",
    "    return contenido.lower()\n",
    "\n",
    "def limpiar_texto(texto):\n",
    "    texto = re.sub(r'[^a-zA-Z\\s]', ' ', texto)  # Reemplaza todo lo que no es letra o espacio con espacio\n",
    "    texto = re.sub(r'\\s+', ' ', texto).strip()\n",
    "    return texto\n",
    "\n",
    "def elimina_palabras_vacias(contenido):\n",
    "    return [palabra for palabra in contenido if palabra not in palabras_vacias_ingles]\n",
    "\n",
    "def lematizador(contenido):\n",
    "    lemmatizer = WordNetLemmatizer()\n",
    "    pos_tags = pos_tag(contenido)\n",
    "\n",
    "    resultado = []\n",
    "    for palabra, tag in pos_tags:\n",
    "        if tag.startswith('VB'):  # Verbos\n",
    "            resultado.append(lemmatizer.lemmatize(palabra, pos='v'))  # infinitivo\n",
    "        else:  # Sustantivos y el resto tal como están\n",
    "            resultado.append(palabra)\n",
    "\n",
    "    return resultado"
   ]
  },
  {
   "cell_type": "code",
   "execution_count": 38,
   "id": "be069f95-8d51-4137-82e6-c94ce64d6cf1",
   "metadata": {},
   "outputs": [],
   "source": [
    "def proceso_contenido(texto):\n",
    "    texto = elimina_html(texto)\n",
    "    texto = expandir_constracciones(texto)\n",
    "    texto = pasar_a_minuscula(texto)\n",
    "    texto = limpiar_texto(texto)                # Limpiar antes de tokenizar\n",
    "    tokens = word_tokenize(texto)               \n",
    "    tokens = elimina_no_alfanumerico(tokens)    # Limpiar tokens individuales\n",
    "    tokens = elimina_palabras_vacias(tokens)\n",
    "    tokens = lematizador(tokens)\n",
    "    return tokens"
   ]
  },
  {
   "cell_type": "code",
   "execution_count": 39,
   "id": "12d8300c-36ae-4731-ada9-25e0cf06ec93",
   "metadata": {},
   "outputs": [],
   "source": [
    "# Cargar CSV con codificación segura y punto y coma como separador\n",
    "df = pd.read_csv(\"news_corpus.csv\", encoding=\"latin-1\", sep=\";\", quotechar='\"')\n",
    "\n",
    "# Verificar que tenga exactamente 3 columnas\n",
    "assert df.shape[1] == 3, \"El CSV no tiene exactamente 3 columnas. Revisa el separador o las comillas.\"\n",
    "\n",
    "resultados = []\n",
    "\n",
    "for index, fila in df.iterrows():\n",
    "    autor = fila.iloc[0]\n",
    "    titulo = fila.iloc[1]\n",
    "    cuerpo = fila.iloc[2]\n",
    "\n",
    "    autor_proc = proceso_contenido(autor)\n",
    "    titulo_proc = proceso_contenido(titulo)\n",
    "    cuerpo_proc = proceso_contenido(cuerpo)\n",
    "\n",
    "    # Unir las tres listas en una sola lista combinada\n",
    "    fila_combinada = autor_proc + titulo_proc + cuerpo_proc\n",
    "    resultados.append(fila_combinada)"
   ]
  },
  {
   "cell_type": "code",
   "execution_count": 40,
   "id": "5ec45a71-397d-4b8b-b0e4-4425fa107c4f",
   "metadata": {},
   "outputs": [
    {
     "name": "stdout",
     "output_type": "stream",
     "text": [
      "Documento 1:\n",
      " - Palabras: ['chhavi', 'tyagi', 'daman', 'diu', 'revoke', 'mandatory', 'rakshabandhan', 'offices', 'order', 'daman', 'diu', 'administration', 'wednesday', 'withdraw', 'circular', 'ask', 'women', 'staff', 'tie', 'rakhis', 'male', 'colleagues', 'order', 'trigger', 'backlash', 'employees', 'rip', 'apart', 'social', 'media', 'union', 'territory', 'administration', 'force', 'retreat', 'within', 'hours', 'issue', 'circular', 'make', 'compulsory', 'staff', 'celebrate', 'rakshabandhan', 'workplace', 'decide', 'celebrate', 'festival', 'rakshabandhan', 'august', 'connection', 'offices', 'departments', 'shall', 'remain', 'open', 'celebrate', 'festival', 'collectively', 'suitable', 'time', 'wherein', 'lady', 'staff', 'shall', 'tie', 'rakhis', 'colleagues', 'order', 'issue', 'august', 'gurpreet', 'singh', 'deputy', 'secretary', 'personnel', 'say', 'ensure', 'one', 'skipped', 'office', 'attendance', 'report', 'send', 'government', 'next', 'even', 'two', 'notifications', 'one', 'mandate', 'celebration', 'rakshabandhan', 'leave', 'withdraw', 'mandate', 'right', 'issue', 'daman', 'diu', 'administration', 'day', 'apart', 'circular', 'withdrawn', 'one', 'line', 'order', 'issue', 'late', 'evening', 'ut', 'department', 'personnel', 'administrative', 'reforms', 'circular', 'ridiculous', 'sensitivities', 'involve', 'government', 'dictate', 'tie', 'rakhi', 'maintain', 'professionalism', 'workplace', 'official', 'tell', 'hindustan', 'times', 'earlier', 'day', 'refuse', 'identified', 'notice', 'issue', 'daman', 'diu', 'administrator', 'former', 'gujarat', 'home', 'minister', 'praful', 'kodabhai', 'patel', 'direction', 'sources', 'say', 'rakshabandhan', 'celebration', 'bond', 'brothers', 'sisters', 'one', 'several', 'hindu', 'festivities', 'rituals', 'longer', 'confine', 'private', 'family', 'affairs', 'become', 'tools', 'push', 'politic', 'al', 'ideologies', 'year', 'bjp', 'storm', 'power', 'centre', 'rashtriya', 'swayamsevak', 'sangh', 'rss', 'chief', 'mohan', 'bhagwat', 'say', 'festival', 'national', 'significance', 'celebrate', 'widely', 'protect', 'hindu', 'culture', 'live', 'values', 'enshrine', 'rss', 'ideological', 'parent', 'ruling', 'bjp', 'last', 'year', 'women', 'ministers', 'modi', 'government', 'go', 'border', 'areas', 'celebrate', 'festival', 'soldiers', 'year', 'cabinet', 'ministers', 'ask', 'go', 'constituencies', 'festival']\n",
      "\n",
      "Documento 2:\n",
      " - Palabras: ['daisy', 'mowke', 'malaika', 'slams', 'user', 'troll', 'divorcing', 'rich', 'man', 'special', 'numbers', 'tv', 'appearances', 'bollywood', 'actor', 'malaika', 'arora', 'khan', 'manage', 'carve', 'identity', 'actor', 'make', 'debut', 'hindi', 'film', 'industry', 'blockbuster', 'debut', 'opposite', 'shah', 'rukh', 'khan', 'chaiyya', 'chaiyya', 'dil', 'se', 'still', 'remember', 'song', 'however', 'trolls', 'woman', 'first', 'matters', 'right', 'divorce', 'rich', 'man', 'wednesday', 'malaika', 'arora', 'share', 'gorgeous', 'picture', 'instagram', 'follower', 'decide', 'troll', 'use', 'alumni', 'read', 'alimony', 'money', 'wear', 'short', 'clothes', 'go', 'gym', 'salon', 'little', 'know', 'munni', 'badnam', 'star', 'would', 'reply', 'perfect', 'comeback', 'take', 'look', 'interaction', 'super', 'excite', 'affiliated', 'khanna', 'jewellers', 'khannajewellerskj', 'brand', 'ambassador', 'craft', 'perfection', 'stun', 'statement', 'jewellery', 'must', 'every', 'jewellery', 'lover', 'khannajewellers', 'maksquad', 'hair', 'hairbypriyanka', 'stylist', 'manekaharisinghani', 'manager', 'ektakauroberoi', 'mua', 'subbu', 'photographer', 'prasdnaik', 'post', 'share', 'malaika', 'arora', 'khan', 'malaikaarorakhanofficial', 'aug', 'pdt', 'malaika', 'decide', 'reply', 'entire', 'conversation', 'prove', 'matter', 'woman', 'successful', 'attack', 'moment', 'decides', 'step', 'bounds', 'society', 'decide', 'apart', 'successful', 'woman', 'live', 'life', 'terms', 'malaika', 'literally', 'play', 'roles', 'traditionally', 'prescribe', 'woman', 'marry', 'quite', 'early', 'son', 'raise', 'always', 'around', 'khandan', 'get', 'divorce', 'alimony', 'taunt', 'thrown', 'details', 'alimony', 'know', 'malaika', 'husband', 'arbaaz', 'khan', 'perhaps', 'family', 'couple', 'handle', 'divorce', 'utmost', 'dignity', 'vouch', 'fact', 'need', 'alimony', 'buy', 'clothes', 'short', 'choice', 'go', 'vacations', 'enjoy', 'life', 'anything', 'successful', 'ex', 'husband', 'happen', 'arbaaz', 'malaika', 'personal', 'concern', 'claim', 'malaika', 'marry', 'divorce', 'arbaaz', 'money', 'hold', 'water', 'agree', 'please', 'get', 'course', 'feminism', 'others', 'playlist', 'popular', 'songs', 'follow', 'htshowbiz']\n",
      "\n",
      "Documento 3:\n",
      " - Palabras: ['arshiya', 'chopra', 'virgin', 'correct', 'unmarried', 'igims', 'form', 'indira', 'gandhi', 'institute', 'medical', 'sciences', 'igims', 'patna', 'amend', 'marital', 'declaration', 'form', 'thursday', 'replace', 'word', 'virgin', 'unmarried', 'controversy', 'new', 'recruits', 'super', 'specialty', 'medical', 'institute', 'state', 'capital', 'require', 'declare', 'bachelors', 'widowers', 'virgins', 'igims', 'medical', 'superintendent', 'dr', 'manish', 'mandal', 'say', 'institute', 'director', 'dr', 'nr', 'biswas', 'hold', 'meeting', 'thursday', 'morning', 'directing', 'word', 'virgin', 'marital', 'declaration', 'form', 'immediately', 'replace', 'unmarried', 'dr', 'biswas', 'return', 'four', 'day', 'leave', 'absence', 'earlier', 'bihar', 'health', 'minister', 'mangal', 'pandey', 'end', 'redefine', 'mean', 'virginity', 'attempts', 'justify', 'awkward', 'phrase', 'question', 'form', 'follow', 'public', 'furore', 'document', 'wednesday', 'minister', 'tell', 'news', 'channels', 'nothing', 'wrong', 'use', 'word', 'virgin', 'simply', 'meant', 'kanya', 'kunwari', 'mean', 'unmarried', 'girl', 'pandey', 'join', 'cabinet', 'three', 'days', 'ago', 'sources', 'say', 'chief', 'minister', 'office', 'also', 'take', 'cognizance', 'issue', 'ask', 'copy', 'form', 'even', 'ask', 'question', 'introduce', 'first', 'place', 'response', 'management', 'autonomous', 'super', 'specialty', 'health', 'facility', 'clarify', 'wednesday', 'adherence', 'central', 'civil', 'services', 'rules', 'follow', 'india', 'institute', 'medical', 'sciences', 'new', 'delhi', 'previous', 'version', 'marital', 'declaration', 'form', 'purportedly', 'ask', 'new', 'recruits', 'virgins', 'ht', 'photo', 'marital', 'declaration', 'form', 'existence', 'since', 'inception', 'institute', 'officials', 'blame', 'faux', 'pas', 'poor', 'translation', 'part', 'individuals', 'draft', 'document', 'word', 'virgin', 'mention', 'form', 'nothing', 'virginity', 'employee', 'seek', 'know', 'employees', 'marital', 'status', 'dues', 'could', 'settle', 'basis', 'declaration', 'event', 'death', 'service', 'say', 'dr', 'mandal']\n",
      "\n",
      "Documento 4:\n",
      " - Palabras: ['sumedha', 'sehra', 'aaj', 'aapne', 'pakad', 'liya', 'let', 'man', 'dujana', 'kill', 'lashkar', 'e', 'taiba', 'kashmir', 'commander', 'abu', 'dujana', 'kill', 'encounter', 'village', 'pulwama', 'district', 'jammu', 'kashmir', 'earlier', 'week', 'dujana', 'manage', 'give', 'security', 'forces', 'slip', 'several', 'times', 'past', 'carry', 'bounty', 'rs', 'lakh', 'head', 'reports', 'say', 'dujana', 'come', 'meet', 'wife', 'trap', 'inside', 'house', 'hakripora', 'village', 'security', 'officials', 'involve', 'encounter', 'try', 'best', 'convince', 'dujana', 'surrender', 'refuse', 'reports', 'say', 'accord', 'reports', 'dujana', 'reject', 'call', 'surrender', 'army', 'officer', 'army', 'commission', 'local', 'start', 'telephonic', 'conversation', 'dujana', 'initiate', 'talk', 'local', 'villager', 'hand', 'phone', 'army', 'officer', 'kya', 'haal', 'hai', 'maine', 'kaha', 'kya', 'haal', 'hai', 'ask', 'dujana', 'heard', 'ask', 'officer', 'officer', 'replies', 'humara', 'haal', 'chhor', 'dujana', 'surrender', 'kyun', 'nahi', 'kar', 'deta', 'tu', 'galat', 'kar', 'rha', 'hai', 'surrender', 'marry', 'girl', 'right', 'tell', 'use', 'pakistani', 'agencies', 'pawn', 'dujana', 'sound', 'calm', 'unperturbed', 'situation', 'say', 'hum', 'nikley', 'shaheed', 'hone', 'main', 'kya', 'karu', 'jisko', 'game', 'khelna', 'hai', 'khelo', 'kabhi', 'hum', 'aage', 'kabhi', 'aap', 'aaj', 'aapne', 'pakad', 'liya', 'mubarak', 'ho', 'aapko', 'jisko', 'jo', 'karna', 'hai', 'karlo', 'leave', 'home', 'martyrdom', 'today', 'catch', 'congratulations', 'surrender', 'nahi', 'kar', 'sakta', 'jo', 'meri', 'kismat', 'may', 'likha', 'hoga', 'allah', 'wahi', 'karega', 'theek', 'hai', 'surrender', 'allaah', 'would', 'whatever', 'fate', 'dujana', 'go', 'say', 'dujana', 'belong', 'pakistan', 'lashkar', 'e', 'taiba', 'divisional', 'commander', 'south', 'kashmir', 'among', 'top', 'terrorists', 'identify', 'indian', 'army', 'jammu', 'kashmir', 'rs', 'lakh', 'bounty', 'head', 'dujana', 'label', 'terrorist', 'top', 'grade', 'also', 'give', 'burhan', 'wani', 'security', 'forces', 'receive', 'inputs', 'last', 'days', 'frequent', 'houses', 'wife', 'rukaiya', 'girlfriend', 'shazia', 'police', 'keep', 'watch', 'houses', 'confirm', 'present', 'wife', 'house', 'security', 'forces', 'move', 'trap', 'also', 'read', 'abu', 'dujana', 'security', 'forces', 'prepare', 'new', 'hitlist', 'want', 'terroristsabu', 'dujana', 'encounter', 'jilt', 'lover', 'turn', 'police', 'informer', 'lead', 'security', 'forces', 'let', 'commander']\n",
      "\n",
      "Documento 5:\n",
      " - Palabras: ['aarushi', 'maheshwari', 'hotel', 'staff', 'get', 'training', 'spot', 'signs', 'sex', 'trafficking', 'hotels', 'mumbai', 'indian', 'cities', 'train', 'staff', 'spot', 'signs', 'sex', 'traffic', 'frequent', 'requests', 'bed', 'linen', 'changes', 'disturb', 'sign', 'leave', 'door', 'days', 'end', 'group', 'behind', 'initiative', 'also', 'develop', 'mobile', 'phone', 'app', 'rescue', 'hotel', 'staff', 'use', 'alert', 'local', 'police', 'senior', 'anti', 'trafficking', 'officers', 'see', 'suspicious', 'behavior', 'hotels', 'breed', 'grounds', 'human', 'trade', 'say', 'sanee', 'awsarmmel', 'chairman', 'alumni', 'group', 'maharashtra', 'state', 'institute', 'hotel', 'management', 'cater', 'technology', 'hospitality', 'professionals', 'work', 'hotels', 'across', 'country', 'commit', 'initiative', 'spearheaded', 'alumni', 'group', 'back', 'maharashtra', 'state', 'government', 'come', 'amid', 'grow', 'international', 'recognition', 'hotels', 'key', 'role', 'play', 'fight', 'modern', 'day', 'slavery', 'maharashtra', 'major', 'destination', 'traffic', 'girls', 'maharashtra', 'mumbai', 'capital', 'major', 'destination', 'traffic', 'girls', 'lure', 'poor', 'states', 'nearby', 'countries', 'promise', 'jobs', 'sell', 'sex', 'trade', 'domestic', 'servitude', 'rise', 'property', 'prices', 'traditional', 'red', 'light', 'districts', 'like', 'mumbai', 'start', 'disappear', 'push', 'sex', 'trade', 'underground', 'private', 'lodges', 'hotels', 'make', 'hard', 'police', 'monitor', 'awsarmmel', 'say', 'hotels', 'would', 'tell', 'signs', 'staff', 'need', 'watch', 'include', 'requests', 'rooms', 'view', 'car', 'park', 'favor', 'traffickers', 'allow', 'vet', 'clients', 'signs', 'trouble', 'check', 'cars', 'gauge', 'much', 'charge', 'awsarmmel', 'say', 'hotel', 'staff', 'often', 'notice', 'strange', 'behavior', 'girl', 'reticence', 'check', 'process', 'dependence', 'person', 'accompany', 'answer', 'questions', 'provide', 'proof', 'identity', 'cases', 'staff', 'ignore', 'signs', 'idea', 'tell', 'thomson', 'reuters', 'foundation', 'rescue', 'app', 'rescue', 'app', 'launch', 'couple', 'months', 'text', 'feature', 'hotel', 'staff', 'fill', 'details', 'include', 'room', 'numbers', 'send', 'alert', 'police', 'human', 'trafficking', 'world', 'fastest', 'grow', 'criminal', 'enterprise', 'worth', 'estimate', 'billion', 'year', 'accord', 'international', 'labor', 'organization', 'say', 'nearly', 'million', 'people', 'globally', 'victims', 'force', 'labor', 'trafficking', 'last', 'year', 'major', 'hotel', 'groups', 'include', 'hilton', 'shiva', 'hotels', 'pledge', 'examine', 'supply', 'chains', 'force', 'labor', 'train', 'staff', 'spot', 'report', 'signs', 'traffic', 'earlier', 'year', 'mexico', 'city', 'also', 'launch', 'initiative', 'train', 'hotel', 'staff', 'traffic', 'vijaya', 'rahatkar', 'chairwoman', 'maharashtra', 'state', 'women', 'commission', 'say', 'initiative', 'would', 'impact', 'beyond', 'state', 'alumni', 'group', 'contact', 'million', 'small', 'hotels', 'across', 'india', 'group', 'also', 'develop', 'train', 'module', 'traffic', 'hotel', 'staff', 'hospitality', 'students', 'could', 'use', 'across', 'country', 'also', 'readfyi', 'legal', 'revenge', 'child', 'sex', 'traffic', 'survivors', 'get', 'school', 'justice', 'fight', 'battlesmumbai', 'woman', 'dj', 'arrest', 'high', 'profile', 'sex', 'racket', 'case']\n",
      "\n"
     ]
    }
   ],
   "source": [
    "# Mostrar los primeros 5 documentos procesados\n",
    "for i, documento in enumerate(resultados[:5]):\n",
    "    print(f\"Documento {i+1}:\")\n",
    "    print(\" - Palabras:\", documento)\n",
    "    print()"
   ]
  },
  {
   "cell_type": "code",
   "execution_count": null,
   "id": "bb2cf2c2-a618-460d-b7fe-d1c6b435170e",
   "metadata": {},
   "outputs": [],
   "source": []
  }
 ],
 "metadata": {
  "kernelspec": {
   "display_name": "Python 3 (ipykernel)",
   "language": "python",
   "name": "python3"
  },
  "language_info": {
   "codemirror_mode": {
    "name": "ipython",
    "version": 3
   },
   "file_extension": ".py",
   "mimetype": "text/x-python",
   "name": "python",
   "nbconvert_exporter": "python",
   "pygments_lexer": "ipython3",
   "version": "3.9.12"
  }
 },
 "nbformat": 4,
 "nbformat_minor": 5
}
